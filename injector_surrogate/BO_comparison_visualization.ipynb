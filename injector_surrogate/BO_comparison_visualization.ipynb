{
 "cells": [
  {
   "cell_type": "code",
   "execution_count": 7,
   "source": [
    "import torch\n",
    "import botorch\n",
    "import numpy as np\n",
    "import matplotlib.pyplot as plt\n",
    "import matplotlib.ticker as ticker"
   ],
   "outputs": [],
   "metadata": {}
  },
  {
   "cell_type": "markdown",
   "source": [
    "# BO Comparison Visualization"
   ],
   "metadata": {}
  },
  {
   "cell_type": "code",
   "execution_count": 8,
   "source": [
    "opt_var_names = ['SOL1:solenoid_field_scale','CQ01:b1_gradient', 'SQ01:b1_gradient',\n",
    "                 \"QA01:b1_gradient\", \"QA02:b1_gradient\", \n",
    "                 \"QE01:b1_gradient\", \"QE02:b1_gradient\", \"QE03:b1_gradient\", \"QE04:b1_gradient\"]\n",
    "bounds = torch.as_tensor([[0.46, 0.485], [-0.02, 0.02], [-0.02, 0.02],\n",
    "                       [-4, -1], [1, 4],\n",
    "                       [-7,-1], [-1, 7],[-1, 7], [-7, 1]])"
   ],
   "outputs": [],
   "metadata": {}
  },
  {
   "cell_type": "markdown",
   "source": [
    "## Mean Curve and Std Error for Best -emittance*bmag "
   ],
   "metadata": {}
  },
  {
   "cell_type": "code",
   "execution_count": null,
   "source": [
    "# filenames = ['surr_const_model3_model4_2.0_50iter', 'surr_const_model3_model4_0.1_50iter'] # specify files to be visualized\n",
    "filenames = ['test']\n",
    "# for each file in filenames, plot best_y (best -emittance*bmag) mean and std error for each BO run\n",
    "fig, axes = plt.subplots(1, len(filenames), sharey=True)\n",
    "\n",
    "colors = ['C0','C2','C1','C3','C4']\n",
    "correlation = [0.547, 0.889, 0.0, 0.0] # calculated in priors_correlation_plots.ipynb \n",
    "models = ['Constant (Default)', 'Ground Truth', 'Model1', 'Model2', 'Model3']\n",
    "\n",
    "transformer_x = botorch.models.transforms.input.Normalize(9, bounds = bounds.transpose(0,1))\n",
    "\n",
    "for file_index, ax in enumerate(fig.axes):\n",
    "    if file_index >= len(filenames):\n",
    "        break\n",
    "        \n",
    "    # load BO data from dictionary \n",
    "    BO_data_dict = torch.load('./results/'+filenames[file_index]+'.pt')\n",
    "    x_configs = BO_data_dict['x_configs']\n",
    "    best_y_lists = BO_data_dict['best_y_lists']\n",
    "    BO_runs = BO_data_dict['BO_runs']\n",
    "    for i in range(2, len(BO_runs)):\n",
    "        BO_runs[i] = f'{models[i-2]} (Correlation with Ground Truth= {correlation[i-2]})'\n",
    "    run_BO = BO_data_dict['run_BO']\n",
    "\n",
    "    n_trials = len(best_y_lists[0])\n",
    "    n_steps = len(best_y_lists[3][0])\n",
    "    \n",
    "    ax.set_title(f'Mean and Standard Error of Best -Emittance*bmag per Iteration ({n_trials} Trials)', fontsize=21)\n",
    "    x = torch.arange(n_steps)\n",
    "    ax.set_xlabel('iteration', fontsize=20)\n",
    "    ax.set_ylabel('-emittance*bmag (mm-mrad)', fontsize=20)\n",
    "    ax.tick_params(axis='x', labelsize=20)\n",
    "    ax.tick_params(axis='y', labelsize=20)\n",
    "    \n",
    "    # for each run, plot the mean and std error \n",
    "    for i in range(len(BO_runs)):\n",
    "        if run_BO[i] == True:\n",
    "            best_y_list = torch.stack(best_y_lists[i], dim=0)\n",
    "            mean = torch.mean(best_y_list, dim=0).detach()\n",
    "            std_error = torch.std(best_y_list, dim=0).detach() / torch.sqrt(torch.tensor(n_trials))\n",
    "            ax.plot(x, mean, label=models[i], c = colors[i])\n",
    "            ax.fill_between(x, mean - 2*std_error, mean + 2*std_error, alpha=0.25, color = colors[i])\n",
    "            ax.yaxis.set_tick_params(which='both', labelbottom=True) # y axis is labelled\n",
    "    ax.legend(loc = 'lower right', fontsize=20)\n",
    "    \n",
    "fig.set_size_inches(15*len(filenames), 7.5)\n",
    "plt.figtext(0.271, -0.01, \"Beta = 2.0\", ha=\"left\", fontsize=25)\n",
    "plt.figtext(0.757, -0.01, \"Beta = 0.1\", ha=\"right\", fontsize=25)\n",
    "# fig.tight_layout()\n",
    "save_name = '-'.join(filenames)\n",
    "fig.savefig(f'BO-plots/{save_name}.png')\n"
   ],
   "outputs": [],
   "metadata": {}
  },
  {
   "cell_type": "markdown",
   "source": [
    "## Input Variable Value Changes Per Iteration"
   ],
   "metadata": {}
  },
  {
   "cell_type": "code",
   "execution_count": null,
   "source": [
    "# visualize input variable value changes per iteration for each run\n",
    "param_scan = False\n",
    "# param_scan_file = 'surr_const_model3_model4_2.0_50iter'\n",
    "param_scan_file = 'test'\n",
    "\n",
    "if param_scan == True:\n",
    "    param_scan_index = filenames.index(param_scan_file)\n",
    "\n",
    "    # load BO data from dictionary\n",
    "    BO_data_dict = torch.load('./results/'+filenames[param_scan_index]+'.pt')\n",
    "    x_configs = BO_data_dict['x_configs']\n",
    "    BO_runs = BO_data_dict['BO_runs']\n",
    "    run_BO = BO_data_dict['run_BO']\n",
    "\n",
    "    fig, axes = plt.subplots(len(BO_runs), 1)\n",
    "    fig.set_size_inches(2*len(BO_runs), 5*len(BO_runs))\n",
    "\n",
    "    for run_index, ax in enumerate(fig.axes):\n",
    "        if run_index >= len(x_configs):\n",
    "            break\n",
    "        \n",
    "        if run_BO[run_index] == True:\n",
    "            normed_x_config = transformer_x(x_configs[run_index])\n",
    "            # plot changes for each input variable for one run\n",
    "            for i in range(len(opt_var_names)):\n",
    "                ax.set_title(BO_runs[run_index])\n",
    "                ax.set_xlabel('iter')\n",
    "                ax.set_ylabel('value chosen by acq (normalized)')\n",
    "                ax.plot(normed_x_config[:,i], label = opt_var_names[i])\n",
    "                handles, labels = ax.get_legend_handles_labels()\n",
    "\n",
    "    fig.legend(handles, labels, bbox_to_anchor = (1.2,0.8))  \n",
    "    fig.savefig(f'BO-plots/{param_scan_file}_scan.png')"
   ],
   "outputs": [],
   "metadata": {}
  },
  {
   "cell_type": "code",
   "execution_count": null,
   "source": [],
   "outputs": [],
   "metadata": {}
  }
 ],
 "metadata": {
  "kernelspec": {
   "name": "python3",
   "display_name": "Python 3.8.13 64-bit ('baxenv': conda)"
  },
  "language_info": {
   "codemirror_mode": {
    "name": "ipython",
    "version": 3
   },
   "file_extension": ".py",
   "mimetype": "text/x-python",
   "name": "python",
   "nbconvert_exporter": "python",
   "pygments_lexer": "ipython3",
   "version": "3.8.13"
  },
  "interpreter": {
   "hash": "1b5f70a3ad72b4c9068574509e3a0dfc0f3358b3c11cb6bf99f482c84ce18336"
  }
 },
 "nbformat": 4,
 "nbformat_minor": 5
}