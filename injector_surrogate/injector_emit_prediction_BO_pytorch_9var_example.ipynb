{
 "cells": [
  {
   "cell_type": "code",
   "execution_count": 1,
   "id": "ed841451-2ad2-4a82-8b8d-e8cc8904736e",
   "metadata": {},
   "outputs": [],
   "source": [
    "#NN Surrogate model class\n",
    "import injector_surrogate_quads\n",
    "from injector_surrogate_quads import *\n",
    "import physics_gp\n",
    "\n",
    "sys.path.append('../configs')\n",
    "#Sim reference point to optimize around\n",
    "from ref_config import ref_point\n",
    "\n",
    "#Pytorch \n",
    "import numpy as np\n",
    "import torch\n",
    "import gpytorch\n",
    "import botorch "
   ]
  },
  {
   "cell_type": "markdown",
   "id": "37f9dd34-10e0-4915-accf-957a40d4f47b",
   "metadata": {},
   "source": [
    "# BO for Minimizing Emittance*Bmag with 9 Variables (SQ, CQ, SOL, matching quads)"
   ]
  },
  {
   "cell_type": "code",
   "execution_count": 2,
   "id": "72ef807c-db73-418f-adfb-66d40cc2124e",
   "metadata": {},
   "outputs": [
    {
     "name": "stderr",
     "output_type": "stream",
     "text": [
      "2022-06-27 17:22:50.344902: I tensorflow/core/platform/cpu_feature_guard.cc:142] This TensorFlow binary is optimized with oneAPI Deep Neural Network Library (oneDNN) to use the following CPU instructions in performance-critical operations:  SSE4.1 SSE4.2 AVX AVX2 FMA\n",
      "To enable them in other operations, rebuild TensorFlow with the appropriate compiler flags.\n"
     ]
    }
   ],
   "source": [
    "#load injector model\n",
    "Model = Surrogate_NN()\n",
    "\n",
    "Model.load_saved_model(model_path = '../models/', \\\n",
    "                       model_name = 'model_OTR2_NA_rms_emit_elu_2021-07-27T19_54_57-07_00')\n",
    "Model.load_scaling()\n",
    "Model.take_log_out = False"
   ]
  },
  {
   "cell_type": "markdown",
   "id": "5ee602f2-7593-4ddf-b836-2e7ce051d196",
   "metadata": {},
   "source": [
    "## Import design Twiss parameters (OTR2)"
   ]
  },
  {
   "cell_type": "code",
   "execution_count": 3,
   "id": "a2e7b392-8239-41c9-adbe-1c1f234db566",
   "metadata": {},
   "outputs": [
    {
     "name": "stdout",
     "output_type": "stream",
     "text": [
      "[1e-06, 1.113081026, -0.0689403587]\n",
      "[1e-06, 1.113021659, -0.07029489754]\n"
     ]
    }
   ],
   "source": [
    "beamline_info = json.load(open('../configs/beamline_info.json'))\n",
    "get_twiss0 = beamline_info['Twiss0']\n",
    "\n",
    "# emit, beta, alpha\n",
    "twiss0 = {'x': [get_twiss0[0], get_twiss0[2], get_twiss0[4]],\n",
    "          'y': [get_twiss0[1], get_twiss0[3], get_twiss0[5]]}\n",
    "\n",
    "beta0_x, alpha0_x = twiss0['x'][1], twiss0['x'][2]\n",
    "beta0_y, alpha0_y = twiss0['y'][1], twiss0['y'][2]\n",
    "print(twiss0['x'])\n",
    "print(twiss0['y'])"
   ]
  },
  {
   "cell_type": "markdown",
   "id": "5f5d0ea5-fda2-4658-bcc0-0f89757ffeb8",
   "metadata": {
    "tags": []
   },
   "source": [
    "## Objective Function"
   ]
  },
  {
   "cell_type": "code",
   "execution_count": 4,
   "id": "712a59e5-3b68-4c92-b4d8-fc7f122feec2",
   "metadata": {},
   "outputs": [],
   "source": [
    "# convert to machine units\n",
    "ref_point = Model.sim_to_machine(np.asarray(ref_point))\n",
    "\n",
    "# input params: solenoid and quads to vary \n",
    "opt_var_names = ['SOL1:solenoid_field_scale','CQ01:b1_gradient', 'SQ01:b1_gradient',\n",
    "                 \"QA01:b1_gradient\", \"QA02:b1_gradient\", \n",
    "                 \"QE01:b1_gradient\", \"QE02:b1_gradient\", \"QE03:b1_gradient\", \"QE04:b1_gradient\"]\n",
    "bounds = torch.tensor([[0.46, 0.485], [-0.02, 0.02], [-0.02, 0.02],\n",
    "                       [-4, -1], [1, 4],\n",
    "                       [-7,-1], [-1, 7],[-1, 7], [-7, 1]])\n",
    "\n",
    "# output params: emittance in transverse plane (x & y)\n",
    "opt_out_names = ['norm_emit_x','norm_emit_y']\n",
    "\n",
    "def evaluate(config): \n",
    "    \"\"\"\n",
    "    D is input space dimensionality\n",
    "    :param config: input values of opt_var_names, torch.tensor, shape (1, D) \n",
    "    \"\"\"\n",
    "    #make input array of length model_in_list (inputs model takes)\n",
    "    x_in = np.empty((1,len(Model.model_in_list)))\n",
    "\n",
    "    #fill in reference point around which to optimize\n",
    "    x_in[:,:] = np.asarray(ref_point[0])\n",
    "\n",
    "    #set solenoid, CQ, SQ, matching quads to values from optimization step\n",
    "    for i in range(config.size(dim=0)):\n",
    "        x_in[:, Model.loc_in[opt_var_names[i]]] = config[i]\n",
    "\n",
    "    #output predictions\n",
    "    y_out = Model.pred_machine_units(x_in) \n",
    "\n",
    "    return -1*objective(y_out)[0]\n",
    "\n",
    "\n",
    "def objective(y_out):\n",
    "    # output is emittance * bmag \n",
    "    \n",
    "    # geometric emittance in transverse plane\n",
    "    out1 = y_out[:, Model.loc_out['norm_emit_x']] #grab norm_emit_x out of the model\n",
    "    out2 = y_out[:, Model.loc_out['norm_emit_y']] #grab norm_emit_y out of the model\n",
    "    emit = np.sqrt(out1 * out2)\n",
    "  \n",
    "    sigma_x = y_out[:, Model.loc_out['sigma_x']] #grab sigma_x out of the model \n",
    "    sigma_y = y_out[:, Model.loc_out['sigma_y']] #grab sigma_y out of the model \n",
    "    \n",
    "    # real beta and alpha \n",
    "    # NEEDS TO BE FIXED - currently assuming real alpha to be the same as design alpha \n",
    "    alpha_x, alpha_y = alpha0_x, alpha0_y\n",
    "    beta_x, beta_y = (sigma_x**2) / out1, (sigma_y**2) / out2\n",
    "    \n",
    "    # bmag \n",
    "    bmag_x = 0.5 * ((beta0_x / beta_x) + (beta_x / beta0_x)) + 0.5 * ((alpha_x * np.sqrt(beta0_x / beta_x) - alpha0_x * np.sqrt(beta_x / beta0_x))**2)\n",
    "    bmag_y = 0.5 * ((beta0_y / beta_y) + (beta_y / beta0_y)) + 0.5 * ((alpha_y * np.sqrt(beta0_y / beta_y) - alpha0_y * np.sqrt(beta_y / beta0_y))**2)\n",
    "    bmag = np.sqrt(bmag_x * bmag_y)\n",
    "    #print(f'bmag: {bmag} emit: {emit}') \n",
    "    \n",
    "    return (emit * bmag)/1e-6 # in um units \n",
    "    #return np.sqrt(out1*out2)/1e-6 # in um units"
   ]
  },
  {
   "cell_type": "markdown",
   "id": "95895f93-be9f-4fd1-b50c-ba4d488269bb",
   "metadata": {},
   "source": [
    "## Gaussian Regression & Acquisition Function"
   ]
  },
  {
   "cell_type": "code",
   "execution_count": 5,
   "id": "3579279b-21fd-4afc-b7b3-33b0fd38ce84",
   "metadata": {},
   "outputs": [],
   "source": [
    "def get_BO_point(x, f, bounds, beta=2.5, mean_module=None, input_transform=None, outcome_transform=None, precision = None, phys=False):\n",
    "    \"\"\"\n",
    "    function that trains a GP model of data and returns the next observation point using UCB\n",
    "    D is input space dimensionality\n",
    "    N is number of samples\n",
    "\n",
    "    :param x: input points data, torch.tensor, shape (N,D)\n",
    "    :param f: output point data, torch.tensor, shape (N,1)\n",
    "    :param bounds: input space bounds, torch.tensor, shape (2,D)\n",
    "    :param precision: precision matrix used for RBF kernel (must be PSD), torch.tensor, (D,D)\n",
    "    :param beta: UCB optimization parameter, float\n",
    "    :return x_candidate, model: next observation point and gp model w/observations\n",
    "    \"\"\"\n",
    "    \n",
    "    likelihood = gpytorch.likelihoods.GaussianLikelihood()\n",
    "    \n",
    "    if phys == True:\n",
    "        gp = physics_gp.PhysicsExactGPModel(x, f.flatten(), likelihood, precision)\n",
    "    else:\n",
    "        gp = botorch.models.SingleTaskGP(x, f, likelihood=likelihood, \n",
    "                                         mean_module=mean_module, \n",
    "                                         outcome_transform=outcome_transform, \n",
    "                                         input_transform=input_transform)\n",
    "        \n",
    "    mll = gpytorch.mlls.ExactMarginalLogLikelihood(gp.likelihood, gp)\n",
    "    \n",
    "    # fit GP hyperparameters\n",
    "    botorch.fit.fit_gpytorch_model(mll)\n",
    "\n",
    "    # do UCB acquisition\n",
    "    UCB = botorch.acquisition.UpperConfidenceBound(gp, beta=beta)\n",
    "    candidate, acq_value = botorch.optim.optimize_acqf(UCB,\n",
    "                                                       bounds=bounds,\n",
    "                                                       q=1,\n",
    "                                                       num_restarts=20,\n",
    "                                                       raw_samples=20)\n",
    "    return candidate, gp"
   ]
  },
  {
   "cell_type": "markdown",
   "id": "cab76dc5-7177-4a05-8133-4639cf66ae38",
   "metadata": {},
   "source": [
    "## Set up initial training samples"
   ]
  },
  {
   "cell_type": "code",
   "execution_count": 6,
   "id": "ab8e2cc5-715b-415d-a9c4-3d92e183d34f",
   "metadata": {},
   "outputs": [
    {
     "name": "stdout",
     "output_type": "stream",
     "text": [
      "tensor([[ 4.7461e-01,  1.5283e-02, -1.6077e-02, -1.5335e+00,  1.9540e+00,\n",
      "         -5.0741e+00,  3.9297e+00,  4.6886e+00, -1.9923e+00],\n",
      "        [ 4.6882e-01,  9.6068e-03,  1.8685e-03, -3.0921e+00,  2.5592e+00,\n",
      "         -4.0247e+00,  4.8338e+00,  2.4705e+00,  7.8012e-01],\n",
      "        [ 4.6593e-01,  1.5669e-02,  1.0070e-02, -1.6309e+00,  2.2629e+00,\n",
      "         -2.6205e+00,  6.0606e+00,  2.5648e+00,  8.5917e-01],\n",
      "        [ 4.7787e-01,  1.3221e-02,  8.9130e-03, -3.6445e+00,  2.1859e+00,\n",
      "         -6.8279e+00,  2.6395e+00, -4.4129e-01,  3.9444e-01],\n",
      "        [ 4.7177e-01, -8.3972e-03, -8.9095e-03, -1.2805e+00,  3.4294e+00,\n",
      "         -1.8193e+00,  3.4236e+00,  1.2174e+00, -2.3277e+00]])\n"
     ]
    },
    {
     "name": "stderr",
     "output_type": "stream",
     "text": [
      "2022-06-27 17:22:50.776301: I tensorflow/compiler/mlir/mlir_graph_optimization_pass.cc:116] None of the MLIR optimization passes are enabled (registered 2)\n",
      "2022-06-27 17:22:50.782908: I tensorflow/core/platform/profile_utils/cpu_utils.cc:112] CPU Frequency: 1996350000 Hz\n"
     ]
    },
    {
     "name": "stdout",
     "output_type": "stream",
     "text": [
      "tensor([[ -3.0934],\n",
      "        [ -1.9115],\n",
      "        [-15.7657],\n",
      "        [ -1.7430],\n",
      "        [ -3.4508]], dtype=torch.float64)\n"
     ]
    }
   ],
   "source": [
    "#create initial samples within specified bounds\n",
    "n_samples = 5\n",
    "n_var = 9\n",
    "\n",
    "train_x = torch.zeros((n_samples, n_var)) \n",
    "for i in range(n_var):\n",
    "    train_x[:,i] = torch.as_tensor(np.random.uniform(bounds[i,0],bounds[i,1],(n_samples,)))\n",
    "print(train_x)\n",
    "\n",
    "train_y = torch.tensor([evaluate(vars) for vars in train_x]).reshape(-1,1)\n",
    "print(train_y)\n",
    "\n",
    "#transformer \n",
    "transformer_x = botorch.models.transforms.input.Normalize(n_var, bounds = bounds.transpose(0,1))\n",
    "transformer_y = botorch.models.transforms.outcome.Standardize(1)\n",
    "\n",
    "normed_bounds = torch.cat((torch.zeros(1,n_var), torch.ones(1,n_var)), 0)"
   ]
  },
  {
   "cell_type": "markdown",
   "id": "90a7ebe7-3652-467a-aabd-9c285ecc7dde",
   "metadata": {
    "tags": []
   },
   "source": [
    "## Bayesian Optimization"
   ]
  },
  {
   "cell_type": "code",
   "execution_count": 7,
   "id": "12f08ef8-0cde-4c86-8e5b-57c8ac264e3b",
   "metadata": {},
   "outputs": [],
   "source": [
    "def BayesianOptimization(train_x, train_y, n_steps, prior = None, phys = False):\n",
    "    best_y = torch.max(train_y)\n",
    "    for i in range(n_steps):\n",
    "        if (phys == True):\n",
    "            normed_train_x = transformer_x.forward(train_x) \n",
    "            normed_train_y = transformer_y.forward(train_y)[0]\n",
    "\n",
    "            x_new, model = get_BO_point(normed_train_x, normed_train_y, \n",
    "                                        bounds=normed_bounds, \n",
    "                                        phys=phys)\n",
    "\n",
    "            train_x = torch.cat((train_x, transformer_x.untransform(x_new)))\n",
    "            new_y = torch.tensor(evaluate(train_x[-1])).reshape(1,1)\n",
    "            train_y = torch.cat((train_y, new_y))\n",
    "        else:\n",
    "            x_new, model = get_BO_point(train_x, train_y, \n",
    "                                        bounds=bounds.transpose(0,1), \n",
    "                                        mean_module=prior, \n",
    "                                        input_transform=transformer_x, \n",
    "                                        outcome_transform=transformer_y, \n",
    "                                        phys=phys)\n",
    "\n",
    "            train_x = torch.cat((train_x, x_new))\n",
    "            new_y = torch.tensor(evaluate(train_x[-1])).reshape(1,1)\n",
    "            train_y = torch.cat((train_y, new_y))\n",
    "\n",
    "        if (new_y > best_y):\n",
    "            best_y = new_y\n",
    "            color = '\\033[95m', '\\033[0m'\n",
    "        else: \n",
    "            color = '\\u001b[30m', '\\033[0m'\n",
    "\n",
    "        print(\"iter     target       SOL        CQ        SQ        QA1        QA2        Q1        Q2        Q3        Q4\")\n",
    "        print(f'{color[0]}{i+1}      {train_y[-1,0]:.5f}   {train_x[-1,0]:.5f}   {train_x[-1,1]:.5f}   {train_x[-1,2]:.5f}   {train_x[-1,3]:.5f}   {train_x[-1,4]:.5f}   {train_x[-1,5]:.5f}   {train_x[-1,6]:.5f}   {train_x[-1,7]:.5f}   {train_x[-1,8]:.5f}{color[1]}')"
   ]
  },
  {
   "cell_type": "code",
   "execution_count": 8,
   "id": "4ee62231-5be3-4d31-9b57-b4381e23187d",
   "metadata": {},
   "outputs": [
    {
     "name": "stdout",
     "output_type": "stream",
     "text": [
      "iter     target       SOL        CQ        SQ        QA1        QA2        Q1        Q2        Q3        Q4\n",
      "\u001b[30m1      -6.89511   0.47371   0.00818   -0.00208   -3.69794   2.52588   -5.59964   3.44617   1.74433   0.28771\u001b[0m\n",
      "iter     target       SOL        CQ        SQ        QA1        QA2        Q1        Q2        Q3        Q4\n",
      "\u001b[30m2      -3.68145   0.48113   0.02000   0.02000   -3.40272   1.77249   -7.00000   2.21540   -1.00000   0.82283\u001b[0m\n",
      "iter     target       SOL        CQ        SQ        QA1        QA2        Q1        Q2        Q3        Q4\n",
      "\u001b[30m3      -3.31950   0.47306   0.00980   0.01940   -3.42855   2.49038   -7.00000   2.62067   -1.00000   -1.03785\u001b[0m\n",
      "iter     target       SOL        CQ        SQ        QA1        QA2        Q1        Q2        Q3        Q4\n",
      "\u001b[30m4      -4.28714   0.48351   0.00792   0.01347   -4.00000   2.36343   -7.00000   1.30827   -1.00000   -0.62954\u001b[0m\n",
      "iter     target       SOL        CQ        SQ        QA1        QA2        Q1        Q2        Q3        Q4\n",
      "\u001b[95m5      -1.29313   0.47471   0.00855   0.01245   -3.52649   1.45301   -7.00000   4.15846   -1.00000   1.00000\u001b[0m\n",
      "iter     target       SOL        CQ        SQ        QA1        QA2        Q1        Q2        Q3        Q4\n",
      "\u001b[30m6      -9.52132   0.47669   0.01597   0.01167   -3.40605   2.27842   -7.00000   5.61293   -1.00000   1.00000\u001b[0m\n",
      "iter     target       SOL        CQ        SQ        QA1        QA2        Q1        Q2        Q3        Q4\n",
      "\u001b[30m7      -2.18101   0.47397   0.00696   0.01153   -3.58882   1.29621   -7.00000   2.21435   -0.98644   0.67159\u001b[0m\n",
      "iter     target       SOL        CQ        SQ        QA1        QA2        Q1        Q2        Q3        Q4\n",
      "\u001b[30m8      -1.64165   0.47784   0.00601   0.01832   -3.70631   1.43573   -6.35926   3.33236   0.31026   0.47442\u001b[0m\n",
      "iter     target       SOL        CQ        SQ        QA1        QA2        Q1        Q2        Q3        Q4\n",
      "\u001b[30m9      -2.30827   0.47756   0.01099   0.01148   -3.78491   1.23999   -7.00000   3.44074   -1.00000   -1.11119\u001b[0m\n",
      "iter     target       SOL        CQ        SQ        QA1        QA2        Q1        Q2        Q3        Q4\n",
      "\u001b[30m10      -2.41263   0.48040   0.00289   0.01153   -3.29505   1.57249   -7.00000   3.15575   -0.96020   0.67306\u001b[0m\n",
      "iter     target       SOL        CQ        SQ        QA1        QA2        Q1        Q2        Q3        Q4\n",
      "\u001b[30m11      -2.16118   0.47351   0.01011   0.01281   -3.41282   1.39606   -5.61339   3.26984   -1.00000   0.70187\u001b[0m\n",
      "iter     target       SOL        CQ        SQ        QA1        QA2        Q1        Q2        Q3        Q4\n",
      "\u001b[30m12      -1.62214   0.47398   0.00595   0.01520   -4.00000   1.79283   -7.00000   3.26605   -1.00000   1.00000\u001b[0m\n",
      "iter     target       SOL        CQ        SQ        QA1        QA2        Q1        Q2        Q3        Q4\n",
      "\u001b[30m13      -1.40777   0.47025   0.00117   0.01539   -3.58628   1.05669   -7.00000   3.89368   -0.14897   0.54720\u001b[0m\n",
      "iter     target       SOL        CQ        SQ        QA1        QA2        Q1        Q2        Q3        Q4\n",
      "\u001b[30m14      -1.36480   0.47120   0.01280   0.01384   -3.59068   1.38104   -7.00000   3.28320   0.75532   1.00000\u001b[0m\n",
      "iter     target       SOL        CQ        SQ        QA1        QA2        Q1        Q2        Q3        Q4\n",
      "\u001b[30m15      -1.73546   0.47571   0.00548   0.00868   -3.83018   1.00000   -6.85360   3.68428   0.12501   1.00000\u001b[0m\n",
      "iter     target       SOL        CQ        SQ        QA1        QA2        Q1        Q2        Q3        Q4\n",
      "\u001b[30m16      -2.14160   0.47327   0.01092   0.01932   -3.69963   1.00000   -7.00000   3.57773   -1.00000   1.00000\u001b[0m\n",
      "iter     target       SOL        CQ        SQ        QA1        QA2        Q1        Q2        Q3        Q4\n",
      "\u001b[30m17      -2.00524   0.46841   0.00487   0.00890   -3.49225   1.63721   -7.00000   3.40934   -1.00000   1.00000\u001b[0m\n",
      "iter     target       SOL        CQ        SQ        QA1        QA2        Q1        Q2        Q3        Q4\n",
      "\u001b[95m18      -0.82627   0.47378   0.00600   0.01207   -3.16799   1.00000   -6.73104   3.76658   1.01468   1.00000\u001b[0m\n",
      "iter     target       SOL        CQ        SQ        QA1        QA2        Q1        Q2        Q3        Q4\n",
      "\u001b[30m19      -3.04790   0.46918   0.00208   0.01445   -3.26463   1.30878   -5.64278   4.10121   2.14345   1.00000\u001b[0m\n",
      "iter     target       SOL        CQ        SQ        QA1        QA2        Q1        Q2        Q3        Q4\n",
      "\u001b[30m20      -1.60445   0.47270   0.00771   0.01290   -3.13310   1.22987   -7.00000   3.43726   0.68106   -0.83249\u001b[0m\n"
     ]
    }
   ],
   "source": [
    "# constant prior mean\n",
    "BayesianOptimization(train_x, train_y, 20, prior = None, phys = False) "
   ]
  },
  {
   "cell_type": "markdown",
   "id": "c2474164-6fb1-4891-be6a-d74a57d65a3a",
   "metadata": {},
   "source": [
    "### use NN as prior mean"
   ]
  },
  {
   "cell_type": "code",
   "execution_count": 9,
   "id": "3c9a950e-7da0-4c8c-8f01-42becd03cb1d",
   "metadata": {},
   "outputs": [],
   "source": [
    "# model \n",
    "import torch.nn as nn\n",
    "class NN_prior(nn.Module):\n",
    "    def __init__(self):\n",
    "        super(NN_prior, self).__init__()\n",
    "        \n",
    "        hidden_size = 20\n",
    "        self.network = nn.Sequential(nn.Linear(n_var, hidden_size), \n",
    "                                     nn.Tanh(), \n",
    "                                     nn.Linear(hidden_size, hidden_size), \n",
    "                                     nn.Tanh(),\n",
    "                                     nn.Linear(hidden_size, 1))\n",
    "        \n",
    "    def forward(self, x):\n",
    "        x = self.network(x)\n",
    "        return x \n",
    "\n",
    "# create prior mean\n",
    "from gpytorch.means.mean import Mean\n",
    "def CustomMean(Mean):\n",
    "    def __init__(self, name):\n",
    "        self.NN_model = NN_prior()\n",
    "        self.NN_model.load_state_dict(torch.load('./results/' + name + '.pth'))\n",
    "        self.NN_model.eval()\n",
    "    \n",
    "    def forward(self, x):\n",
    "        return self.NN_model(x)"
   ]
  },
  {
   "cell_type": "code",
   "execution_count": 10,
   "id": "1ebbc21f-d06c-444a-a1e8-c1cf3bae9298",
   "metadata": {},
   "outputs": [
    {
     "name": "stdout",
     "output_type": "stream",
     "text": [
      "iter     target       SOL        CQ        SQ        QA1        QA2        Q1        Q2        Q3        Q4\n",
      "\u001b[30m1      -6.53102   0.47370   0.00820   -0.00194   -3.70371   2.55934   -5.57111   3.42076   1.71289   0.22847\u001b[0m\n",
      "iter     target       SOL        CQ        SQ        QA1        QA2        Q1        Q2        Q3        Q4\n",
      "\u001b[30m2      -3.51279   0.48054   0.02000   0.02000   -3.42665   1.66653   -7.00000   2.58948   -1.00000   1.00000\u001b[0m\n",
      "iter     target       SOL        CQ        SQ        QA1        QA2        Q1        Q2        Q3        Q4\n",
      "\u001b[30m3      -1.78472   0.47222   0.01046   0.01860   -3.24641   2.61971   -7.00000   3.22016   -1.00000   0.58399\u001b[0m\n",
      "iter     target       SOL        CQ        SQ        QA1        QA2        Q1        Q2        Q3        Q4\n",
      "\u001b[95m4      -1.60678   0.47900   0.00855   0.01897   -3.50058   2.73528   -7.00000   1.28351   -1.00000   -0.97003\u001b[0m\n",
      "iter     target       SOL        CQ        SQ        QA1        QA2        Q1        Q2        Q3        Q4\n",
      "\u001b[30m5      -4.52559   0.47166   0.01970   0.01647   -3.73802   2.54555   -7.00000   1.60168   -1.00000   -1.09923\u001b[0m\n",
      "iter     target       SOL        CQ        SQ        QA1        QA2        Q1        Q2        Q3        Q4\n",
      "\u001b[95m6      -1.04668   0.48153   0.00267   0.01456   -3.17802   2.47612   -7.00000   2.79801   -1.00000   1.00000\u001b[0m\n",
      "iter     target       SOL        CQ        SQ        QA1        QA2        Q1        Q2        Q3        Q4\n",
      "\u001b[30m7      -1.27434   0.48011   0.00270   0.01964   -3.81554   2.49375   -7.00000   3.92919   -1.00000   0.15490\u001b[0m\n",
      "iter     target       SOL        CQ        SQ        QA1        QA2        Q1        Q2        Q3        Q4\n",
      "\u001b[30m8      -1.50342   0.47572   -0.00175   0.01642   -3.44640   1.88873   -7.00000   2.12582   -1.00000   -0.16252\u001b[0m\n",
      "iter     target       SOL        CQ        SQ        QA1        QA2        Q1        Q2        Q3        Q4\n",
      "\u001b[30m9      -2.70072   0.48008   0.00535   0.01391   -3.16705   2.33131   -7.00000   4.11891   -1.00000   -1.60978\u001b[0m\n",
      "iter     target       SOL        CQ        SQ        QA1        QA2        Q1        Q2        Q3        Q4\n",
      "\u001b[95m10      -1.03834   0.47860   0.00272   0.02000   -3.50366   2.52771   -7.00000   2.18177   0.88903   1.00000\u001b[0m\n",
      "iter     target       SOL        CQ        SQ        QA1        QA2        Q1        Q2        Q3        Q4\n",
      "\u001b[95m11      -0.67413   0.47646   -0.00114   0.01216   -3.76160   2.98889   -7.00000   1.85300   -1.00000   1.00000\u001b[0m\n",
      "iter     target       SOL        CQ        SQ        QA1        QA2        Q1        Q2        Q3        Q4\n",
      "\u001b[30m12      -0.75821   0.47794   0.00054   0.02000   -3.52030   2.75793   -6.44847   1.95255   -1.00000   1.00000\u001b[0m\n",
      "iter     target       SOL        CQ        SQ        QA1        QA2        Q1        Q2        Q3        Q4\n",
      "\u001b[30m13      -4.92093   0.48417   0.00024   0.01367   -3.84084   2.37635   -7.00000   1.02696   -1.00000   1.00000\u001b[0m\n",
      "iter     target       SOL        CQ        SQ        QA1        QA2        Q1        Q2        Q3        Q4\n",
      "\u001b[30m14      -1.11115   0.47633   -0.00273   0.01636   -3.34057   3.25145   -7.00000   3.66705   -0.62107   0.99888\u001b[0m\n",
      "iter     target       SOL        CQ        SQ        QA1        QA2        Q1        Q2        Q3        Q4\n",
      "\u001b[30m15      -1.02438   0.47845   0.01015   0.01532   -3.51518   3.25080   -7.00000   3.02237   -1.00000   1.00000\u001b[0m\n",
      "iter     target       SOL        CQ        SQ        QA1        QA2        Q1        Q2        Q3        Q4\n",
      "\u001b[30m16      -0.89301   0.47570   0.00241   0.01249   -3.09026   2.90697   -7.00000   1.14634   -0.61718   1.00000\u001b[0m\n",
      "iter     target       SOL        CQ        SQ        QA1        QA2        Q1        Q2        Q3        Q4\n",
      "\u001b[30m17      -0.80033   0.47658   0.00262   0.01341   -3.27233   2.48413   -6.66673   3.36156   -1.00000   1.00000\u001b[0m\n",
      "iter     target       SOL        CQ        SQ        QA1        QA2        Q1        Q2        Q3        Q4\n",
      "\u001b[30m18      -0.80650   0.47666   0.00264   0.02000   -3.41988   2.66440   -7.00000   2.36007   -1.00000   1.00000\u001b[0m\n",
      "iter     target       SOL        CQ        SQ        QA1        QA2        Q1        Q2        Q3        Q4\n",
      "\u001b[30m19      -1.28579   0.47569   -0.00057   0.01587   -3.42722   3.23198   -6.06632   1.87913   0.33778   -0.29526\u001b[0m\n",
      "iter     target       SOL        CQ        SQ        QA1        QA2        Q1        Q2        Q3        Q4\n",
      "\u001b[30m20      -1.81474   0.47363   -0.00245   0.01890   -3.89404   2.82316   -6.33022   3.78390   -0.26904   1.00000\u001b[0m\n"
     ]
    }
   ],
   "source": [
    "NN_prior_mean = CustomMean('model1')\n",
    "BayesianOptimization(train_x, train_y, 20, prior = NN_prior_mean, phys = False)"
   ]
  },
  {
   "cell_type": "code",
   "execution_count": 11,
   "id": "a6448337-8ec1-48f0-bbae-5cd1106dbf8e",
   "metadata": {},
   "outputs": [
    {
     "data": {
      "text/plain": [
       "'\\n#define acquisition function\\nfrom botorch.acquisition.analytic import UpperConfidenceBound, ExpectedImprovement\\nfrom botorch.optim import optimize_acqf\\n\\n#optimize\\nn_steps = 45\\nfor i in range(n_steps):\\n    #best_normed_y = torch.max(normed_train_y)\\n    UCB = UpperConfidenceBound(gp, beta=2.5)\\n    #EI = ExpectedImprovement(gp, best_normed_y)\\n\\n    bounds = torch.cat((torch.zeros(1,3), torch.ones(1,3)), 0)\\n    candidate, acq_value = optimize_acqf(UCB, bounds = bounds, num_restarts = 20, q = 1, raw_samples = 20)\\n\\n    train_x = torch.cat((train_x, transformer_x.backward(candidate)))\\n    normed_train_x = transformer_x.forward(train_x)\\n\\n    new_y = torch.tensor(evaluate(train_x[-1][0], train_x[-1][1], train_x[-1][2])).reshape(1,1)\\n    train_y = torch.cat((train_y, new_y))\\n    \\n    print(\"iteration        target         varx         vary         varz\")\\n    print(f\\'{i+1}              {train_y[-1][0]:.5f}      {train_x[-1][0]:.5f}      {train_x[-1][1]:.5f}      {train_x[-1][2]:.5f}\\')\\n    print(torch.max(train_y))\\n    \\n    transformer_y = transformer.Transformer(train_y, \\'standardize\\')\\n    normed_train_y = transformer_y.forward(train_y)\\n\\n    gp = SingleTaskGP(normed_train_x, normed_train_y)\\n    mll = ExactMarginalLogLikelihood(gp.likelihood, gp)\\n    fit_gpytorch_model(mll);\\n'"
      ]
     },
     "execution_count": 11,
     "metadata": {},
     "output_type": "execute_result"
    }
   ],
   "source": [
    "\"\"\"\n",
    "#define acquisition function\n",
    "from botorch.acquisition.analytic import UpperConfidenceBound, ExpectedImprovement\n",
    "from botorch.optim import optimize_acqf\n",
    "\n",
    "#optimize\n",
    "n_steps = 45\n",
    "for i in range(n_steps):\n",
    "    #best_normed_y = torch.max(normed_train_y)\n",
    "    UCB = UpperConfidenceBound(gp, beta=2.5)\n",
    "    #EI = ExpectedImprovement(gp, best_normed_y)\n",
    "\n",
    "    bounds = torch.cat((torch.zeros(1,3), torch.ones(1,3)), 0)\n",
    "    candidate, acq_value = optimize_acqf(UCB, bounds = bounds, num_restarts = 20, q = 1, raw_samples = 20)\n",
    "\n",
    "    train_x = torch.cat((train_x, transformer_x.backward(candidate)))\n",
    "    normed_train_x = transformer_x.forward(train_x)\n",
    "\n",
    "    new_y = torch.tensor(evaluate(train_x[-1][0], train_x[-1][1], train_x[-1][2])).reshape(1,1)\n",
    "    train_y = torch.cat((train_y, new_y))\n",
    "    \n",
    "    print(\"iteration        target         varx         vary         varz\")\n",
    "    print(f'{i+1}              {train_y[-1][0]:.5f}      {train_x[-1][0]:.5f}      {train_x[-1][1]:.5f}      {train_x[-1][2]:.5f}')\n",
    "    print(torch.max(train_y))\n",
    "    \n",
    "    transformer_y = transformer.Transformer(train_y, 'standardize')\n",
    "    normed_train_y = transformer_y.forward(train_y)\n",
    "\n",
    "    gp = SingleTaskGP(normed_train_x, normed_train_y)\n",
    "    mll = ExactMarginalLogLikelihood(gp.likelihood, gp)\n",
    "    fit_gpytorch_model(mll);\n",
    "\"\"\""
   ]
  },
  {
   "cell_type": "code",
   "execution_count": null,
   "id": "39cfb5ca-1288-468e-b19d-8360a35c94a3",
   "metadata": {},
   "outputs": [],
   "source": []
  }
 ],
 "metadata": {
  "kernelspec": {
   "display_name": "Python 3 (ipykernel)",
   "language": "python",
   "name": "python3"
  },
  "language_info": {
   "codemirror_mode": {
    "name": "ipython",
    "version": 3
   },
   "file_extension": ".py",
   "mimetype": "text/x-python",
   "name": "python",
   "nbconvert_exporter": "python",
   "pygments_lexer": "ipython3",
   "version": "3.7.13"
  }
 },
 "nbformat": 4,
 "nbformat_minor": 5
}
