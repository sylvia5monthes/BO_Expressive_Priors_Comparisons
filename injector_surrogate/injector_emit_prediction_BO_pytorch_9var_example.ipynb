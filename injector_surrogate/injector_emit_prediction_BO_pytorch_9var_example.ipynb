{
 "cells": [
  {
   "cell_type": "code",
   "execution_count": 1,
   "id": "ed841451-2ad2-4a82-8b8d-e8cc8904736e",
   "metadata": {},
   "outputs": [],
   "source": [
    "#NN Surrogate model class\n",
    "import injector_surrogate_quads\n",
    "from injector_surrogate_quads import *\n",
    "import physics_gp\n",
    "\n",
    "sys.path.append('../configs')\n",
    "#Sim reference point to optimize around\n",
    "from ref_config import ref_point\n",
    "\n",
    "#Pytorch \n",
    "import numpy as np\n",
    "import torch\n",
    "import transformer\n",
    "import gpytorch\n",
    "import botorch "
   ]
  },
  {
   "cell_type": "markdown",
   "id": "37f9dd34-10e0-4915-accf-957a40d4f47b",
   "metadata": {},
   "source": [
    "# BO for Minimizing Emittance*Bmag with 9 Variables (SQ, CQ, SOL, matching quads)"
   ]
  },
  {
   "cell_type": "code",
   "execution_count": 2,
   "id": "72ef807c-db73-418f-adfb-66d40cc2124e",
   "metadata": {},
   "outputs": [
    {
     "name": "stderr",
     "output_type": "stream",
     "text": [
      "2022-06-14 12:37:14.105586: I tensorflow/core/platform/cpu_feature_guard.cc:142] This TensorFlow binary is optimized with oneAPI Deep Neural Network Library (oneDNN) to use the following CPU instructions in performance-critical operations:  SSE4.1 SSE4.2 AVX AVX2 FMA\n",
      "To enable them in other operations, rebuild TensorFlow with the appropriate compiler flags.\n"
     ]
    }
   ],
   "source": [
    "#load injector model\n",
    "Model = Surrogate_NN()\n",
    "\n",
    "Model.load_saved_model(model_path = '../models/', \\\n",
    "                       model_name = 'model_OTR2_NA_rms_emit_elu_2021-07-27T19_54_57-07_00')\n",
    "Model.load_scaling()\n",
    "Model.take_log_out = False"
   ]
  },
  {
   "cell_type": "markdown",
   "id": "5ee602f2-7593-4ddf-b836-2e7ce051d196",
   "metadata": {},
   "source": [
    "## Import design Twiss parameters (OTR2)"
   ]
  },
  {
   "cell_type": "code",
   "execution_count": 3,
   "id": "a2e7b392-8239-41c9-adbe-1c1f234db566",
   "metadata": {},
   "outputs": [
    {
     "name": "stdout",
     "output_type": "stream",
     "text": [
      "[1e-06, 1.113081026, -0.0689403587]\n",
      "[1e-06, 1.113021659, -0.07029489754]\n"
     ]
    }
   ],
   "source": [
    "beamline_info = json.load(open('../configs/beamline_info.json'))\n",
    "get_twiss0 = beamline_info['Twiss0']\n",
    "# emit, beta, alpha\n",
    "twiss0 = {'x': [get_twiss0[0], get_twiss0[2], get_twiss0[4]],\n",
    "          'y': [get_twiss0[1], get_twiss0[3], get_twiss0[5]]}\n",
    "\n",
    "beta0_x, alpha0_x = twiss0['x'][1], twiss0['x'][2]\n",
    "beta0_y, alpha0_y = twiss0['y'][1], twiss0['y'][2]\n",
    "print(twiss0['x'])\n",
    "print(twiss0['y'])"
   ]
  },
  {
   "cell_type": "markdown",
   "id": "5f5d0ea5-fda2-4658-bcc0-0f89757ffeb8",
   "metadata": {
    "tags": []
   },
   "source": [
    "## Objective Function"
   ]
  },
  {
   "cell_type": "code",
   "execution_count": 4,
   "id": "712a59e5-3b68-4c92-b4d8-fc7f122feec2",
   "metadata": {},
   "outputs": [],
   "source": [
    "# convert to machine units\n",
    "ref_point = Model.sim_to_machine(np.asarray(ref_point))\n",
    "\n",
    "# input params: solenoid and quads to vary \n",
    "opt_var_names = ['SOL1:solenoid_field_scale','CQ01:b1_gradient', 'SQ01:b1_gradient',\n",
    "                 \"QA01:b1_gradient\", \"QA02:b1_gradient\", \n",
    "                 \"QE01:b1_gradient\", \"QE02:b1_gradient\", \"QE03:b1_gradient\", \"QE04:b1_gradient\"]\n",
    "\n",
    "# output params: emittance in transverse plane (x & y)\n",
    "opt_out_names = ['norm_emit_x','norm_emit_y']\n",
    "\n",
    "def evaluate(varx, vary, varz, var1, var2, var3, var4, var5, var6): \n",
    "    \"\"\"\n",
    "    vars: sol, cq, sq, qa1, qa2, q1, q2, q3, q4\n",
    "    \"\"\" \n",
    "    # make input array of length model_in_list (inputs model takes)\n",
    "    x_in = np.empty((1,len(Model.model_in_list)))\n",
    "\n",
    "    # fill in reference point around which to optimize\n",
    "    x_in[:,:] = np.asarray(ref_point[0])\n",
    "\n",
    "    # set solenoid, SQ, CQ to values from optimization step\n",
    "    x_in[:, Model.loc_in[opt_var_names[0]]] = varx\n",
    "    x_in[:, Model.loc_in[opt_var_names[1]]] = vary\n",
    "    x_in[:, Model.loc_in[opt_var_names[2]]] = varz\n",
    "    x_in[:, Model.loc_in[opt_var_names[3]]] = var1\n",
    "    x_in[:, Model.loc_in[opt_var_names[4]]] = var2\n",
    "    x_in[:, Model.loc_in[opt_var_names[5]]] = var3\n",
    "    x_in[:, Model.loc_in[opt_var_names[6]]] = var4\n",
    "    x_in[:, Model.loc_in[opt_var_names[7]]] = var5\n",
    "    x_in[:, Model.loc_in[opt_var_names[8]]] = var6\n",
    "\n",
    "    # output predictions\n",
    "    y_out = Model.pred_machine_units(x_in) \n",
    "\n",
    "    return -1*objective(y_out)[0]\n",
    "\n",
    "\n",
    "\n",
    "def objective(y_out):\n",
    "    \n",
    "    # output is geometric emittance in transverse plane\n",
    "    out1 = y_out[:, Model.loc_out['norm_emit_x']] #grab norm_emit_x out of the model\n",
    "    out2 = y_out[:, Model.loc_out['norm_emit_y']] #grab norm_emit_y out of the model\n",
    "    emit = np.sqrt(out1 * out2)\n",
    "  \n",
    "    sigma_x = y_out[:, Model.loc_out['sigma_x']] #grab sigma_x out of the model \n",
    "    sigma_y = y_out[:, Model.loc_out['sigma_y']] #grab sigma_y out of the model \n",
    "    \n",
    "    # real beta and alpha \n",
    "    # NEEDS TO BE FIXED - currently assuming real alpha to be the same as design alpha \n",
    "    alpha_x, alpha_y = alpha0_x, alpha0_y\n",
    "    beta_x, beta_y = (sigma_x**2) / out1, (sigma_y**2) / out2\n",
    "    \n",
    "    # bmag \n",
    "    bmag_x = 0.5 * ((beta0_x / beta_x) + (beta_x / beta0_x)) + 0.5 * ((alpha_x * np.sqrt(beta0_x / beta_x) - alpha0_x * np.sqrt(beta_x / beta0_x))**2)\n",
    "    bmag_y = 0.5 * ((beta0_y / beta_y) + (beta_y / beta0_y)) + 0.5 * ((alpha_y * np.sqrt(beta0_y / beta_y) - alpha0_y * np.sqrt(beta_y / beta0_y))**2)\n",
    "    bmag = np.sqrt(bmag_x * bmag_y)\n",
    "    print(f'bmag: {bmag} emit: {emit}') \n",
    "    \n",
    "    return (emit * bmag)/1e-6\n",
    "    #return np.sqrt(out1*out2)/1e-6 # in um units"
   ]
  },
  {
   "cell_type": "markdown",
   "id": "95895f93-be9f-4fd1-b50c-ba4d488269bb",
   "metadata": {},
   "source": [
    "## Gaussian Regression & Acquisition Function"
   ]
  },
  {
   "cell_type": "code",
   "execution_count": 5,
   "id": "3579279b-21fd-4afc-b7b3-33b0fd38ce84",
   "metadata": {},
   "outputs": [],
   "source": [
    "def get_BO_point(x, f, bounds, beta=2.5, precision = None, phys=True):\n",
    "    \"\"\"\n",
    "    function that trains a GP model of data and returns the next observation point using UCB\n",
    "    D is input space dimensionality\n",
    "    N is number of samples\n",
    "\n",
    "    :param x: input points data, torch.tensor, shape (N,D)\n",
    "    :param f: output point data, torch.tensor, shape (N,1)\n",
    "    :param bounds: input space bounds, torch.tensor, shape (2,D)\n",
    "    :param precision: precision matrix used for RBF kernel (must be PSD), torch.tensor, (D,D)\n",
    "    :param beta: UCB optimization parameter, float\n",
    "    :return x_candidate, model: next observation point and gp model w/observations\n",
    "    \"\"\"\n",
    "    \n",
    "    likelihood = gpytorch.likelihoods.GaussianLikelihood()\n",
    "    \n",
    "    if phys == True:\n",
    "        gp = physics_gp.PhysicsExactGPModel(x, f.flatten(), likelihood, precision)\n",
    "    else:\n",
    "        gp = botorch.models.SingleTaskGP(x, f, likelihood)\n",
    "        \n",
    "    mll = gpytorch.mlls.ExactMarginalLogLikelihood(gp.likelihood, gp)\n",
    "    \n",
    "    # fit GP hyperparameters\n",
    "    #print('training hyperparameters')\n",
    "    botorch.fit.fit_gpytorch_model(mll)\n",
    "\n",
    "    # do UCB acquisition\n",
    "    #print('optimizing acquisition function')\n",
    "    UCB = botorch.acquisition.UpperConfidenceBound(gp, beta=beta)\n",
    "    candidate, acq_value = botorch.optim.optimize_acqf(UCB,\n",
    "                                                       bounds=bounds,\n",
    "                                                       q=1,\n",
    "                                                       num_restarts=20,#5\n",
    "                                                       raw_samples=20)\n",
    "    return candidate, gp"
   ]
  },
  {
   "cell_type": "markdown",
   "id": "cab76dc5-7177-4a05-8133-4639cf66ae38",
   "metadata": {},
   "source": [
    "## Set up initial training samples"
   ]
  },
  {
   "cell_type": "code",
   "execution_count": 6,
   "id": "ab8e2cc5-715b-415d-a9c4-3d92e183d34f",
   "metadata": {},
   "outputs": [
    {
     "name": "stdout",
     "output_type": "stream",
     "text": [
      "tensor([[ 4.8285e-01, -1.0923e-02,  1.0583e-02, -1.3403e+00,  2.7835e+00,\n",
      "         -3.9920e+00,  3.5514e+00,  2.2010e+00, -6.3510e+00],\n",
      "        [ 4.7352e-01, -4.7814e-03,  6.3723e-03, -3.6203e+00,  1.8701e+00,\n",
      "         -4.5142e+00, -5.9025e-01,  6.1364e+00, -1.5918e+00],\n",
      "        [ 4.8214e-01, -1.4258e-02,  1.7373e-02, -3.0465e+00,  3.7656e+00,\n",
      "         -2.1442e+00,  1.1538e+00, -8.8511e-01, -4.7827e+00],\n",
      "        [ 4.7117e-01,  8.9605e-03,  7.9385e-03, -1.8574e+00,  1.3725e+00,\n",
      "         -6.7494e+00,  6.2089e+00,  2.9243e+00,  4.6898e-01],\n",
      "        [ 4.7632e-01,  4.1693e-03,  8.4302e-03, -2.5567e+00,  1.2875e+00,\n",
      "         -4.4886e+00, -3.7095e-01,  6.0088e+00,  6.8023e-01]])\n"
     ]
    },
    {
     "name": "stderr",
     "output_type": "stream",
     "text": [
      "2022-06-14 12:37:15.695732: I tensorflow/compiler/mlir/mlir_graph_optimization_pass.cc:116] None of the MLIR optimization passes are enabled (registered 2)\n",
      "2022-06-14 12:37:15.729442: I tensorflow/core/platform/profile_utils/cpu_utils.cc:112] CPU Frequency: 1996075000 Hz\n"
     ]
    },
    {
     "name": "stdout",
     "output_type": "stream",
     "text": [
      "bmag: [2.7483852] emit: [7.1429935e-07]\n",
      "bmag: [1.2445668] emit: [7.902758e-07]\n",
      "bmag: [7.67078] emit: [8.248699e-07]\n",
      "bmag: [1.3342167] emit: [9.4027854e-07]\n",
      "bmag: [1.360912] emit: [8.640937e-07]\n",
      "tensor([[-1.9632],\n",
      "        [-0.9836],\n",
      "        [-6.3274],\n",
      "        [-1.2545],\n",
      "        [-1.1760]])\n",
      "[ 0.46 -0.02 -0.02 -4.    1.   -7.   -1.   -1.   -7.  ]\n",
      "[ 0.485  0.02   0.02  -1.     4.    -1.     7.     7.     1.   ]\n"
     ]
    },
    {
     "data": {
      "text/plain": [
       "' \\n#create initial model\\ngp = SingleTaskGP(normed_train_x, normed_train_y)\\nmll = ExactMarginalLogLikelihood(gp.likelihood, gp)\\nfit_gpytorch_model(mll);\\n'"
      ]
     },
     "execution_count": 6,
     "metadata": {},
     "output_type": "execute_result"
    }
   ],
   "source": [
    "#specify bounds\n",
    "bounds = {'varx': (0.46, 0.485),\n",
    "          'vary': (-0.02, 0.02),\n",
    "          'varz': (-0.02, 0.02),\n",
    "          'var1': (-4, -1),\n",
    "          'var2': (1, 4),\n",
    "          'var3': (-7, -1),\n",
    "          'var4': (-1, 7),\n",
    "          'var5': (-1, 7),\n",
    "          'var6': (-7, 1)}\n",
    "                        \n",
    "tbounds = torch.tensor([[bounds['varx'][0], bounds['varx'][1]],\n",
    "                        [bounds['vary'][0], bounds['vary'][1]], \n",
    "                        [bounds['varz'][0], bounds['varz'][1]],\n",
    "                        [bounds['var1'][0], bounds['var1'][1]],\n",
    "                        [bounds['var2'][0], bounds['var2'][1]],\n",
    "                        [bounds['var3'][0], bounds['var3'][1]],\n",
    "                        [bounds['var4'][0], bounds['var4'][1]],\n",
    "                        [bounds['var5'][0], bounds['var5'][1]],\n",
    "                        [bounds['var6'][0], bounds['var6'][1]]])\n",
    "\n",
    "#print(bounds['varx'][0])\n",
    "#print(tbounds)\n",
    "\n",
    "#create initial samples within specified bounds\n",
    "n_samples = 5\n",
    "n_var = 9\n",
    "train_x = torch.zeros((n_samples, n_var)) \n",
    "for i in range(n_var):\n",
    "    train_x[:,i] = torch.as_tensor(np.random.uniform(tbounds[i,0],tbounds[i,1],(n_samples,)))\n",
    "#train_x = torch.as_tensor(train_x).type(torch.FloatTensor)\n",
    "\n",
    "\"\"\"\n",
    "train_x = torch.rand(n_samples,3) \n",
    "train_x[:,0] = train_x[:,0] * diff['varx'] + bounds['varx'][0]\n",
    "train_x[:,1] = train_x[:,1] * diff['vary'] + bounds['vary'][0]\n",
    "train_x[:,2] = train_x[:,2] * diff['varz'] + bounds['varz'][0]\n",
    "\"\"\" \n",
    "print(train_x)\n",
    "\n",
    "train_y = torch.tensor([evaluate(vars[0], vars[1], vars[2], vars[3], vars[4], vars[5], vars[6], vars[7], vars[8]) for vars in train_x]).reshape(-1,1)\n",
    "print(train_y)\n",
    "\n",
    "\n",
    "#transformer \n",
    "transformer_x = transformer.Transformer(tbounds.transpose(0,1), transform_type = 'normalize')\n",
    "print(transformer_x.mins)\n",
    "print(transformer_x.maxs)\n",
    "normed_train_x = transformer_x.forward(train_x)\n",
    "\n",
    "transformer_y = transformer.Transformer(train_y, transform_type = 'standardize') \n",
    "normed_train_y = transformer_y.forward(train_y)\n",
    "\n",
    "\"\"\" \n",
    "#create initial model\n",
    "gp = SingleTaskGP(normed_train_x, normed_train_y)\n",
    "mll = ExactMarginalLogLikelihood(gp.likelihood, gp)\n",
    "fit_gpytorch_model(mll);\n",
    "\"\"\""
   ]
  },
  {
   "cell_type": "markdown",
   "id": "90a7ebe7-3652-467a-aabd-9c285ecc7dde",
   "metadata": {
    "tags": []
   },
   "source": [
    "## Bayesian Optimization"
   ]
  },
  {
   "cell_type": "code",
   "execution_count": 7,
   "id": "12f08ef8-0cde-4c86-8e5b-57c8ac264e3b",
   "metadata": {},
   "outputs": [
    {
     "name": "stdout",
     "output_type": "stream",
     "text": [
      "bmag: [1.1961308] emit: [7.7106387e-07]\n",
      "iter     target      varx       vary      varz      var1      var2      var3      var4      var5      var6\n",
      "\u001b[95m1      -0.92229   0.47233   0.00071   0.00659   -2.89849   1.63735   -5.52057   2.25009   4.99759   -0.84594\u001b[0m\n",
      "bmag: [1.3003726] emit: [7.029776e-07]\n",
      "iter     target      varx       vary      varz      var1      var2      var3      var4      var5      var6\n",
      "\u001b[95m2      -0.91413   0.47620   -0.00341   0.00487   -2.44616   1.55107   -4.98248   0.64412   6.82649   -2.62291\u001b[0m\n",
      "bmag: [1.4494572] emit: [1.0389685e-06]\n",
      "iter     target      varx       vary      varz      var1      var2      var3      var4      var5      var6\n",
      "\u001b[30m3      -1.50594   0.47294   0.00479   0.00166   -3.29923   1.02444   -5.66734   -0.03890   6.34144   -1.98983\u001b[0m\n",
      "bmag: [1.5418913] emit: [9.73123e-07]\n",
      "iter     target      varx       vary      varz      var1      var2      var3      var4      var5      var6\n",
      "\u001b[30m4      -1.50045   0.47160   -0.01035   0.00627   -2.68599   1.67726   -5.18750   0.80755   7.00000   0.25611\u001b[0m\n",
      "bmag: [1.5499024] emit: [7.425442e-07]\n",
      "iter     target      varx       vary      varz      var1      var2      var3      var4      var5      var6\n",
      "\u001b[30m5      -1.15087   0.47657   0.00578   0.01069   -3.06120   2.03395   -4.38902   1.74134   6.83824   -1.59867\u001b[0m\n",
      "bmag: [1.6475545] emit: [7.5378813e-07]\n",
      "iter     target      varx       vary      varz      var1      var2      var3      var4      var5      var6\n",
      "\u001b[30m6      -1.24191   0.47278   0.00328   0.00604   -2.42172   2.13289   -4.90194   -0.52929   4.91717   -1.93197\u001b[0m\n",
      "bmag: [1.3215916] emit: [6.663377e-07]\n",
      "iter     target      varx       vary      varz      var1      var2      var3      var4      var5      var6\n",
      "\u001b[95m7      -0.88063   0.47969   -0.00436   0.01191   -2.99342   1.51336   -5.41653   0.63830   4.91171   -1.67457\u001b[0m\n",
      "bmag: [1.5378842] emit: [6.684232e-07]\n",
      "iter     target      varx       vary      varz      var1      var2      var3      var4      var5      var6\n",
      "\u001b[30m8      -1.02796   0.47880   -0.00295   0.00101   -2.92884   1.52641   -4.03488   1.61663   4.84469   -1.36817\u001b[0m\n",
      "bmag: [2.3586757] emit: [7.590373e-07]\n",
      "iter     target      varx       vary      varz      var1      var2      var3      var4      var5      var6\n",
      "\u001b[30m9      -1.79032   0.47281   -0.00264   0.01382   -2.79211   1.24680   -3.95821   1.14255   5.21907   -2.31657\u001b[0m\n",
      "bmag: [1.8956434] emit: [7.26267e-07]\n",
      "iter     target      varx       vary      varz      var1      var2      var3      var4      var5      var6\n",
      "\u001b[30m10      -1.37674   0.48065   0.00002   0.00135   -2.96140   2.01075   -5.90789   0.64863   5.98762   -0.75778\u001b[0m\n",
      "bmag: [1.057902] emit: [6.21103e-07]\n",
      "iter     target      varx       vary      varz      var1      var2      var3      var4      var5      var6\n",
      "\u001b[95m11      -0.65707   0.47923   0.00310   0.00750   -1.90141   1.48724   -5.68906   3.11114   4.69322   -1.30675\u001b[0m\n",
      "bmag: [3.0578475] emit: [5.779493e-07]\n",
      "iter     target      varx       vary      varz      var1      var2      var3      var4      var5      var6\n",
      "\u001b[30m12      -1.76728   0.47805   -0.00346   0.00565   -2.33756   1.81528   -5.94822   4.00221   4.56837   -3.42765\u001b[0m\n",
      "bmag: [1.0484923] emit: [8.4810847e-07]\n",
      "iter     target      varx       vary      varz      var1      var2      var3      var4      var5      var6\n",
      "\u001b[30m13      -0.88924   0.47968   0.00825   0.00986   -2.43041   1.35745   -5.64647   2.81403   3.64287   0.62027\u001b[0m\n",
      "bmag: [1.5258653] emit: [6.2426136e-07]\n",
      "iter     target      varx       vary      varz      var1      var2      var3      var4      var5      var6\n",
      "\u001b[30m14      -0.95254   0.47685   -0.00011   0.00405   -1.77052   1.21036   -5.88146   1.16679   3.78254   -0.23860\u001b[0m\n",
      "bmag: [1.0108725] emit: [7.394073e-07]\n",
      "iter     target      varx       vary      varz      var1      var2      var3      var4      var5      var6\n",
      "\u001b[30m15      -0.74745   0.47558   0.01075   0.00288   -1.73098   1.45913   -5.14386   3.35320   5.40509   0.04782\u001b[0m\n",
      "bmag: [1.4597843] emit: [9.3055587e-07]\n",
      "iter     target      varx       vary      varz      var1      var2      var3      var4      var5      var6\n",
      "\u001b[30m16      -1.35841   0.47601   0.01047   0.01229   -1.78167   1.46918   -6.31076   1.91021   5.70552   -0.47331\u001b[0m\n",
      "bmag: [1.2583537] emit: [7.0460777e-07]\n",
      "iter     target      varx       vary      varz      var1      var2      var3      var4      var5      var6\n",
      "\u001b[30m17      -0.88665   0.48024   0.00064   0.00415   -2.21277   1.12727   -5.28647   3.96863   5.62764   0.17702\u001b[0m\n",
      "bmag: [1.6196355] emit: [6.20387e-07]\n",
      "iter     target      varx       vary      varz      var1      var2      var3      var4      var5      var6\n",
      "\u001b[30m18      -1.00480   0.47932   0.00055   0.00726   -1.65171   1.73590   -4.73584   2.99811   4.36662   0.29765\u001b[0m\n",
      "bmag: [1.033956] emit: [9.0676525e-07]\n",
      "iter     target      varx       vary      varz      var1      var2      var3      var4      var5      var6\n",
      "\u001b[30m19      -0.93756   0.48208   0.00940   0.00367   -2.10248   1.33801   -4.89062   1.60798   4.85672   -1.47886\u001b[0m\n",
      "bmag: [1.8839304] emit: [6.573321e-07]\n",
      "iter     target      varx       vary      varz      var1      var2      var3      var4      var5      var6\n",
      "\u001b[30m20      -1.23837   0.47569   0.00737   0.00454   -1.85447   1.17129   -5.13629   4.44469   3.43692   -0.75202\u001b[0m\n"
     ]
    }
   ],
   "source": [
    "n_steps = 20\n",
    "best_y = torch.max(train_y)\n",
    "for i in range(n_steps):\n",
    "    if i > 10:\n",
    "        phys_l = True\n",
    "        \n",
    "    bounds = torch.cat((torch.zeros(1,n_var), torch.ones(1,n_var)), 0)\n",
    "    #x_new, model = get_BO_point(train_x, normed_train_y, bounds=tbounds.transpose(0,1), phys = False)\n",
    "    x_new, model = get_BO_point(normed_train_x, normed_train_y, bounds=bounds, phys = False)\n",
    "    \n",
    "    #train_x = torch.cat((train_x, x_new))\n",
    "    train_x = torch.cat((train_x, transformer_x.backward(x_new)))\n",
    "    normed_train_x = transformer_x.forward(train_x)\n",
    "    \n",
    "    new_y = torch.tensor(evaluate(train_x[-1,0], train_x[-1,1], train_x[-1,2], \n",
    "                                 train_x[-1,3], train_x[-1,4], train_x[-1,5],\n",
    "                                 train_x[-1,6], train_x[-1,7], train_x[-1,8])).reshape(1,1)\n",
    "    train_y = torch.cat((train_y, new_y))\n",
    "    normed_train_y = transformer_y.forward(train_y)\n",
    "    \n",
    "    train_x = train_x.type(torch.FloatTensor)\n",
    "    train_y = train_y.type(torch.FloatTensor)\n",
    "    \n",
    "    if (new_y > best_y):\n",
    "        best_y = new_y\n",
    "        color = '\\033[95m', '\\033[0m'\n",
    "    else: \n",
    "        color = '\\u001b[30m', '\\033[0m'\n",
    "    \n",
    "    print(\"iter     target      varx       vary      varz      var1      var2      var3      var4      var5      var6\")\n",
    "    print(f'{color[0]}{i+1}      {train_y[-1,0]:.5f}   {train_x[-1,0]:.5f}   {train_x[-1,1]:.5f}   {train_x[-1,2]:.5f}   {train_x[-1,3]:.5f}   {train_x[-1,4]:.5f}   {train_x[-1,5]:.5f}   {train_x[-1,6]:.5f}   {train_x[-1,7]:.5f}   {train_x[-1,8]:.5f}{color[1]}')\n",
    "    #print(f'max = {torch.max(train_y):.5f}')"
   ]
  },
  {
   "cell_type": "code",
   "execution_count": null,
   "id": "3c9a950e-7da0-4c8c-8f01-42becd03cb1d",
   "metadata": {},
   "outputs": [],
   "source": []
  },
  {
   "cell_type": "code",
   "execution_count": 8,
   "id": "a6448337-8ec1-48f0-bbae-5cd1106dbf8e",
   "metadata": {},
   "outputs": [
    {
     "data": {
      "text/plain": [
       "'\\n#define acquisition function\\nfrom botorch.acquisition.analytic import UpperConfidenceBound, ExpectedImprovement\\nfrom botorch.optim import optimize_acqf\\n\\n#optimize\\nn_steps = 45\\nfor i in range(n_steps):\\n    #best_normed_y = torch.max(normed_train_y)\\n    UCB = UpperConfidenceBound(gp, beta=2.5)\\n    #EI = ExpectedImprovement(gp, best_normed_y)\\n\\n    bounds = torch.cat((torch.zeros(1,3), torch.ones(1,3)), 0)\\n    candidate, acq_value = optimize_acqf(UCB, bounds = bounds, num_restarts = 20, q = 1, raw_samples = 20)\\n\\n    train_x = torch.cat((train_x, transformer_x.backward(candidate)))\\n    normed_train_x = transformer_x.forward(train_x)\\n\\n    new_y = torch.tensor(evaluate(train_x[-1][0], train_x[-1][1], train_x[-1][2])).reshape(1,1)\\n    train_y = torch.cat((train_y, new_y))\\n    \\n    print(\"iteration        target         varx         vary         varz\")\\n    print(f\\'{i+1}              {train_y[-1][0]:.5f}      {train_x[-1][0]:.5f}      {train_x[-1][1]:.5f}      {train_x[-1][2]:.5f}\\')\\n    print(torch.max(train_y))\\n    \\n    transformer_y = transformer.Transformer(train_y, \\'standardize\\')\\n    normed_train_y = transformer_y.forward(train_y)\\n\\n    gp = SingleTaskGP(normed_train_x, normed_train_y)\\n    mll = ExactMarginalLogLikelihood(gp.likelihood, gp)\\n    fit_gpytorch_model(mll);\\n'"
      ]
     },
     "execution_count": 8,
     "metadata": {},
     "output_type": "execute_result"
    }
   ],
   "source": [
    "\"\"\"\n",
    "#define acquisition function\n",
    "from botorch.acquisition.analytic import UpperConfidenceBound, ExpectedImprovement\n",
    "from botorch.optim import optimize_acqf\n",
    "\n",
    "#optimize\n",
    "n_steps = 45\n",
    "for i in range(n_steps):\n",
    "    #best_normed_y = torch.max(normed_train_y)\n",
    "    UCB = UpperConfidenceBound(gp, beta=2.5)\n",
    "    #EI = ExpectedImprovement(gp, best_normed_y)\n",
    "\n",
    "    bounds = torch.cat((torch.zeros(1,3), torch.ones(1,3)), 0)\n",
    "    candidate, acq_value = optimize_acqf(UCB, bounds = bounds, num_restarts = 20, q = 1, raw_samples = 20)\n",
    "\n",
    "    train_x = torch.cat((train_x, transformer_x.backward(candidate)))\n",
    "    normed_train_x = transformer_x.forward(train_x)\n",
    "\n",
    "    new_y = torch.tensor(evaluate(train_x[-1][0], train_x[-1][1], train_x[-1][2])).reshape(1,1)\n",
    "    train_y = torch.cat((train_y, new_y))\n",
    "    \n",
    "    print(\"iteration        target         varx         vary         varz\")\n",
    "    print(f'{i+1}              {train_y[-1][0]:.5f}      {train_x[-1][0]:.5f}      {train_x[-1][1]:.5f}      {train_x[-1][2]:.5f}')\n",
    "    print(torch.max(train_y))\n",
    "    \n",
    "    transformer_y = transformer.Transformer(train_y, 'standardize')\n",
    "    normed_train_y = transformer_y.forward(train_y)\n",
    "\n",
    "    gp = SingleTaskGP(normed_train_x, normed_train_y)\n",
    "    mll = ExactMarginalLogLikelihood(gp.likelihood, gp)\n",
    "    fit_gpytorch_model(mll);\n",
    "\"\"\""
   ]
  },
  {
   "cell_type": "code",
   "execution_count": null,
   "id": "39cfb5ca-1288-468e-b19d-8360a35c94a3",
   "metadata": {},
   "outputs": [],
   "source": []
  }
 ],
 "metadata": {
  "kernelspec": {
   "display_name": "Python 3 (ipykernel)",
   "language": "python",
   "name": "python3"
  },
  "language_info": {
   "codemirror_mode": {
    "name": "ipython",
    "version": 3
   },
   "file_extension": ".py",
   "mimetype": "text/x-python",
   "name": "python",
   "nbconvert_exporter": "python",
   "pygments_lexer": "ipython3",
   "version": "3.7.13"
  }
 },
 "nbformat": 4,
 "nbformat_minor": 5
}
