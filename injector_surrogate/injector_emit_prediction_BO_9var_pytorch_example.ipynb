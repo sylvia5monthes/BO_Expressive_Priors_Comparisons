{
 "cells": [
  {
   "cell_type": "code",
   "execution_count": 1,
   "source": [
    "#NN Surrogate model class\n",
    "from injector_surrogate_quads import *\n",
    "import physics_gp\n",
    "\n",
    "sys.path.append('../configs')\n",
    "#Sim reference point to optimize around\n",
    "from ref_config import ref_point\n",
    "\n",
    "#Pytorch \n",
    "import numpy as np\n",
    "import torch\n",
    "import gpytorch\n",
    "import botorch \n",
    "\n",
    "import matplotlib.pyplot as plt"
   ],
   "outputs": [
    {
     "output_type": "stream",
     "name": "stderr",
     "text": [
      "/Users/conniexu/opt/anaconda3/envs/baxenv/lib/python3.8/site-packages/tqdm/auto.py:22: TqdmWarning: IProgress not found. Please update jupyter and ipywidgets. See https://ipywidgets.readthedocs.io/en/stable/user_install.html\n",
      "  from .autonotebook import tqdm as notebook_tqdm\n"
     ]
    }
   ],
   "metadata": {}
  },
  {
   "cell_type": "markdown",
   "source": [
    "# BO for Minimizing Emittance*Bmag with 9 Variables (SQ, CQ, SOL, matching quads)"
   ],
   "metadata": {}
  },
  {
   "cell_type": "code",
   "execution_count": 2,
   "source": [
    "# load injector model\n",
    "Model = Surrogate_NN(pytorch=True)\n",
    "\n",
    "Model.load_saved_model(model_path = '../models/', \n",
    "                       model_name = 'Injector_Surrogate_NN_PyTorch')\n",
    "\n",
    "Model.load_scaling(scalerfilex = '../data/transformer_x_pytorch.pth', \n",
    "                   scalerfiley = '../data/transformer_y_pytorch.pth')\n",
    "Model.take_log_out = False"
   ],
   "outputs": [],
   "metadata": {}
  },
  {
   "cell_type": "markdown",
   "source": [
    "## Import design Twiss parameters (OTR2)"
   ],
   "metadata": {}
  },
  {
   "cell_type": "code",
   "execution_count": 3,
   "source": [
    "beamline_info = json.load(open('../configs/beamline_info.json'))\n",
    "get_twiss0 = beamline_info['Twiss0']\n",
    "\n",
    "# emit, beta, alpha\n",
    "twiss0 = {'x': [get_twiss0[0], get_twiss0[2], get_twiss0[4]],\n",
    "          'y': [get_twiss0[1], get_twiss0[3], get_twiss0[5]]}\n",
    "\n",
    "beta0_x, alpha0_x = twiss0['x'][1], twiss0['x'][2]\n",
    "beta0_y, alpha0_y = twiss0['y'][1], twiss0['y'][2]\n",
    "# print(twiss0['x'], twiss0['y'])"
   ],
   "outputs": [],
   "metadata": {}
  },
  {
   "cell_type": "markdown",
   "source": [
    "## Objective Function"
   ],
   "metadata": {
    "tags": []
   }
  },
  {
   "cell_type": "code",
   "execution_count": 4,
   "source": [
    "# convert to machine units\n",
    "ref_point = Model.sim_to_machine(np.asarray(ref_point))\n",
    "\n",
    "# input params: solenoid and quads to vary \n",
    "opt_var_names = ['SOL1:solenoid_field_scale','CQ01:b1_gradient', 'SQ01:b1_gradient',\n",
    "                 \"QA01:b1_gradient\", \"QA02:b1_gradient\", \n",
    "                 \"QE01:b1_gradient\", \"QE02:b1_gradient\", \"QE03:b1_gradient\", \"QE04:b1_gradient\"]\n",
    "\n",
    "bounds = torch.as_tensor([[0.46, 0.485], [-0.02, 0.02], [-0.02, 0.02],\n",
    "                       [-4, -1], [1, 4],\n",
    "                       [-7,-1], [-1, 7],[-1, 7], [-7, 1]])\n",
    "\n",
    "# output params: emittance in transverse plane (x & y)\n",
    "opt_out_names = ['norm_emit_x','norm_emit_y']"
   ],
   "outputs": [],
   "metadata": {}
  },
  {
   "cell_type": "code",
   "execution_count": 5,
   "source": [
    "def evaluate(config): \n",
    "    \"\"\"\n",
    "    D is input space dimensionality\n",
    "    N is number of sample points\n",
    "    :param config: input values of opt_var_names, torch.tensor, shape (N, D) \n",
    "    returns (N, 1) \n",
    "    \"\"\"\n",
    "    N = config.shape[0]\n",
    "    D = config.shape[1]\n",
    "    \n",
    "    # make input array of length model_in_list (inputs model takes)\n",
    "    x_in = torch.empty((N,len(Model.model_in_list)))\n",
    "    \n",
    "    # fill in reference point around which to optimize\n",
    "    x_in[:,:] = torch.tensor(ref_point[0])\n",
    "\n",
    "    #set solenoid, CQ, SQ, matching quads to values from optimization step\n",
    "    col = []\n",
    "    for i in range(D):\n",
    "        col.append(Model.loc_in[opt_var_names[i]]) #should make col a flat list of indices, e.g. [4, 6, 7]\n",
    "    x_in[:, col] = config[:,:] \n",
    "    \n",
    "    #output predictions\n",
    "    y_out = Model.pred_machine_units(x_in)\n",
    "\n",
    "    return -1*objective(y_out)\n",
    "\n",
    "\n",
    "def objective(y_out):\n",
    "    \"\"\"\n",
    "    :param y_out: tensor with has a shape of (N, num_outputs)\n",
    "    returns tensor of emittance * bmag for each input, shape (N, 1)\n",
    "    \"\"\"\n",
    "    \n",
    "    # geometric emittance in transverse plane\n",
    "    out1 = y_out[:,Model.loc_out['norm_emit_x']] #grab norm_emit_x out of the model\n",
    "    out2 = y_out[:,Model.loc_out['norm_emit_y']] #grab norm_emit_y out of the model\n",
    "    emit = torch.sqrt(out1 * out2)\n",
    "  \n",
    "    sigma_x = y_out[:,Model.loc_out['sigma_x']] #grab sigma_x out of the model \n",
    "    sigma_y = y_out[:,Model.loc_out['sigma_y']] #grab sigma_y out of the model \n",
    "    \n",
    "    # real beta and alpha \n",
    "    # NEEDS TO BE FIXED - currently assuming real alpha to be the same as design alpha \n",
    "    alpha_x = torch.tensor(alpha0_x).repeat(y_out.shape[0])\n",
    "    alpha_y = torch.tensor(alpha0_y).repeat(y_out.shape[0])\n",
    "    beta_x, beta_y = (sigma_x**2) / out1, (sigma_y**2) / out2\n",
    "    \n",
    "    # bmag \n",
    "    bmag_x = 0.5 * ((beta0_x / beta_x) + (beta_x / beta0_x)) + 0.5 * ((alpha_x * torch.sqrt(beta0_x / beta_x) - alpha0_x * torch.sqrt(beta_x / beta0_x))**2)\n",
    "    bmag_y = 0.5 * ((beta0_y / beta_y) + (beta_y / beta0_y)) + 0.5 * ((alpha_y * torch.sqrt(beta0_y / beta_y) - alpha0_y * torch.sqrt(beta_y / beta0_y))**2)\n",
    "    bmag = torch.sqrt(bmag_x * bmag_y)\n",
    "    \n",
    "    out = (emit * bmag)/1e-6 # in um units \n",
    "    return out.reshape(-1,1)"
   ],
   "outputs": [],
   "metadata": {}
  },
  {
   "cell_type": "markdown",
   "source": [
    "## Gaussian Regression & Acquisition Function"
   ],
   "metadata": {}
  },
  {
   "cell_type": "markdown",
   "source": [
    "## Set up initial training samples"
   ],
   "metadata": {}
  },
  {
   "cell_type": "code",
   "execution_count": 6,
   "source": [
    "#create initial samples within specified bounds\n",
    "n_samples = 3\n",
    "n_var = 9\n",
    "\n",
    "train_x = torch.zeros((n_samples, n_var)) \n",
    "for i in range(n_var):\n",
    "    train_x[:,i] = torch.tensor(np.random.uniform(bounds[i,0],bounds[i,1],(n_samples,)))\n",
    "print(train_x)\n",
    "\n",
    "train_y = evaluate(train_x).detach() # detach gradient to fix going backwards twice error while fitting hyperparameters\n",
    "print(train_y)\n",
    "\n",
    "#transformer \n",
    "transformer_x = botorch.models.transforms.input.Normalize(n_var, bounds = bounds.transpose(0,1))\n",
    "transformer_y = botorch.models.transforms.outcome.Standardize(1)"
   ],
   "outputs": [
    {
     "output_type": "stream",
     "name": "stdout",
     "text": [
      "tensor([[ 4.7643e-01, -1.9342e-02,  1.3078e-02, -3.3545e+00,  1.4010e+00,\n",
      "         -6.8159e+00,  2.7928e+00,  6.4044e+00, -9.0152e-01],\n",
      "        [ 4.6918e-01,  1.5358e-02,  7.0908e-03, -3.3041e+00,  1.0471e+00,\n",
      "         -5.9128e+00,  2.6217e+00,  2.1181e+00, -6.3042e+00],\n",
      "        [ 4.6608e-01, -5.5904e-03,  9.4783e-03, -3.3063e+00,  1.3760e+00,\n",
      "         -2.4562e+00,  1.5902e+00,  5.9482e+00, -2.0835e+00]])\n",
      "tensor([[ -1.5117],\n",
      "        [-10.1100],\n",
      "        [ -1.2382]])\n"
     ]
    }
   ],
   "metadata": {}
  },
  {
   "cell_type": "code",
   "execution_count": 7,
   "source": [
    "def get_BO_point(x, f, bounds, beta=2.0, mean_module=None, input_transform=None, outcome_transform=None):\n",
    "    \"\"\"\n",
    "    function that trains a GP model of data and returns the next observation point using UCB\n",
    "    D is input space dimensionality\n",
    "    N is number of samples\n",
    "\n",
    "    :param x: input points data, torch.tensor, shape (N,D)\n",
    "    :param f: output point data, torch.tensor, shape (N,1)\n",
    "    :param bounds: input space bounds, torch.tensor, shape (2,D)\n",
    "    :param precision: precision matrix used for RBF kernel (must be PSD), torch.tensor, (D,D)\n",
    "    :param beta: UCB optimization parameter, float\n",
    "    :return x_candidate, model: next observation point and gp model w/observations\n",
    "    \"\"\"\n",
    "    gp = botorch.models.SingleTaskGP(x, f,\n",
    "                                     mean_module=mean_module, \n",
    "                                     outcome_transform=outcome_transform, \n",
    "                                     input_transform=input_transform)\n",
    "        \n",
    "    mll = gpytorch.mlls.ExactMarginalLogLikelihood(gp.likelihood, gp)\n",
    "    \n",
    "    # fit GP hyperparameters\n",
    "    botorch.fit.fit_gpytorch_model(mll)\n",
    "\n",
    "    # do UCB acquisition\n",
    "    UCB = botorch.acquisition.UpperConfidenceBound(gp, beta=beta)\n",
    "    candidate, acq_value = botorch.optim.optimize_acqf(UCB,\n",
    "                                                       bounds=bounds,\n",
    "                                                       q=1,\n",
    "                                                       num_restarts=20,\n",
    "                                                       raw_samples=20)\n",
    "    return candidate, gp"
   ],
   "outputs": [],
   "metadata": {}
  },
  {
   "cell_type": "markdown",
   "source": [
    "## Bayesian Optimization"
   ],
   "metadata": {
    "tags": []
   }
  },
  {
   "cell_type": "code",
   "execution_count": 8,
   "source": [
    "def BayesianOptimization(train_x, train_y, n_steps, beta=2.0, prior=None, transformer_x=None, transformer_y=None):\n",
    "    best_y = torch.max(train_y)\n",
    "    for i in range(n_steps):\n",
    "        x_new, model = get_BO_point(train_x, train_y, \n",
    "                                    bounds=bounds.transpose(0,1),\n",
    "                                    beta=beta, \n",
    "                                    mean_module=prior, \n",
    "                                    input_transform=transformer_x, \n",
    "                                    outcome_transform=transformer_y)\n",
    "\n",
    "        train_x = torch.cat((train_x, x_new))\n",
    "        new_y = evaluate(train_x[-1].reshape(1,-1)).detach()\n",
    "        train_y = torch.cat((train_y, new_y))\n",
    "\n",
    "        if (new_y > best_y):\n",
    "            best_y = new_y\n",
    "            color = '\\033[95m', '\\033[0m'\n",
    "        else: \n",
    "            color = '\\u001b[30m', '\\033[0m'\n",
    "        \n",
    "        print(\"iter     target       SOL        CQ        SQ        QA1        QA2        Q1        Q2        Q3        Q4\")\n",
    "        print(f'{color[0]}{i+1}      {train_y[-1,0]:.5f}   {train_x[-1,0]:.5f}   {train_x[-1,1]:.5f}   {train_x[-1,2]:.5f}   {train_x[-1,3]:.5f}   {train_x[-1,4]:.5f}   {train_x[-1,5]:.5f}   {train_x[-1,6]:.5f}   {train_x[-1,7]:.5f}   {train_x[-1,8]:.5f}{color[1]}')\n"
   ],
   "outputs": [],
   "metadata": {}
  },
  {
   "cell_type": "code",
   "execution_count": 9,
   "source": [
    "# run BO with constant prior\n",
    "n_steps = 30\n",
    "beta = 2.0\n",
    "BayesianOptimization(train_x, train_y, n_steps, beta=beta, transformer_x=transformer_x, transformer_y=transformer_y)"
   ],
   "outputs": [
    {
     "output_type": "stream",
     "name": "stdout",
     "text": [
      "iter     target       SOL        CQ        SQ        QA1        QA2        Q1        Q2        Q3        Q4\n",
      "\u001b[30m1      -1.41546   0.47095   -0.01592   0.01171   -3.33296   1.43278   -4.17505   2.08213   6.73164   -0.82002\u001b[0m\n",
      "iter     target       SOL        CQ        SQ        QA1        QA2        Q1        Q2        Q3        Q4\n",
      "\u001b[95m2      -1.07803   0.47298   -0.00394   0.00995   -2.78558   1.76999   -4.28553   0.74177   6.77141   -1.38913\u001b[0m\n",
      "iter     target       SOL        CQ        SQ        QA1        QA2        Q1        Q2        Q3        Q4\n",
      "\u001b[30m3      -1.45547   0.46509   -0.00938   0.01544   -3.08954   2.17233   -4.52624   1.41287   6.64687   -1.97633\u001b[0m\n",
      "iter     target       SOL        CQ        SQ        QA1        QA2        Q1        Q2        Q3        Q4\n",
      "\u001b[30m4      -1.62995   0.47168   -0.01418   0.00624   -3.30722   1.77692   -3.89604   0.35055   6.74580   -3.06782\u001b[0m\n",
      "iter     target       SOL        CQ        SQ        QA1        QA2        Q1        Q2        Q3        Q4\n",
      "\u001b[30m5      -1.80239   0.46638   -0.00585   0.00183   -3.31687   1.70984   -4.62669   1.34052   6.73871   -0.70476\u001b[0m\n",
      "iter     target       SOL        CQ        SQ        QA1        QA2        Q1        Q2        Q3        Q4\n",
      "\u001b[30m6      -1.34021   0.47158   -0.00467   0.01736   -3.70420   1.58586   -4.03332   0.46098   6.52470   -1.32369\u001b[0m\n",
      "iter     target       SOL        CQ        SQ        QA1        QA2        Q1        Q2        Q3        Q4\n",
      "\u001b[30m7      -1.80179   0.46785   -0.00836   0.01514   -2.85077   1.03862   -4.58062   0.88366   7.00000   -2.15137\u001b[0m\n",
      "iter     target       SOL        CQ        SQ        QA1        QA2        Q1        Q2        Q3        Q4\n",
      "\u001b[95m8      -0.76322   0.47336   -0.00523   0.01191   -3.36503   1.82211   -3.96591   2.88132   6.99356   -2.27151\u001b[0m\n",
      "iter     target       SOL        CQ        SQ        QA1        QA2        Q1        Q2        Q3        Q4\n",
      "\u001b[30m9      -1.20440   0.47392   -0.00921   0.01259   -3.15083   1.86385   -4.40656   2.39970   5.34680   -1.66180\u001b[0m\n",
      "iter     target       SOL        CQ        SQ        QA1        QA2        Q1        Q2        Q3        Q4\n",
      "\u001b[30m10      -0.79757   0.47208   -0.00707   0.01310   -3.13364   2.11235   -2.26426   1.79962   7.00000   -1.47152\u001b[0m\n",
      "iter     target       SOL        CQ        SQ        QA1        QA2        Q1        Q2        Q3        Q4\n",
      "\u001b[95m11      -0.76210   0.47719   -0.01038   0.01241   -3.43482   2.39817   -4.76245   1.86911   7.00000   -1.15632\u001b[0m\n",
      "iter     target       SOL        CQ        SQ        QA1        QA2        Q1        Q2        Q3        Q4\n",
      "\u001b[30m12      -1.54354   0.47983   -0.00716   0.00768   -3.47311   1.60868   -3.22845   1.87135   7.00000   -1.29791\u001b[0m\n",
      "iter     target       SOL        CQ        SQ        QA1        QA2        Q1        Q2        Q3        Q4\n",
      "\u001b[30m13      -0.87728   0.47748   -0.01148   0.01998   -3.00915   2.04006   -4.22064   2.11377   7.00000   -2.06453\u001b[0m\n",
      "iter     target       SOL        CQ        SQ        QA1        QA2        Q1        Q2        Q3        Q4\n",
      "\u001b[30m14      -0.79121   0.47404   -0.00512   0.01845   -3.07611   2.08903   -4.42098   3.11590   7.00000   -0.50026\u001b[0m\n",
      "iter     target       SOL        CQ        SQ        QA1        QA2        Q1        Q2        Q3        Q4\n",
      "\u001b[30m15      -1.07648   0.47501   -0.01113   0.00940   -2.71473   2.38716   -4.39627   3.47601   7.00000   -1.49700\u001b[0m\n",
      "iter     target       SOL        CQ        SQ        QA1        QA2        Q1        Q2        Q3        Q4\n",
      "\u001b[30m16      -1.08506   0.47359   -0.01048   0.01851   -3.65689   2.47685   -3.52777   3.58737   6.57563   -1.51994\u001b[0m\n",
      "iter     target       SOL        CQ        SQ        QA1        QA2        Q1        Q2        Q3        Q4\n",
      "\u001b[30m17      -1.29047   0.47530   -0.00231   0.01617   -3.08993   2.68320   -3.74411   2.04194   6.74599   -1.76323\u001b[0m\n",
      "iter     target       SOL        CQ        SQ        QA1        QA2        Q1        Q2        Q3        Q4\n",
      "\u001b[30m18      -0.76593   0.47552   -0.00929   0.01733   -3.36095   2.05399   -6.15415   3.23580   7.00000   -1.51588\u001b[0m\n",
      "iter     target       SOL        CQ        SQ        QA1        QA2        Q1        Q2        Q3        Q4\n",
      "\u001b[30m19      -1.01446   0.47357   -0.00891   0.01463   -3.15705   2.01027   -4.37090   2.40643   6.62552   -1.38354\u001b[0m\n",
      "iter     target       SOL        CQ        SQ        QA1        QA2        Q1        Q2        Q3        Q4\n",
      "\u001b[30m20      -0.84304   0.48317   -0.01190   0.02000   -3.23176   2.45812   -6.04739   3.46236   7.00000   -0.20624\u001b[0m\n",
      "iter     target       SOL        CQ        SQ        QA1        QA2        Q1        Q2        Q3        Q4\n",
      "\u001b[30m21      -0.78362   0.47857   -0.01136   0.02000   -2.92470   2.49202   -6.82599   0.79270   7.00000   -0.17851\u001b[0m\n",
      "iter     target       SOL        CQ        SQ        QA1        QA2        Q1        Q2        Q3        Q4\n",
      "\u001b[30m22      -0.93996   0.47971   -0.01843   0.02000   -3.57059   2.87985   -6.73199   1.82448   7.00000   -1.50274\u001b[0m\n",
      "iter     target       SOL        CQ        SQ        QA1        QA2        Q1        Q2        Q3        Q4\n",
      "\u001b[30m23      -1.01958   0.47552   -0.01211   0.02000   -3.84248   2.65817   -6.55657   2.45567   7.00000   0.68107\u001b[0m\n",
      "iter     target       SOL        CQ        SQ        QA1        QA2        Q1        Q2        Q3        Q4\n",
      "\u001b[30m24      -2.00937   0.46891   -0.00263   0.01626   -3.01947   1.59110   -1.43217   4.47628   7.00000   -1.86962\u001b[0m\n",
      "iter     target       SOL        CQ        SQ        QA1        QA2        Q1        Q2        Q3        Q4\n",
      "\u001b[30m25      -0.89961   0.47776   -0.01839   0.02000   -2.88182   2.75218   -4.66044   1.77003   7.00000   0.46341\u001b[0m\n",
      "iter     target       SOL        CQ        SQ        QA1        QA2        Q1        Q2        Q3        Q4\n",
      "\u001b[30m26      -1.16885   0.47583   -0.01421   0.02000   -2.74723   2.87200   -6.87335   3.43362   7.00000   -0.28095\u001b[0m\n",
      "iter     target       SOL        CQ        SQ        QA1        QA2        Q1        Q2        Q3        Q4\n",
      "\u001b[30m27      -1.76350   0.48035   -0.01841   0.02000   -3.38518   2.04775   -6.02550   1.77411   7.00000   0.09431\u001b[0m\n",
      "iter     target       SOL        CQ        SQ        QA1        QA2        Q1        Q2        Q3        Q4\n",
      "\u001b[30m28      -1.34006   0.48119   -0.01064   0.02000   -3.14896   3.54872   -5.10093   0.92252   7.00000   0.13277\u001b[0m\n",
      "iter     target       SOL        CQ        SQ        QA1        QA2        Q1        Q2        Q3        Q4\n",
      "\u001b[30m29      -1.49139   0.48163   -0.00530   0.02000   -3.63315   2.60529   -7.00000   2.48893   7.00000   -1.66947\u001b[0m\n",
      "iter     target       SOL        CQ        SQ        QA1        QA2        Q1        Q2        Q3        Q4\n",
      "\u001b[30m30      -0.94633   0.47734   -0.00783   0.01913   -2.44044   2.53525   -3.98000   1.06748   7.00000   0.82114\u001b[0m\n"
     ]
    }
   ],
   "metadata": {}
  },
  {
   "cell_type": "code",
   "execution_count": null,
   "source": [],
   "outputs": [],
   "metadata": {}
  },
  {
   "cell_type": "code",
   "execution_count": null,
   "source": [],
   "outputs": [],
   "metadata": {}
  }
 ],
 "metadata": {
  "kernelspec": {
   "name": "python3",
   "display_name": "Python 3.8.13 64-bit ('baxenv': conda)"
  },
  "language_info": {
   "codemirror_mode": {
    "name": "ipython",
    "version": 3
   },
   "file_extension": ".py",
   "mimetype": "text/x-python",
   "name": "python",
   "nbconvert_exporter": "python",
   "pygments_lexer": "ipython3",
   "version": "3.8.13"
  },
  "interpreter": {
   "hash": "1b5f70a3ad72b4c9068574509e3a0dfc0f3358b3c11cb6bf99f482c84ce18336"
  }
 },
 "nbformat": 4,
 "nbformat_minor": 5
}