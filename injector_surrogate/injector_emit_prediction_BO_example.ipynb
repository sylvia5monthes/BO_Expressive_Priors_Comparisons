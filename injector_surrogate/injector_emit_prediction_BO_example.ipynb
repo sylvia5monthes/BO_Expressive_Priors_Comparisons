{
 "cells": [
  {
   "cell_type": "code",
   "execution_count": 6,
   "id": "68246fa7",
   "metadata": {},
   "outputs": [],
   "source": [
    "import sklearn\n",
    "\n",
    "#NN Surrogate model class\n",
    "import injector_surrogate_quads\n",
    "from injector_surrogate_quads import *\n",
    "sys.path.append('../configs')\n",
    "#Sim reference point to optimize around\n",
    "from ref_config import ref_point\n",
    "\n",
    "#BO\n",
    "from bayes_opt import BayesianOptimization"
   ]
  },
  {
   "cell_type": "markdown",
   "id": "5f4446ff",
   "metadata": {
    "jp-MarkdownHeadingCollapsed": true,
    "tags": []
   },
   "source": [
    "# Load injector model"
   ]
  },
  {
   "cell_type": "code",
   "execution_count": 7,
   "id": "8ffd05e1",
   "metadata": {},
   "outputs": [
    {
     "name": "stderr",
     "output_type": "stream",
     "text": [
      "2022-06-01 11:37:07.498276: I tensorflow/core/platform/cpu_feature_guard.cc:142] This TensorFlow binary is optimized with oneAPI Deep Neural Network Library (oneDNN) to use the following CPU instructions in performance-critical operations:  SSE4.1 SSE4.2 AVX AVX2 FMA\n",
      "To enable them in other operations, rebuild TensorFlow with the appropriate compiler flags.\n"
     ]
    }
   ],
   "source": [
    "Model = Surrogate_NN()\n",
    "\n",
    "Model.load_saved_model(model_path = '../models/', \\\n",
    "                       model_name = 'model_OTR2_NA_rms_emit_elu_2021-07-27T19_54_57-07_00')\n",
    "Model.load_scaling()\n",
    "Model.take_log_out = False"
   ]
  },
  {
   "cell_type": "markdown",
   "id": "3f85f4e2",
   "metadata": {},
   "source": [
    "# Set up sampling and objectives"
   ]
  },
  {
   "cell_type": "code",
   "execution_count": 8,
   "id": "54f7b25a",
   "metadata": {},
   "outputs": [],
   "source": [
    "#convert to machine units\n",
    "ref_point = Model.sim_to_machine(np.asarray(ref_point))\n",
    "\n",
    "#input params: solenoid and quads to vary \n",
    "opt_var_names = ['SOL1:solenoid_field_scale','SQ01:b1_gradient','CQ01:b1_gradient']\n",
    "\n",
    "#output params: emittance in transverse plane (x & y)\n",
    "opt_out_names = ['norm_emit_x','norm_emit_y']\n",
    "\n",
    "def evaluate(varx,vary,varz): \n",
    "\n",
    "    #make input array of length model_in_list (inputs model takes)\n",
    "    x_in = np.empty((1,len(Model.model_in_list)))\n",
    "\n",
    "    #fill in reference point around which to optimize\n",
    "    x_in[:,:] = np.asarray(ref_point[0])\n",
    "\n",
    "    #set solenoid, SQ, CQ to values from optimization step\n",
    "    x_in[:, Model.loc_in[opt_var_names[0]]] = varx\n",
    "    x_in[:, Model.loc_in[opt_var_names[1]]] = vary\n",
    "    x_in[:, Model.loc_in[opt_var_names[2]]] = varz\n",
    "\n",
    "    #output predictions\n",
    "    y_out = Model.pred_machine_units(x_in) \n",
    "\n",
    "    return -1*objective(y_out)[0]\n",
    "\n",
    "\n",
    "def objective(y_out):\n",
    "    \n",
    "    #output is geometric emittance in transverse plane\n",
    "    out1 = y_out[:,Model.loc_out['norm_emit_x']] #grab norm_emit_x out of the model\n",
    "    out2 = y_out[:,Model.loc_out['norm_emit_y']] #grab norm_emit_y out of the model\n",
    "       \n",
    "    return np.sqrt(out1*out2)/1e-6 # in um units"
   ]
  },
  {
   "cell_type": "markdown",
   "id": "ab6c0b6d",
   "metadata": {},
   "source": [
    "# Simple BO"
   ]
  },
  {
   "cell_type": "code",
   "execution_count": 9,
   "id": "e08ff77f",
   "metadata": {},
   "outputs": [
    {
     "name": "stdout",
     "output_type": "stream",
     "text": [
      "|   iter    |  target   |   varx    |   vary    |   varz    |\n",
      "-------------------------------------------------------------\n"
     ]
    },
    {
     "name": "stderr",
     "output_type": "stream",
     "text": [
      "2022-06-01 11:37:33.755346: I tensorflow/compiler/mlir/mlir_graph_optimization_pass.cc:116] None of the MLIR optimization passes are enabled (registered 2)\n",
      "2022-06-01 11:37:33.933460: I tensorflow/core/platform/profile_utils/cpu_utils.cc:112] CPU Frequency: 1996250000 Hz\n"
     ]
    },
    {
     "name": "stdout",
     "output_type": "stream",
     "text": [
      "| \u001b[0m 1       \u001b[0m | \u001b[0m-1.15    \u001b[0m | \u001b[0m 0.4859  \u001b[0m | \u001b[0m 0.008813\u001b[0m | \u001b[0m-0.02    \u001b[0m |\n",
      "| \u001b[95m 2       \u001b[0m | \u001b[95m-1.105   \u001b[0m | \u001b[95m 0.4733  \u001b[0m | \u001b[95m-0.01413 \u001b[0m | \u001b[95m-0.01631 \u001b[0m |\n",
      "| \u001b[0m 3       \u001b[0m | \u001b[0m-1.208   \u001b[0m | \u001b[0m 0.4605  \u001b[0m | \u001b[0m-0.006178\u001b[0m | \u001b[0m-0.004129\u001b[0m |\n",
      "| \u001b[0m 4       \u001b[0m | \u001b[0m-2.018   \u001b[0m | \u001b[0m 0.4993  \u001b[0m | \u001b[0m-0.003232\u001b[0m | \u001b[0m 0.007409\u001b[0m |\n",
      "| \u001b[95m 5       \u001b[0m | \u001b[95m-1.036   \u001b[0m | \u001b[95m 0.4625  \u001b[0m | \u001b[95m 0.01512 \u001b[0m | \u001b[95m-0.0189  \u001b[0m |\n",
      "| \u001b[0m 6       \u001b[0m | \u001b[0m-2.511   \u001b[0m | \u001b[0m 0.4425  \u001b[0m | \u001b[0m-0.01803 \u001b[0m | \u001b[0m-0.01976 \u001b[0m |\n",
      "| \u001b[0m 7       \u001b[0m | \u001b[0m-1.155   \u001b[0m | \u001b[0m 0.4594  \u001b[0m | \u001b[0m 0.01383 \u001b[0m | \u001b[0m-0.01832 \u001b[0m |\n",
      "| \u001b[95m 8       \u001b[0m | \u001b[95m-0.9866  \u001b[0m | \u001b[95m 0.4703  \u001b[0m | \u001b[95m 0.02    \u001b[0m | \u001b[95m-5.922e-0\u001b[0m |\n",
      "| \u001b[95m 9       \u001b[0m | \u001b[95m-0.9841  \u001b[0m | \u001b[95m 0.465   \u001b[0m | \u001b[95m-0.01378 \u001b[0m | \u001b[95m 0.01789 \u001b[0m |\n",
      "| \u001b[0m 10      \u001b[0m | \u001b[0m-2.227   \u001b[0m | \u001b[0m 0.4521  \u001b[0m | \u001b[0m 0.01222 \u001b[0m | \u001b[0m 0.02    \u001b[0m |\n",
      "| \u001b[0m 11      \u001b[0m | \u001b[0m-1.301   \u001b[0m | \u001b[0m 0.4917  \u001b[0m | \u001b[0m-0.00306 \u001b[0m | \u001b[0m-0.001123\u001b[0m |\n",
      "| \u001b[95m 12      \u001b[0m | \u001b[95m-0.5854  \u001b[0m | \u001b[95m 0.4755  \u001b[0m | \u001b[95m 0.004198\u001b[0m | \u001b[95m-0.005561\u001b[0m |\n",
      "| \u001b[0m 13      \u001b[0m | \u001b[0m-2.319   \u001b[0m | \u001b[0m 0.4938  \u001b[0m | \u001b[0m 0.01365 \u001b[0m | \u001b[0m 0.01916 \u001b[0m |\n",
      "| \u001b[0m 14      \u001b[0m | \u001b[0m-0.9201  \u001b[0m | \u001b[0m 0.4755  \u001b[0m | \u001b[0m 0.01054 \u001b[0m | \u001b[0m 0.01428 \u001b[0m |\n",
      "| \u001b[0m 15      \u001b[0m | \u001b[0m-1.163   \u001b[0m | \u001b[0m 0.4593  \u001b[0m | \u001b[0m 0.01298 \u001b[0m | \u001b[0m-0.01783 \u001b[0m |\n",
      "| \u001b[0m 16      \u001b[0m | \u001b[0m-6.234   \u001b[0m | \u001b[0m 0.55    \u001b[0m | \u001b[0m-0.02    \u001b[0m | \u001b[0m-0.02    \u001b[0m |\n",
      "| \u001b[0m 17      \u001b[0m | \u001b[0m-0.9988  \u001b[0m | \u001b[0m 0.4825  \u001b[0m | \u001b[0m-0.02    \u001b[0m | \u001b[0m 0.02    \u001b[0m |\n",
      "| \u001b[0m 18      \u001b[0m | \u001b[0m-0.5996  \u001b[0m | \u001b[0m 0.4758  \u001b[0m | \u001b[0m-0.006343\u001b[0m | \u001b[0m 0.007289\u001b[0m |\n",
      "| \u001b[0m 19      \u001b[0m | \u001b[0m-0.7753  \u001b[0m | \u001b[0m 0.4751  \u001b[0m | \u001b[0m-0.02    \u001b[0m | \u001b[0m 0.004387\u001b[0m |\n",
      "| \u001b[0m 20      \u001b[0m | \u001b[0m-0.6283  \u001b[0m | \u001b[0m 0.4735  \u001b[0m | \u001b[0m 0.003518\u001b[0m | \u001b[0m 0.00359 \u001b[0m |\n",
      "| \u001b[0m 21      \u001b[0m | \u001b[0m-0.5924  \u001b[0m | \u001b[0m 0.4759  \u001b[0m | \u001b[0m-0.00495 \u001b[0m | \u001b[0m-0.002609\u001b[0m |\n",
      "| \u001b[95m 22      \u001b[0m | \u001b[95m-0.5595  \u001b[0m | \u001b[95m 0.4781  \u001b[0m | \u001b[95m 0.000352\u001b[0m | \u001b[95m 0.001139\u001b[0m |\n",
      "| \u001b[0m 23      \u001b[0m | \u001b[0m-0.5744  \u001b[0m | \u001b[0m 0.4783  \u001b[0m | \u001b[0m 0.00804 \u001b[0m | \u001b[0m-0.001916\u001b[0m |\n",
      "| \u001b[0m 24      \u001b[0m | \u001b[0m-0.6814  \u001b[0m | \u001b[0m 0.4792  \u001b[0m | \u001b[0m 0.02    \u001b[0m | \u001b[0m-0.01222 \u001b[0m |\n",
      "| \u001b[0m 25      \u001b[0m | \u001b[0m-0.608   \u001b[0m | \u001b[0m 0.4768  \u001b[0m | \u001b[0m 0.01226 \u001b[0m | \u001b[0m-0.008964\u001b[0m |\n",
      "| \u001b[0m 26      \u001b[0m | \u001b[0m-0.5707  \u001b[0m | \u001b[0m 0.4772  \u001b[0m | \u001b[0m-0.005463\u001b[0m | \u001b[0m 0.002298\u001b[0m |\n",
      "| \u001b[0m 27      \u001b[0m | \u001b[0m-0.9578  \u001b[0m | \u001b[0m 0.4653  \u001b[0m | \u001b[0m-0.01741 \u001b[0m | \u001b[0m 0.008154\u001b[0m |\n",
      "| \u001b[0m 28      \u001b[0m | \u001b[0m-0.5738  \u001b[0m | \u001b[0m 0.4756  \u001b[0m | \u001b[0m-0.001605\u001b[0m | \u001b[0m 0.000795\u001b[0m |\n",
      "| \u001b[0m 29      \u001b[0m | \u001b[0m-0.5609  \u001b[0m | \u001b[0m 0.4783  \u001b[0m | \u001b[0m 0.003051\u001b[0m | \u001b[0m-0.002533\u001b[0m |\n",
      "| \u001b[0m 30      \u001b[0m | \u001b[0m-4.401   \u001b[0m | \u001b[0m 0.5323  \u001b[0m | \u001b[0m-0.00326 \u001b[0m | \u001b[0m-0.008156\u001b[0m |\n",
      "| \u001b[0m 31      \u001b[0m | \u001b[0m-0.5645  \u001b[0m | \u001b[0m 0.477   \u001b[0m | \u001b[0m 0.004031\u001b[0m | \u001b[0m-0.000537\u001b[0m |\n",
      "| \u001b[0m 32      \u001b[0m | \u001b[0m-0.5762  \u001b[0m | \u001b[0m 0.4776  \u001b[0m | \u001b[0m-0.000457\u001b[0m | \u001b[0m 0.005766\u001b[0m |\n",
      "| \u001b[0m 33      \u001b[0m | \u001b[0m-0.5608  \u001b[0m | \u001b[0m 0.4778  \u001b[0m | \u001b[0m-0.000978\u001b[0m | \u001b[0m-0.001138\u001b[0m |\n",
      "| \u001b[0m 34      \u001b[0m | \u001b[0m-0.5692  \u001b[0m | \u001b[0m 0.4781  \u001b[0m | \u001b[0m 0.006492\u001b[0m | \u001b[0m-0.004794\u001b[0m |\n",
      "| \u001b[0m 35      \u001b[0m | \u001b[0m-0.561   \u001b[0m | \u001b[0m 0.4777  \u001b[0m | \u001b[0m-0.001792\u001b[0m | \u001b[0m 0.001879\u001b[0m |\n",
      "| \u001b[0m 36      \u001b[0m | \u001b[0m-0.5604  \u001b[0m | \u001b[0m 0.4779  \u001b[0m | \u001b[0m 0.0011  \u001b[0m | \u001b[0m-0.002313\u001b[0m |\n",
      "| \u001b[0m 37      \u001b[0m | \u001b[0m-1.89    \u001b[0m | \u001b[0m 0.4514  \u001b[0m | \u001b[0m-0.01771 \u001b[0m | \u001b[0m-0.005214\u001b[0m |\n",
      "| \u001b[0m 38      \u001b[0m | \u001b[0m-0.5608  \u001b[0m | \u001b[0m 0.4783  \u001b[0m | \u001b[0m 0.001115\u001b[0m | \u001b[0m-0.00249 \u001b[0m |\n",
      "| \u001b[95m 39      \u001b[0m | \u001b[95m-0.5592  \u001b[0m | \u001b[95m 0.4782  \u001b[0m | \u001b[95m 0.001755\u001b[0m | \u001b[95m-0.001183\u001b[0m |\n",
      "| \u001b[0m 40      \u001b[0m | \u001b[0m-0.5628  \u001b[0m | \u001b[0m 0.4781  \u001b[0m | \u001b[0m 0.001986\u001b[0m | \u001b[0m 0.002034\u001b[0m |\n",
      "| \u001b[0m 41      \u001b[0m | \u001b[0m-0.5628  \u001b[0m | \u001b[0m 0.4773  \u001b[0m | \u001b[0m 0.000586\u001b[0m | \u001b[0m 0.002464\u001b[0m |\n",
      "| \u001b[0m 42      \u001b[0m | \u001b[0m-0.5618  \u001b[0m | \u001b[0m 0.477   \u001b[0m | \u001b[0m-0.000469\u001b[0m | \u001b[0m-0.000827\u001b[0m |\n",
      "| \u001b[95m 43      \u001b[0m | \u001b[95m-0.559   \u001b[0m | \u001b[95m 0.478   \u001b[0m | \u001b[95m 0.000318\u001b[0m | \u001b[95m-0.000773\u001b[0m |\n",
      "| \u001b[0m 44      \u001b[0m | \u001b[0m-0.5609  \u001b[0m | \u001b[0m 0.4772  \u001b[0m | \u001b[0m 0.002013\u001b[0m | \u001b[0m-0.000277\u001b[0m |\n",
      "| \u001b[0m 45      \u001b[0m | \u001b[0m-0.8248  \u001b[0m | \u001b[0m 0.468   \u001b[0m | \u001b[0m 0.01382 \u001b[0m | \u001b[0m-0.01477 \u001b[0m |\n",
      "=============================================================\n"
     ]
    }
   ],
   "source": [
    "# bounds on input params \n",
    "pbounds = {'varx': (0.44, 0.55),\n",
    "           'vary': (-0.02, 0.02),\n",
    "           'varz': (-0.02, 0.02)\n",
    "          }\n",
    "\n",
    "optimizer = BayesianOptimization(\n",
    "    f = evaluate,\n",
    "    pbounds = pbounds,\n",
    "    random_state = 1,\n",
    ")\n",
    "\n",
    "optimizer.maximize(\n",
    "    init_points=5,\n",
    "    n_iter=40,\n",
    ")"
   ]
  },
  {
   "cell_type": "markdown",
   "id": "0fefaf55",
   "metadata": {},
   "source": [
    "## Results from simple BO"
   ]
  },
  {
   "cell_type": "code",
   "execution_count": 10,
   "id": "1574eea8",
   "metadata": {},
   "outputs": [
    {
     "name": "stdout",
     "output_type": "stream",
     "text": [
      "optimum (pv_units)  0.4780202706676465 0.00031806251471239513 -0.0007734038723606375\n",
      "optimum geom emit  0.5590128898620605\n"
     ]
    }
   ],
   "source": [
    "SOL_opt = optimizer.max['params']['varx'] # solenoid val at optimum\n",
    "CQ_opt = optimizer.max['params']['vary'] # CQ val at optimum\n",
    "SQ_opt = optimizer.max['params']['varz'] # SQ val at optimum\n",
    "\n",
    "opt_emit = -1*optimizer.max['target'] # emittance value at optimum (in um)\n",
    "\n",
    "print('optimum (pv_units) ',SOL_opt, CQ_opt, SQ_opt)\n",
    "print('optimum geom emit ', opt_emit)"
   ]
  },
  {
   "cell_type": "code",
   "execution_count": null,
   "id": "98b36436-c6ae-4319-8329-0f4c0160e7a9",
   "metadata": {},
   "outputs": [],
   "source": []
  },
  {
   "cell_type": "code",
   "execution_count": null,
   "id": "751ccfd0-4a20-4a22-a0bd-9e8bbbd41fbc",
   "metadata": {},
   "outputs": [],
   "source": []
  }
 ],
 "metadata": {
  "kernelspec": {
   "display_name": "Python 3 (ipykernel)",
   "language": "python",
   "name": "python3"
  },
  "language_info": {
   "codemirror_mode": {
    "name": "ipython",
    "version": 3
   },
   "file_extension": ".py",
   "mimetype": "text/x-python",
   "name": "python",
   "nbconvert_exporter": "python",
   "pygments_lexer": "ipython3",
   "version": "3.7.13"
  }
 },
 "nbformat": 4,
 "nbformat_minor": 5
}
