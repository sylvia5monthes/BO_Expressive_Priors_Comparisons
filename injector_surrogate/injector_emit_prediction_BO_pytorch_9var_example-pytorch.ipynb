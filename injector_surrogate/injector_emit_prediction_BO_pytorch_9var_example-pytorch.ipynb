{
 "cells": [
  {
   "cell_type": "code",
   "execution_count": 1,
   "id": "ed841451-2ad2-4a82-8b8d-e8cc8904736e",
   "metadata": {},
   "outputs": [],
   "source": [
    "#NN Surrogate model class\n",
    "from injector_surrogate_quads import *\n",
    "import physics_gp\n",
    "\n",
    "sys.path.append('../configs')\n",
    "#Sim reference point to optimize around\n",
    "from ref_config import ref_point\n",
    "\n",
    "#Pytorch \n",
    "import numpy as np\n",
    "import torch\n",
    "import gpytorch\n",
    "import botorch \n",
    "\n",
    "import matplotlib.pyplot as plt"
   ]
  },
  {
   "cell_type": "markdown",
   "id": "37f9dd34-10e0-4915-accf-957a40d4f47b",
   "metadata": {},
   "source": [
    "# BO for Minimizing Emittance*Bmag with 9 Variables (SQ, CQ, SOL, matching quads)"
   ]
  },
  {
   "cell_type": "code",
   "execution_count": 2,
   "id": "72ef807c-db73-418f-adfb-66d40cc2124e",
   "metadata": {},
   "outputs": [],
   "source": [
    "Model = Surrogate_NN(pytorch=True)\n",
    "\n",
    "Model.load_saved_model(model_path = '../models/', \n",
    "                       model_name = 'Surrogate_NN_PyTorch')\n",
    "\n",
    "Model.load_scaling(scalerfilex = '../data/transformer_x_pytorch.pth', \n",
    "                   scalerfiley = '../data/transformer_y_pytorch.pth')\n",
    "Model.take_log_out = False"
   ]
  },
  {
   "cell_type": "markdown",
   "id": "5ee602f2-7593-4ddf-b836-2e7ce051d196",
   "metadata": {},
   "source": [
    "## Import design Twiss parameters (OTR2)"
   ]
  },
  {
   "cell_type": "code",
   "execution_count": 3,
   "id": "a2e7b392-8239-41c9-adbe-1c1f234db566",
   "metadata": {},
   "outputs": [],
   "source": [
    "beamline_info = json.load(open('../configs/beamline_info.json'))\n",
    "get_twiss0 = beamline_info['Twiss0']\n",
    "\n",
    "# emit, beta, alpha\n",
    "twiss0 = {'x': [get_twiss0[0], get_twiss0[2], get_twiss0[4]],\n",
    "          'y': [get_twiss0[1], get_twiss0[3], get_twiss0[5]]}\n",
    "\n",
    "beta0_x, alpha0_x = twiss0['x'][1], twiss0['x'][2]\n",
    "beta0_y, alpha0_y = twiss0['y'][1], twiss0['y'][2]\n",
    "# print(twiss0['x'], twiss0['y'])"
   ]
  },
  {
   "cell_type": "markdown",
   "id": "5f5d0ea5-fda2-4658-bcc0-0f89757ffeb8",
   "metadata": {
    "tags": []
   },
   "source": [
    "## Objective Function"
   ]
  },
  {
   "cell_type": "code",
   "execution_count": 4,
   "id": "f098be97-39af-417d-ab3b-8353dd8e07f7",
   "metadata": {},
   "outputs": [],
   "source": [
    "# convert to machine units\n",
    "ref_point = Model.sim_to_machine(np.asarray(ref_point))\n",
    "\n",
    "# input params: solenoid and quads to vary \n",
    "opt_var_names = ['SOL1:solenoid_field_scale','CQ01:b1_gradient', 'SQ01:b1_gradient',\n",
    "                 \"QA01:b1_gradient\", \"QA02:b1_gradient\", \n",
    "                 \"QE01:b1_gradient\", \"QE02:b1_gradient\", \"QE03:b1_gradient\", \"QE04:b1_gradient\"]\n",
    "\n",
    "bounds = torch.as_tensor([[0.46, 0.485], [-0.02, 0.02], [-0.02, 0.02],\n",
    "                       [-4, -1], [1, 4],\n",
    "                       [-7,-1], [-1, 7],[-1, 7], [-7, 1]])\n",
    "\n",
    "# output params: emittance in transverse plane (x & y)\n",
    "opt_out_names = ['norm_emit_x','norm_emit_y']"
   ]
  },
  {
   "cell_type": "code",
   "execution_count": 5,
   "id": "712a59e5-3b68-4c92-b4d8-fc7f122feec2",
   "metadata": {},
   "outputs": [],
   "source": [
    "def evaluate(config): \n",
    "    \"\"\"\n",
    "    D is input space dimensionality\n",
    "    N is number of sample points\n",
    "    :param config: input values of opt_var_names, torch.tensor, shape (N, D) \n",
    "    returns (N, 1) \n",
    "    \"\"\"\n",
    "    N = config.shape[0]\n",
    "    D = config.shape[1]\n",
    "    \n",
    "    # make input array of length model_in_list (inputs model takes)\n",
    "    x_in = torch.empty((N,len(Model.model_in_list)))\n",
    "    \n",
    "    # fill in reference point around which to optimize\n",
    "    x_in[:,:] = torch.tensor(ref_point[0])\n",
    "\n",
    "    #set solenoid, CQ, SQ, matching quads to values from optimization step\n",
    "    col = []\n",
    "    for i in range(D):\n",
    "        col.append(Model.loc_in[opt_var_names[i]]) #should make col a flat list of indices, e.g. [4, 6, 7]\n",
    "    x_in[:, col] = config[:,:] \n",
    "    \n",
    "    #output predictions\n",
    "    y_out = Model.pred_machine_units(x_in)\n",
    "\n",
    "    return -1*objective(y_out)\n",
    "\n",
    "\n",
    "def objective(y_out):\n",
    "    \"\"\"\n",
    "    :param y_out: tensor with has a shape of (N, num_outputs)\n",
    "    returns tensor of emittance * bmag for each input, shape (N, 1)\n",
    "    \"\"\"\n",
    "    \n",
    "    # geometric emittance in transverse plane\n",
    "    out1 = y_out[:,Model.loc_out['norm_emit_x']] #grab norm_emit_x out of the model\n",
    "    out2 = y_out[:,Model.loc_out['norm_emit_y']] #grab norm_emit_y out of the model\n",
    "    emit = torch.sqrt(out1 * out2)\n",
    "  \n",
    "    sigma_x = y_out[:,Model.loc_out['sigma_x']] #grab sigma_x out of the model \n",
    "    sigma_y = y_out[:,Model.loc_out['sigma_y']] #grab sigma_y out of the model \n",
    "    \n",
    "    # real beta and alpha \n",
    "    # NEEDS TO BE FIXED - currently assuming real alpha to be the same as design alpha \n",
    "    alpha_x = torch.tensor(alpha0_x).repeat(y_out.shape[0])\n",
    "    alpha_y = torch.tensor(alpha0_y).repeat(y_out.shape[0])\n",
    "    beta_x, beta_y = (sigma_x**2) / out1, (sigma_y**2) / out2\n",
    "    \n",
    "    # bmag \n",
    "    bmag_x = 0.5 * ((beta0_x / beta_x) + (beta_x / beta0_x)) + 0.5 * ((alpha_x * torch.sqrt(beta0_x / beta_x) - alpha0_x * torch.sqrt(beta_x / beta0_x))**2)\n",
    "    bmag_y = 0.5 * ((beta0_y / beta_y) + (beta_y / beta0_y)) + 0.5 * ((alpha_y * torch.sqrt(beta0_y / beta_y) - alpha0_y * torch.sqrt(beta_y / beta0_y))**2)\n",
    "    bmag = torch.sqrt(bmag_x * bmag_y)\n",
    "    \n",
    "    out = (emit * bmag)/1e-6 # in um units \n",
    "    return out.reshape(-1,1)"
   ]
  },
  {
   "cell_type": "markdown",
   "id": "cab76dc5-7177-4a05-8133-4639cf66ae38",
   "metadata": {
    "tags": []
   },
   "source": [
    "## Example: Set up initial training samples"
   ]
  },
  {
   "cell_type": "code",
   "execution_count": 6,
   "id": "ab8e2cc5-715b-415d-a9c4-3d92e183d34f",
   "metadata": {},
   "outputs": [
    {
     "name": "stdout",
     "output_type": "stream",
     "text": [
      "tensor([[ 4.8271e-01,  8.0343e-03,  1.2452e-02, -2.6051e+00,  3.1735e+00,\n",
      "         -5.4950e+00,  3.4614e+00,  4.7547e+00, -2.9873e+00],\n",
      "        [ 4.7396e-01, -6.6409e-04, -1.9101e-02, -2.6881e+00,  2.7658e+00,\n",
      "         -4.5992e+00,  3.6788e-01,  1.2695e+00, -4.5670e+00],\n",
      "        [ 4.8126e-01,  1.4494e-02,  6.8171e-03, -3.3674e+00,  1.4442e+00,\n",
      "         -4.7933e+00, -8.6104e-01,  4.0675e+00, -6.6396e+00]])\n",
      "tensor([[ -2.1410],\n",
      "        [-11.9202],\n",
      "        [ -3.9883]])\n"
     ]
    }
   ],
   "source": [
    "#create initial samples within specified bounds\n",
    "n_samples = 3\n",
    "n_var = 9\n",
    "\n",
    "train_x = torch.zeros((n_samples, n_var)) \n",
    "for i in range(n_var):\n",
    "    train_x[:,i] = torch.tensor(np.random.uniform(bounds[i,0],bounds[i,1],(n_samples,)))\n",
    "print(train_x)\n",
    "\n",
    "train_y = evaluate(train_x).detach() # detach gradient to fix going backwards twice error while fitting hyperparameters\n",
    "print(train_y)"
   ]
  },
  {
   "cell_type": "markdown",
   "id": "90a7ebe7-3652-467a-aabd-9c285ecc7dde",
   "metadata": {
    "tags": []
   },
   "source": [
    "## Bayesian Optimization"
   ]
  },
  {
   "cell_type": "markdown",
   "id": "95895f93-be9f-4fd1-b50c-ba4d488269bb",
   "metadata": {},
   "source": [
    "### Gaussian Regression & Acquisition Function"
   ]
  },
  {
   "cell_type": "code",
   "execution_count": 7,
   "id": "3579279b-21fd-4afc-b7b3-33b0fd38ce84",
   "metadata": {},
   "outputs": [],
   "source": [
    "def get_BO_point(x, f, bounds, beta=2.0, mean_module=None, input_transform=None, outcome_transform=None):\n",
    "    \"\"\"\n",
    "    function that trains a GP model of data and returns the next observation point using UCB\n",
    "    D is input space dimensionality\n",
    "    N is number of samples\n",
    "\n",
    "    :param x: input points data, torch.tensor, shape (N,D)\n",
    "    :param f: output point data, torch.tensor, shape (N,1)\n",
    "    :param bounds: input space bounds, torch.tensor, shape (2,D)\n",
    "    :param precision: precision matrix used for RBF kernel (must be PSD), torch.tensor, (D,D)\n",
    "    :param beta: UCB optimization parameter, float\n",
    "    :return x_candidate, model: next observation point and gp model w/observations\n",
    "    \"\"\"\n",
    "    gp = botorch.models.SingleTaskGP(x, f,\n",
    "                                     mean_module=mean_module, \n",
    "                                     outcome_transform=outcome_transform, \n",
    "                                     input_transform=input_transform)\n",
    "        \n",
    "    mll = gpytorch.mlls.ExactMarginalLogLikelihood(gp.likelihood, gp)\n",
    "    \n",
    "    # fit GP hyperparameters\n",
    "    botorch.fit.fit_gpytorch_model(mll)\n",
    "\n",
    "    # do UCB acquisition\n",
    "    UCB = botorch.acquisition.UpperConfidenceBound(gp, beta=beta)\n",
    "    candidate, acq_value = botorch.optim.optimize_acqf(UCB,\n",
    "                                                       bounds=bounds,\n",
    "                                                       q=1,\n",
    "                                                       num_restarts=100,\n",
    "                                                       raw_samples=100)\n",
    "    return candidate, gp"
   ]
  },
  {
   "cell_type": "code",
   "execution_count": 8,
   "id": "12f08ef8-0cde-4c86-8e5b-57c8ac264e3b",
   "metadata": {},
   "outputs": [],
   "source": [
    "def BayesianOptimization(train_x, train_y, n_steps, prior=None, transformer_x=None, transformer_y=None):\n",
    "    best_y_list = []\n",
    "    best_y = torch.max(train_y)\n",
    "    best_y_list.append(best_y)\n",
    "    \n",
    "    for i in range(n_steps):\n",
    "        x_new, model = get_BO_point(train_x, train_y, \n",
    "                                    bounds=bounds.transpose(0,1), \n",
    "                                    mean_module=prior, \n",
    "                                    input_transform=transformer_x, \n",
    "                                    outcome_transform=transformer_y)\n",
    "\n",
    "        train_x = torch.cat((train_x, x_new))\n",
    "        new_y = evaluate(train_x[-1].reshape(1,-1)).detach()\n",
    "        train_y = torch.cat((train_y, new_y))\n",
    "\n",
    "        if (new_y > best_y):\n",
    "            best_y = new_y\n",
    "            color = '\\033[95m', '\\033[0m'\n",
    "        else: \n",
    "            color = '\\u001b[30m', '\\033[0m'\n",
    "        \n",
    "        best_y_list.append(best_y)\n",
    "        \n",
    "#         print(\"iter     target       SOL        CQ        SQ        QA1        QA2        Q1        Q2        Q3        Q4\")\n",
    "#         print(f'{color[0]}{i+1}      {train_y[-1,0]:.5f}   {train_x[-1,0]:.5f}   {train_x[-1,1]:.5f}   {train_x[-1,2]:.5f}   {train_x[-1,3]:.5f}   {train_x[-1,4]:.5f}   {train_x[-1,5]:.5f}   {train_x[-1,6]:.5f}   {train_x[-1,7]:.5f}   {train_x[-1,8]:.5f}{color[1]}')\n",
    "        \n",
    "    return torch.tensor(best_y_list), train_x"
   ]
  },
  {
   "cell_type": "markdown",
   "id": "c2474164-6fb1-4891-be6a-d74a57d65a3a",
   "metadata": {},
   "source": [
    "### Custom Mean Modules"
   ]
  },
  {
   "cell_type": "code",
   "execution_count": 9,
   "id": "3c9a950e-7da0-4c8c-8f01-42becd03cb1d",
   "metadata": {},
   "outputs": [],
   "source": [
    "# class used to create NN custom prior\n",
    "import torch.nn as nn\n",
    "class NN5_prior(nn.Module):\n",
    "    def __init__(self):\n",
    "        super(NN5_prior, self).__init__()\n",
    "        \n",
    "        hidden_size = 40\n",
    "        self.network = nn.Sequential(nn.Linear(n_var, hidden_size), \n",
    "                                     nn.Tanh(), \n",
    "                                     nn.Linear(hidden_size, hidden_size), \n",
    "                                     nn.Tanh(),\n",
    "                                     nn.Linear(hidden_size, hidden_size), \n",
    "                                     nn.Tanh(),\n",
    "                                     nn.Linear(hidden_size, hidden_size),\n",
    "                                     nn.Tanh(),\n",
    "                                     nn.Linear(hidden_size, hidden_size),\n",
    "                                     nn.Tanh(),\n",
    "                                     nn.Linear(hidden_size, 1))\n",
    "        \n",
    "        \n",
    "    def forward(self, x):\n",
    "        x = self.network(x)\n",
    "        return x \n",
    "\n",
    "class NN4_prior(nn.Module):\n",
    "    def __init__(self):\n",
    "        super(NN4_prior, self).__init__()\n",
    "        \n",
    "        hidden_size = 30\n",
    "        self.network = nn.Sequential(nn.Linear(n_var, hidden_size), \n",
    "                                     nn.Tanh(), \n",
    "                                     nn.Linear(hidden_size, hidden_size), \n",
    "                                     nn.Tanh(),\n",
    "                                     nn.Linear(hidden_size, hidden_size), \n",
    "                                     nn.Tanh(),\n",
    "                                     nn.Linear(hidden_size, hidden_size), \n",
    "                                     nn.Tanh(),\n",
    "                                     nn.Linear(hidden_size, 1))\n",
    "        \n",
    "    def forward(self, x):\n",
    "        \"\"\"\n",
    "        takes in transformed x, returns transformed y\n",
    "        \"\"\"\n",
    "        x = self.network(x)\n",
    "        return x \n",
    "\n",
    "class NN3_prior(nn.Module):\n",
    "    def __init__(self):\n",
    "        super(NN3_prior, self).__init__()\n",
    "        \n",
    "        hidden_size = 20\n",
    "        self.network = nn.Sequential(nn.Linear(n_var, hidden_size), \n",
    "                                     nn.Tanh(), \n",
    "                                     nn.Linear(hidden_size, hidden_size), \n",
    "                                     nn.Tanh(),\n",
    "                                     nn.Linear(hidden_size, 1))\n",
    "        \n",
    "    def forward(self, x):\n",
    "        \"\"\"\n",
    "        takes in transformed x, returns transformed y\n",
    "        \"\"\"\n",
    "        x = self.network(x)\n",
    "        return x \n",
    "    \n",
    "# NN model trained from surrogate model samples as prior\n",
    "from gpytorch.means.mean import Mean\n",
    "class CustomMean(Mean):\n",
    "    def __init__(self, name, prior, NN_y_transform, outcome_transform):\n",
    "        super(CustomMean, self).__init__()\n",
    "        self.NN_model = prior\n",
    "        self.NN_model.load_state_dict(torch.load('./results/' + name + '.pth'))\n",
    "        self.NN_model.eval()\n",
    "        \n",
    "        self.NN_model.requires_grad = False\n",
    "        \n",
    "        self.y_norm_transform = botorch.models.transforms.input.Normalize(1)\n",
    "        self.y_norm_transform.load_state_dict(torch.load(f'./results/' + NN_y_transform + '.pth'))\n",
    "        self.y_norm_transform.eval()\n",
    "        \n",
    "        self.outcome_transform = outcome_transform\n",
    "        \n",
    "    def forward(self, x):\n",
    "        \"\"\"\n",
    "        takes in transformed x, returns transformed y\n",
    "        \"\"\"\n",
    "        self.outcome_transform.eval()\n",
    "        \n",
    "        out = []\n",
    "        if (x.dim() == 2):\n",
    "            x = x.unsqueeze(dim=0) # shape x into (batch_size = 1, n_samples, n_var) if necessary \n",
    "        for i in range(x.size(dim=0)):\n",
    "            m = self.NN_model(x[i].detach()).float() # normed x |-> NN normed y \n",
    "            m = self.y_norm_transform.untransform(m) # NN normed y -> real y\n",
    "            m = self.outcome_transform(m)[0] # real y -> standardized y\n",
    "            out.append(m.squeeze())\n",
    "            \n",
    "        self.outcome_transform.train()\n",
    "        return torch.stack(out,dim=0)\n",
    "    \n",
    "# surrogate model as prior \n",
    "class Surrogate(Mean):\n",
    "    def __init__(self, input_transform, outcome_transform):\n",
    "        super(Surrogate, self).__init__()\n",
    "        self.input_transform = input_transform \n",
    "        self.outcome_transform = outcome_transform\n",
    "\n",
    "    def forward(self, x):\n",
    "        \"\"\"\n",
    "        takes in transformed x, returns transformed y (retaining gradient) \n",
    "        \"\"\"\n",
    "        self.input_transform.eval()\n",
    "        self.outcome_transform.eval()\n",
    "        \n",
    "        x = self.input_transform.untransform(x) # normed x -> real x \n",
    "        out = []\n",
    "        \n",
    "        if (x.dim() == 2):\n",
    "            x = x.unsqueeze(dim=0) # shape x into (batch_size = 1, n_samples, n_var) if necessary \n",
    "        for i in range(x.size(dim=0)):\n",
    "            m = evaluate(x[i].detach()).float() # real x |-> real y\n",
    "            m = self.outcome_transform(m)[0] # real y -> standardized y\n",
    "            out.append(m.squeeze())\n",
    "            \n",
    "        self.input_transform.train() \n",
    "        self.outcome_transform.train()\n",
    "        return torch.stack(out,dim=0)"
   ]
  },
  {
   "cell_type": "markdown",
   "id": "08b3f10e-0dd9-404a-b065-9cef0f576e33",
   "metadata": {},
   "source": [
    "### BO trials"
   ]
  },
  {
   "cell_type": "code",
   "execution_count": null,
   "id": "29038956-b897-471a-a983-371d66a72efe",
   "metadata": {
    "tags": []
   },
   "outputs": [
    {
     "name": "stdout",
     "output_type": "stream",
     "text": [
      "iter 0\n",
      "running constant (default)\n",
      "running ground truth\n",
      "running model5_4hidden_40nodes_1000epoch_0.01_-5\n",
      "iter 1\n",
      "running constant (default)\n",
      "running ground truth\n"
     ]
    },
    {
     "name": "stderr",
     "output_type": "stream",
     "text": [
      "/sdf/home/x/xu123456/miniconda3/envs/baxenv/lib/python3.7/site-packages/gpytorch/distributions/multivariate_normal.py:263: NumericalWarning: Negative variance values detected. This is likely due to numerical instabilities. Rounding negative variances up to 1e-06.\n",
      "  NumericalWarning,\n",
      "/sdf/home/x/xu123456/miniconda3/envs/baxenv/lib/python3.7/site-packages/gpytorch/distributions/multivariate_normal.py:263: NumericalWarning: Negative variance values detected. This is likely due to numerical instabilities. Rounding negative variances up to 1e-06.\n",
      "  NumericalWarning,\n",
      "/sdf/home/x/xu123456/miniconda3/envs/baxenv/lib/python3.7/site-packages/gpytorch/distributions/multivariate_normal.py:263: NumericalWarning: Negative variance values detected. This is likely due to numerical instabilities. Rounding negative variances up to 1e-06.\n",
      "  NumericalWarning,\n",
      "/sdf/home/x/xu123456/miniconda3/envs/baxenv/lib/python3.7/site-packages/gpytorch/distributions/multivariate_normal.py:263: NumericalWarning: Negative variance values detected. This is likely due to numerical instabilities. Rounding negative variances up to 1e-06.\n",
      "  NumericalWarning,\n"
     ]
    },
    {
     "name": "stdout",
     "output_type": "stream",
     "text": [
      "running model5_4hidden_40nodes_1000epoch_0.01_-5\n",
      "iter 2\n",
      "running constant (default)\n",
      "running ground truth\n",
      "running model5_4hidden_40nodes_1000epoch_0.01_-5\n"
     ]
    },
    {
     "name": "stderr",
     "output_type": "stream",
     "text": [
      "/sdf/home/x/xu123456/miniconda3/envs/baxenv/lib/python3.7/site-packages/botorch/fit.py:148: NumericalWarning: A not p.d., added jitter of 1.0e-06 to the diagonal\n",
      "  warnings.warn(w.message, w.category)\n",
      "/sdf/home/x/xu123456/miniconda3/envs/baxenv/lib/python3.7/site-packages/botorch/fit.py:148: NumericalWarning: A not p.d., added jitter of 1.0e-05 to the diagonal\n",
      "  warnings.warn(w.message, w.category)\n"
     ]
    },
    {
     "name": "stdout",
     "output_type": "stream",
     "text": [
      "iter 3\n",
      "running constant (default)\n",
      "running ground truth\n"
     ]
    },
    {
     "name": "stderr",
     "output_type": "stream",
     "text": [
      "/sdf/home/x/xu123456/miniconda3/envs/baxenv/lib/python3.7/site-packages/gpytorch/distributions/multivariate_normal.py:263: NumericalWarning: Negative variance values detected. This is likely due to numerical instabilities. Rounding negative variances up to 1e-06.\n",
      "  NumericalWarning,\n",
      "/sdf/home/x/xu123456/miniconda3/envs/baxenv/lib/python3.7/site-packages/gpytorch/distributions/multivariate_normal.py:263: NumericalWarning: Negative variance values detected. This is likely due to numerical instabilities. Rounding negative variances up to 1e-06.\n",
      "  NumericalWarning,\n"
     ]
    },
    {
     "name": "stdout",
     "output_type": "stream",
     "text": [
      "running model5_4hidden_40nodes_1000epoch_0.01_-5\n"
     ]
    }
   ],
   "source": [
    "n_trials = 5\n",
    "n_steps = 30\n",
    "\n",
    "BO_runs = ['constant (default)','ground truth', 'model3_1hidden_20nodes_500epoch_0.02', 'model4_3hidden_30nodes_500epoch_0.01',\n",
    "          'model5_4hidden_40nodes_1000epoch_0.01_-5'] # names of runs \n",
    "\n",
    "transformer_x = botorch.models.transforms.input.Normalize(n_var, bounds = bounds.transpose(0,1))\n",
    "NN_y_transformers = ['transformer_y_3^9_norm', 'transformer_y_4^9_norm', 'transformer_y_5^9_-5_norm']\n",
    "\n",
    "filename = 'surr_const_model5_-5_2.0_2'\n",
    "\n",
    "best_y_lists = [] # best y value over iterations of each run\n",
    "x_configs = [] # changes in parameter values over iterations of each run \n",
    "for i in range(len(BO_runs)):\n",
    "    best_y_lists.append([])\n",
    "    x_configs.append([])\n",
    "             \n",
    "run_BO = [True, True, False, False, True] # whether or not to run the type of BO\n",
    "\n",
    "for i in range(n_trials):\n",
    "    #for each trial, new training samples are generated, and each BO run type is executed\n",
    "    \n",
    "    train_x = torch.zeros((n_samples, n_var)) \n",
    "    for j in range(n_var):\n",
    "        train_x[:,j] = torch.tensor(np.random.uniform(bounds[j,0],bounds[j,1],(n_samples,)))\n",
    "\n",
    "    train_y = evaluate(train_x).detach().reshape(-1,1)\n",
    "    # print(train_x, train_y)\n",
    "    \n",
    "    transformer_y_list = [] # outcome_transform modules for each type of run\n",
    "    for j in range(len(BO_runs)):\n",
    "        transformer_y_list.append(botorch.models.transforms.outcome.Standardize(1))\n",
    "\n",
    "    priors = [None, Surrogate(transformer_x, transformer_y_list[1]),\n",
    "             CustomMean(BO_runs[2], NN3_prior(), NN_y_transformers[0], transformer_y_list[2]),\n",
    "             CustomMean(BO_runs[3], NN4_prior(), NN_y_transformers[1], transformer_y_list[3]),\n",
    "             CustomMean(BO_runs[4], NN5_prior(), NN_y_transformers[2], transformer_y_list[4])] # the priors used for each type of run \n",
    "        \n",
    "    print(f'iter {i}')\n",
    "    for run_index in range (len(BO_runs)):\n",
    "\n",
    "        if run_BO[run_index] == True:\n",
    "            print(f'running {BO_runs[run_index]}')\n",
    "            prior_best_y, prior_x_config = BayesianOptimization(train_x, \n",
    "                                                         train_y, \n",
    "                                                         n_steps=n_steps, \n",
    "                                                         prior=priors[run_index], \n",
    "                                                         transformer_x=transformer_x,\n",
    "                                                         transformer_y=transformer_y_list[run_index])\n",
    "            best_y_lists[run_index].append(prior_best_y)\n",
    "            x_configs[run_index] = prior_x_config\n",
    "        torch.save({'BO_runs': BO_runs, 'run_BO': run_BO, 'x_configs': x_configs, 'best_y_lists': best_y_lists}, './results/' + filename + '.pt')"
   ]
  },
  {
   "cell_type": "code",
   "execution_count": null,
   "id": "2b3cfc28-ad8e-465c-bd90-40b2f0a3a44d",
   "metadata": {},
   "outputs": [],
   "source": []
  },
  {
   "cell_type": "code",
   "execution_count": null,
   "id": "a6448337-8ec1-48f0-bbae-5cd1106dbf8e",
   "metadata": {},
   "outputs": [],
   "source": [
    "\"\"\"\n",
    "#define acquisition function\n",
    "from botorch.acquisition.analytic import UpperConfidenceBound, ExpectedImprovement\n",
    "from botorch.optim import optimize_acqf\n",
    "\n",
    "#optimize\n",
    "n_steps = 45\n",
    "for i in range(n_steps):\n",
    "    #best_normed_y = torch.max(normed_train_y)\n",
    "    UCB = UpperConfidenceBound(gp, beta=2.5)\n",
    "    #EI = ExpectedImprovement(gp, best_normed_y)\n",
    "\n",
    "    bounds = torch.cat((torch.zeros(1,3), torch.ones(1,3)), 0)\n",
    "    candidate, acq_value = optimize_acqf(UCB, bounds = bounds, num_restarts = 20, q = 1, raw_samples = 20)\n",
    "\n",
    "    train_x = torch.cat((train_x, transformer_x.backward(candidate)))\n",
    "    normed_train_x = transformer_x.forward(train_x)\n",
    "\n",
    "    new_y = torch.tensor(evaluate(train_x[-1][0], train_x[-1][1], train_x[-1][2])).reshape(1,1)\n",
    "    train_y = torch.cat((train_y, new_y))\n",
    "    \n",
    "    print(\"iteration        target         varx         vary         varz\")\n",
    "    print(f'{i+1}              {train_y[-1][0]:.5f}      {train_x[-1][0]:.5f}      {train_x[-1][1]:.5f}      {train_x[-1][2]:.5f}')\n",
    "    print(torch.max(train_y))\n",
    "    \n",
    "    transformer_y = transformer.Transformer(train_y, 'standardize')\n",
    "    normed_train_y = transformer_y.forward(train_y)\n",
    "\n",
    "    gp = SingleTaskGP(normed_train_x, normed_train_y)\n",
    "    mll = ExactMarginalLogLikelihood(gp.likelihood, gp)\n",
    "    fit_gpytorch_model(mll);\n",
    "\"\"\""
   ]
  },
  {
   "cell_type": "code",
   "execution_count": null,
   "id": "39cfb5ca-1288-468e-b19d-8360a35c94a3",
   "metadata": {},
   "outputs": [],
   "source": []
  }
 ],
 "metadata": {
  "kernelspec": {
   "display_name": "Python 3 (ipykernel)",
   "language": "python",
   "name": "python3"
  },
  "language_info": {
   "codemirror_mode": {
    "name": "ipython",
    "version": 3
   },
   "file_extension": ".py",
   "mimetype": "text/x-python",
   "name": "python",
   "nbconvert_exporter": "python",
   "pygments_lexer": "ipython3",
   "version": "3.7.13"
  }
 },
 "nbformat": 4,
 "nbformat_minor": 5
}
