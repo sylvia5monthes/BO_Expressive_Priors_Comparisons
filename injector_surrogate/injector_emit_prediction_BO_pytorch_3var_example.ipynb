{
 "cells": [
  {
   "cell_type": "code",
   "execution_count": 1,
   "id": "ed841451-2ad2-4a82-8b8d-e8cc8904736e",
   "metadata": {},
   "outputs": [],
   "source": [
    "#NN Surrogate model class\n",
    "import injector_surrogate_quads\n",
    "from injector_surrogate_quads import *\n",
    "import physics_gp\n",
    "\n",
    "sys.path.append('../configs')\n",
    "#Sim reference point to optimize around\n",
    "from ref_config import ref_point\n",
    "\n",
    "#Pytorch \n",
    "import numpy as np\n",
    "import torch\n",
    "import gpytorch\n",
    "import botorch "
   ]
  },
  {
   "cell_type": "markdown",
   "id": "37f9dd34-10e0-4915-accf-957a40d4f47b",
   "metadata": {},
   "source": [
    "# BO for Minimizing Emittance with 3 Variables (SQ, CQ, SOL)"
   ]
  },
  {
   "cell_type": "code",
   "execution_count": 2,
   "id": "72ef807c-db73-418f-adfb-66d40cc2124e",
   "metadata": {},
   "outputs": [
    {
     "name": "stderr",
     "output_type": "stream",
     "text": [
      "2022-06-15 14:44:18.913367: I tensorflow/core/platform/cpu_feature_guard.cc:142] This TensorFlow binary is optimized with oneAPI Deep Neural Network Library (oneDNN) to use the following CPU instructions in performance-critical operations:  SSE4.1 SSE4.2 AVX AVX2 FMA\n",
      "To enable them in other operations, rebuild TensorFlow with the appropriate compiler flags.\n"
     ]
    }
   ],
   "source": [
    "#load injector model\n",
    "Model = Surrogate_NN()\n",
    "\n",
    "Model.load_saved_model(model_path = '../models/', \\\n",
    "                       model_name = 'model_OTR2_NA_rms_emit_elu_2021-07-27T19_54_57-07_00')\n",
    "Model.load_scaling()\n",
    "Model.take_log_out = False"
   ]
  },
  {
   "cell_type": "markdown",
   "id": "5f5d0ea5-fda2-4658-bcc0-0f89757ffeb8",
   "metadata": {},
   "source": [
    "## Objective Function"
   ]
  },
  {
   "cell_type": "code",
   "execution_count": 3,
   "id": "712a59e5-3b68-4c92-b4d8-fc7f122feec2",
   "metadata": {},
   "outputs": [],
   "source": [
    "#convert to machine units\n",
    "ref_point = Model.sim_to_machine(np.asarray(ref_point))\n",
    "\n",
    "#input params: solenoid and quads to vary \n",
    "opt_var_names = ['SOL1:solenoid_field_scale','SQ01:b1_gradient','CQ01:b1_gradient']\n",
    "#input bounds\n",
    "bounds = torch.tensor([[0.44, 0.55],[-0.02, 0.02], [-0.02, 0.02]])\n",
    "\n",
    "#output params: emittance in transverse plane (x & y)\n",
    "opt_out_names = ['norm_emit_x','norm_emit_y']\n",
    "\n",
    "def evaluate(config): \n",
    "    \"\"\"\n",
    "    D is input space dimensionality\n",
    "    :param config: input values of opt_var_names, torch.tensor, shape (1, D) \n",
    "    \"\"\"\n",
    "    #make input array of length model_in_list (inputs model takes)\n",
    "    x_in = np.empty((1,len(Model.model_in_list)))\n",
    "\n",
    "    #fill in reference point around which to optimize\n",
    "    x_in[:,:] = np.asarray(ref_point[0])\n",
    "\n",
    "    #set solenoid, SQ, CQ to values from optimization step\n",
    "    for i in range(config.size(dim=0)):\n",
    "        x_in[:, Model.loc_in[opt_var_names[i]]] = config[i]\n",
    "\n",
    "    #output predictions\n",
    "    y_out = Model.pred_machine_units(x_in) \n",
    "\n",
    "    return -1*objective(y_out)[0]\n",
    "\n",
    "\n",
    "def objective(y_out):\n",
    "    \n",
    "    #output is geometric emittance in transverse plane\n",
    "    out1 = y_out[:,Model.loc_out['norm_emit_x']] #grab norm_emit_x out of the model\n",
    "    out2 = y_out[:,Model.loc_out['norm_emit_y']] #grab norm_emit_y out of the model\n",
    "       \n",
    "    return np.sqrt(out1*out2)/1e-6 # in um units"
   ]
  },
  {
   "cell_type": "markdown",
   "id": "95895f93-be9f-4fd1-b50c-ba4d488269bb",
   "metadata": {},
   "source": [
    "## Gaussian Regression & Acquisition Function"
   ]
  },
  {
   "cell_type": "code",
   "execution_count": 4,
   "id": "3579279b-21fd-4afc-b7b3-33b0fd38ce84",
   "metadata": {},
   "outputs": [],
   "source": [
    "def get_BO_point(x, f, bounds, beta=2.5, input_transform=None, outcome_transform=None, precision = None, phys=True):\n",
    "    \"\"\"\n",
    "    function that trains a GP model of data and returns the next observation point using UCB\n",
    "    D is input space dimensionality\n",
    "    N is number of samples\n",
    "\n",
    "    :param x: input points data, torch.tensor, shape (N,D)\n",
    "    :param f: output point data, torch.tensor, shape (N,1)\n",
    "    :param bounds: input space bounds, torch.tensor, shape (2,D)\n",
    "    :param precision: precision matrix used for RBF kernel (must be PSD), torch.tensor, (D,D)\n",
    "    :param beta: UCB optimization parameter, float\n",
    "    :return x_candidate, model: next observation point and gp model w/observations\n",
    "    \"\"\"\n",
    "    \n",
    "    likelihood = gpytorch.likelihoods.GaussianLikelihood()\n",
    "    \n",
    "    if phys == True:\n",
    "        gp = physics_gp.PhysicsExactGPModel(x, f.flatten(), likelihood, precision)\n",
    "    else:\n",
    "        gp = botorch.models.SingleTaskGP(x, f, likelihood=likelihood, \n",
    "                                         outcome_transform=outcome_transform, \n",
    "                                         input_transform=input_transform)\n",
    "        \n",
    "    mll = gpytorch.mlls.ExactMarginalLogLikelihood(gp.likelihood, gp)\n",
    "    \n",
    "    # fit GP hyperparameters\n",
    "    botorch.fit.fit_gpytorch_model(mll)\n",
    "\n",
    "    # do UCB acquisition\n",
    "    UCB = botorch.acquisition.UpperConfidenceBound(gp, beta=beta)\n",
    "    candidate, acq_value = botorch.optim.optimize_acqf(UCB,\n",
    "                                                       bounds=bounds,\n",
    "                                                       q=1,\n",
    "                                                       num_restarts=20,#5\n",
    "                                                       raw_samples=20)\n",
    "    return candidate, gp"
   ]
  },
  {
   "cell_type": "markdown",
   "id": "cab76dc5-7177-4a05-8133-4639cf66ae38",
   "metadata": {},
   "source": [
    "## Set up initial training samples"
   ]
  },
  {
   "cell_type": "code",
   "execution_count": 5,
   "id": "ab8e2cc5-715b-415d-a9c4-3d92e183d34f",
   "metadata": {},
   "outputs": [
    {
     "name": "stdout",
     "output_type": "stream",
     "text": [
      "tensor([[ 0.5114, -0.0191, -0.0034],\n",
      "        [ 0.4512,  0.0083,  0.0116],\n",
      "        [ 0.5202, -0.0165, -0.0073],\n",
      "        [ 0.4740, -0.0109, -0.0035],\n",
      "        [ 0.4892, -0.0097,  0.0159]])\n"
     ]
    },
    {
     "name": "stderr",
     "output_type": "stream",
     "text": [
      "2022-06-15 14:44:20.510300: I tensorflow/compiler/mlir/mlir_graph_optimization_pass.cc:116] None of the MLIR optimization passes are enabled (registered 2)\n",
      "2022-06-15 14:44:20.516991: I tensorflow/core/platform/profile_utils/cpu_utils.cc:112] CPU Frequency: 1996445000 Hz\n"
     ]
    },
    {
     "name": "stdout",
     "output_type": "stream",
     "text": [
      "tensor([[-3.1186],\n",
      "        [-1.8932],\n",
      "        [-3.7288],\n",
      "        [-0.7036],\n",
      "        [-1.3467]], dtype=torch.float64)\n"
     ]
    }
   ],
   "source": [
    "#create initial samples within specified bounds\n",
    "n_samples = 5\n",
    "n_var = 3\n",
    "\n",
    "train_x = torch.zeros((n_samples, n_var)) \n",
    "for i in range(n_var):\n",
    "    train_x[:,i] = torch.as_tensor(np.random.uniform(bounds[i,0],bounds[i,1],(n_samples,)))\n",
    "print(train_x)\n",
    "\n",
    "train_y = torch.tensor([evaluate(vars) for vars in train_x]).reshape(-1,1)\n",
    "print(train_y)\n",
    "\n",
    "# transformer \n",
    "transformer_x = botorch.models.transforms.input.Normalize(n_var, bounds = bounds.transpose(0,1))\n",
    "transformer_y = botorch.models.transforms.outcome.Standardize(1)\n",
    "\n",
    "normed_bounds = torch.cat((torch.zeros(1,n_var), torch.ones(1,n_var)), 0)"
   ]
  },
  {
   "cell_type": "markdown",
   "id": "90a7ebe7-3652-467a-aabd-9c285ecc7dde",
   "metadata": {},
   "source": [
    "## Bayesian Optimization"
   ]
  },
  {
   "cell_type": "code",
   "execution_count": 6,
   "id": "12f08ef8-0cde-4c86-8e5b-57c8ac264e3b",
   "metadata": {},
   "outputs": [
    {
     "name": "stdout",
     "output_type": "stream",
     "text": [
      "iteration        target         SOL          SQ          CQ\n",
      "\u001b[30m1              -1.44527     0.45488     -0.01747     0.00476\u001b[0m\n",
      "iteration        target         SOL          SQ          CQ\n",
      "\u001b[30m2              -1.47729     0.45959     -0.00442     -0.01281\u001b[0m\n",
      "iteration        target         SOL          SQ          CQ\n",
      "\u001b[95m3              -0.58053     0.47538     -0.00289     0.00331\u001b[0m\n",
      "iteration        target         SOL          SQ          CQ\n",
      "\u001b[30m4              -0.60954     0.48215     0.00289     -0.00445\u001b[0m\n",
      "iteration        target         SOL          SQ          CQ\n",
      "\u001b[30m5              -0.92636     0.48310     0.01421     0.00571\u001b[0m\n",
      "iteration        target         SOL          SQ          CQ\n",
      "\u001b[30m6              -0.62279     0.47399     0.00888     -0.00440\u001b[0m\n",
      "iteration        target         SOL          SQ          CQ\n",
      "\u001b[30m7              -0.71795     0.48084     0.02000     -0.01381\u001b[0m\n",
      "iteration        target         SOL          SQ          CQ\n",
      "\u001b[30m8              -0.85908     0.47930     0.00500     -0.02000\u001b[0m\n",
      "iteration        target         SOL          SQ          CQ\n",
      "\u001b[30m9              -0.73106     0.47311     0.02000     -0.01418\u001b[0m\n",
      "iteration        target         SOL          SQ          CQ\n",
      "\u001b[30m10              -0.71902     0.47720     0.02000     -0.02000\u001b[0m\n",
      "iteration        target         SOL          SQ          CQ\n",
      "\u001b[95m11              -0.56609     0.47718     0.00004     -0.00327\u001b[0m\n",
      "iteration        target         SOL          SQ          CQ\n",
      "\u001b[30m12              -0.57083     0.47851     -0.00490     0.00052\u001b[0m\n",
      "iteration        target         SOL          SQ          CQ\n",
      "\u001b[95m13              -0.56055     0.47813     0.00299     -0.00009\u001b[0m\n",
      "iteration        target         SOL          SQ          CQ\n",
      "\u001b[30m14              -0.57155     0.47839     0.00692     -0.00544\u001b[0m\n",
      "iteration        target         SOL          SQ          CQ\n",
      "\u001b[95m15              -0.55933     0.47766     0.00041     -0.00081\u001b[0m\n",
      "iteration        target         SOL          SQ          CQ\n",
      "\u001b[30m16              -0.72774     0.47434     -0.01841     0.00959\u001b[0m\n",
      "iteration        target         SOL          SQ          CQ\n",
      "\u001b[30m17              -0.55952     0.47796     0.00179     -0.00170\u001b[0m\n",
      "iteration        target         SOL          SQ          CQ\n",
      "\u001b[95m18              -0.55912     0.47793     0.00069     -0.00108\u001b[0m\n",
      "iteration        target         SOL          SQ          CQ\n",
      "\u001b[30m19              -0.56064     0.47800     0.00272     -0.00251\u001b[0m\n",
      "iteration        target         SOL          SQ          CQ\n",
      "\u001b[30m20              -0.55922     0.47802     -0.00066     0.00012\u001b[0m\n",
      "iteration        target         SOL          SQ          CQ\n",
      "\u001b[30m21              -0.56033     0.47734     0.00007     -0.00092\u001b[0m\n",
      "iteration        target         SOL          SQ          CQ\n",
      "\u001b[30m22              -0.56063     0.47809     0.00302     -0.00233\u001b[0m\n",
      "iteration        target         SOL          SQ          CQ\n",
      "\u001b[30m23              -0.55924     0.47821     -0.00060     0.00013\u001b[0m\n",
      "iteration        target         SOL          SQ          CQ\n",
      "\u001b[30m24              -0.56079     0.47817     0.00085     -0.00240\u001b[0m\n",
      "iteration        target         SOL          SQ          CQ\n",
      "\u001b[30m25              -0.56080     0.47716     -0.00008     -0.00057\u001b[0m\n",
      "iteration        target         SOL          SQ          CQ\n",
      "\u001b[30m26              -0.56072     0.47801     0.00343     -0.00189\u001b[0m\n",
      "iteration        target         SOL          SQ          CQ\n",
      "\u001b[30m27              -0.55934     0.47820     -0.00076     0.00033\u001b[0m\n",
      "iteration        target         SOL          SQ          CQ\n",
      "\u001b[30m28              -0.56075     0.47828     0.00027     -0.00204\u001b[0m\n",
      "iteration        target         SOL          SQ          CQ\n",
      "\u001b[30m29              -0.56085     0.47711     0.00014     -0.00051\u001b[0m\n",
      "iteration        target         SOL          SQ          CQ\n",
      "\u001b[30m30              -0.56025     0.47804     0.00304     -0.00176\u001b[0m\n"
     ]
    }
   ],
   "source": [
    "n_steps = 30\n",
    "best_y = torch.max(train_y)\n",
    "phys = False\n",
    "\n",
    "for i in range(n_steps):  \n",
    "    \n",
    "    if (phys == True):\n",
    "        normed_train_x = transformer_x.forward(train_x) \n",
    "        normed_train_y = transformer_y.forward(train_y)[0]\n",
    "        \n",
    "        x_new, model = get_BO_point(normed_train_x, normed_train_y, \n",
    "                                    bounds=normed_bounds, \n",
    "                                    phys=phys)\n",
    "        \n",
    "        train_x = torch.cat((train_x, transformer_x.untransform(x_new)))\n",
    "        new_y = torch.tensor(evaluate(train_x[-1])).reshape(1,1)\n",
    "        train_y = torch.cat((train_y, new_y))\n",
    "    else:\n",
    "        x_new, model = get_BO_point(train_x, train_y, \n",
    "                                    bounds=bounds.transpose(0,1), \n",
    "                                    input_transform=transformer_x, \n",
    "                                    outcome_transform=transformer_y, \n",
    "                                    phys=phys)\n",
    "        \n",
    "        train_x = torch.cat((train_x, x_new))\n",
    "        new_y = torch.tensor(evaluate(train_x[-1])).reshape(1,1)\n",
    "        train_y = torch.cat((train_y, new_y))\n",
    "    \n",
    "    if (new_y > best_y):\n",
    "        best_y = new_y\n",
    "        color = '\\033[95m', '\\033[0m'\n",
    "    else: \n",
    "        color = '\\u001b[30m', '\\033[0m'\n",
    "    \n",
    "    print(\"iteration        target         SOL          SQ          CQ\")\n",
    "    print(f'{color[0]}{i+1}              {train_y[-1,0]:.5f}     {train_x[-1,0]:.5f}     {train_x[-1,1]:.5f}     {train_x[-1,2]:.5f}{color[1]}')"
   ]
  },
  {
   "cell_type": "code",
   "execution_count": null,
   "id": "3c9a950e-7da0-4c8c-8f01-42becd03cb1d",
   "metadata": {},
   "outputs": [],
   "source": []
  },
  {
   "cell_type": "code",
   "execution_count": 7,
   "id": "a6448337-8ec1-48f0-bbae-5cd1106dbf8e",
   "metadata": {},
   "outputs": [
    {
     "data": {
      "text/plain": [
       "'\\n#define acquisition function\\nfrom botorch.acquisition.analytic import UpperConfidenceBound, ExpectedImprovement\\nfrom botorch.optim import optimize_acqf\\n\\n#optimize\\nn_steps = 45\\nfor i in range(n_steps):\\n    #best_normed_y = torch.max(normed_train_y)\\n    UCB = UpperConfidenceBound(gp, beta=2.5)\\n    #EI = ExpectedImprovement(gp, best_normed_y)\\n\\n    bounds = torch.cat((torch.zeros(1,3), torch.ones(1,3)), 0)\\n    candidate, acq_value = optimize_acqf(UCB, bounds = bounds, num_restarts = 20, q = 1, raw_samples = 20)\\n\\n    train_x = torch.cat((train_x, transformer_x.backward(candidate)))\\n    normed_train_x = transformer_x.forward(train_x)\\n\\n    new_y = torch.tensor(evaluate(train_x[-1][0], train_x[-1][1], train_x[-1][2])).reshape(1,1)\\n    train_y = torch.cat((train_y, new_y))\\n    \\n    print(\"iteration        target         varx         vary         varz\")\\n    print(f\\'{i+1}              {train_y[-1][0]:.5f}      {train_x[-1][0]:.5f}      {train_x[-1][1]:.5f}      {train_x[-1][2]:.5f}\\')\\n    print(torch.max(train_y))\\n    \\n    transformer_y = transformer.Transformer(train_y, \\'standardize\\')\\n    normed_train_y = transformer_y.forward(train_y)\\n\\n    gp = SingleTaskGP(normed_train_x, normed_train_y)\\n    mll = ExactMarginalLogLikelihood(gp.likelihood, gp)\\n    fit_gpytorch_model(mll);\\n'"
      ]
     },
     "execution_count": 7,
     "metadata": {},
     "output_type": "execute_result"
    }
   ],
   "source": [
    "\"\"\"\n",
    "#define acquisition function\n",
    "from botorch.acquisition.analytic import UpperConfidenceBound, ExpectedImprovement\n",
    "from botorch.optim import optimize_acqf\n",
    "\n",
    "#optimize\n",
    "n_steps = 45\n",
    "for i in range(n_steps):\n",
    "    #best_normed_y = torch.max(normed_train_y)\n",
    "    UCB = UpperConfidenceBound(gp, beta=2.5)\n",
    "    #EI = ExpectedImprovement(gp, best_normed_y)\n",
    "\n",
    "    bounds = torch.cat((torch.zeros(1,3), torch.ones(1,3)), 0)\n",
    "    candidate, acq_value = optimize_acqf(UCB, bounds = bounds, num_restarts = 20, q = 1, raw_samples = 20)\n",
    "\n",
    "    train_x = torch.cat((train_x, transformer_x.backward(candidate)))\n",
    "    normed_train_x = transformer_x.forward(train_x)\n",
    "\n",
    "    new_y = torch.tensor(evaluate(train_x[-1][0], train_x[-1][1], train_x[-1][2])).reshape(1,1)\n",
    "    train_y = torch.cat((train_y, new_y))\n",
    "    \n",
    "    print(\"iteration        target         varx         vary         varz\")\n",
    "    print(f'{i+1}              {train_y[-1][0]:.5f}      {train_x[-1][0]:.5f}      {train_x[-1][1]:.5f}      {train_x[-1][2]:.5f}')\n",
    "    print(torch.max(train_y))\n",
    "    \n",
    "    transformer_y = transformer.Transformer(train_y, 'standardize')\n",
    "    normed_train_y = transformer_y.forward(train_y)\n",
    "\n",
    "    gp = SingleTaskGP(normed_train_x, normed_train_y)\n",
    "    mll = ExactMarginalLogLikelihood(gp.likelihood, gp)\n",
    "    fit_gpytorch_model(mll);\n",
    "\"\"\""
   ]
  },
  {
   "cell_type": "code",
   "execution_count": null,
   "id": "39cfb5ca-1288-468e-b19d-8360a35c94a3",
   "metadata": {},
   "outputs": [],
   "source": []
  }
 ],
 "metadata": {
  "kernelspec": {
   "display_name": "Python 3 (ipykernel)",
   "language": "python",
   "name": "python3"
  },
  "language_info": {
   "codemirror_mode": {
    "name": "ipython",
    "version": 3
   },
   "file_extension": ".py",
   "mimetype": "text/x-python",
   "name": "python",
   "nbconvert_exporter": "python",
   "pygments_lexer": "ipython3",
   "version": "3.7.13"
  }
 },
 "nbformat": 4,
 "nbformat_minor": 5
}
