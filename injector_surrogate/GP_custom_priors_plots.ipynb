{
 "cells": [
  {
   "cell_type": "code",
   "execution_count": 30,
   "source": [
    "#Pytorch \n",
    "import numpy as np\n",
    "import torch\n",
    "import torch.nn as nn\n",
    "import torch.nn.functional as F\n",
    "import torch.optim as optim\n",
    "import gpytorch\n",
    "import botorch \n",
    "\n",
    "import matplotlib.pyplot as plt"
   ],
   "outputs": [],
   "metadata": {}
  },
  {
   "cell_type": "markdown",
   "source": [
    "# Test Plots"
   ],
   "metadata": {}
  },
  {
   "cell_type": "markdown",
   "source": [
    "### This notebook is used to visualize a GP's prior mean and predictive mean curve against the ground truth and compare them. After fitting a GP curve to data samples, the predictive mean curve is shown to pass through the samples and then return to the prior mean. "
   ],
   "metadata": {}
  },
  {
   "cell_type": "code",
   "execution_count": 31,
   "source": [
    "#NN Surrogate model class\n",
    "from injector_surrogate_quads import *\n",
    "import physics_gp\n",
    "\n",
    "sys.path.append('../configs')\n",
    "#Sim reference point to optimize around\n",
    "from ref_config import ref_point"
   ],
   "outputs": [],
   "metadata": {}
  },
  {
   "cell_type": "code",
   "execution_count": 32,
   "source": [
    "# load injector model\n",
    "Model = Surrogate_NN(pytorch=True)\n",
    "\n",
    "Model.load_saved_model(model_path = '../models/', \n",
    "                       model_name = 'Injector_Surrogate_NN_PyTorch')\n",
    "\n",
    "Model.load_scaling(scalerfilex = '../data/transformer_x_pytorch.pth', \n",
    "                   scalerfiley = '../data/transformer_y_pytorch.pth')\n",
    "Model.take_log_out = False"
   ],
   "outputs": [],
   "metadata": {}
  },
  {
   "cell_type": "code",
   "execution_count": 33,
   "source": [
    "beamline_info = json.load(open('../configs/beamline_info.json'))\n",
    "get_twiss0 = beamline_info['Twiss0']\n",
    "\n",
    "# emit, beta, alpha\n",
    "twiss0 = {'x': [get_twiss0[0], get_twiss0[2], get_twiss0[4]],\n",
    "          'y': [get_twiss0[1], get_twiss0[3], get_twiss0[5]]}\n",
    "\n",
    "beta0_x, alpha0_x = twiss0['x'][1], twiss0['x'][2]\n",
    "beta0_y, alpha0_y = twiss0['y'][1], twiss0['y'][2]\n",
    "print(twiss0['x'])\n",
    "print(twiss0['y'])"
   ],
   "outputs": [
    {
     "output_type": "stream",
     "name": "stdout",
     "text": [
      "[1e-06, 1.113081026, -0.0689403587]\n",
      "[1e-06, 1.113021659, -0.07029489754]\n"
     ]
    }
   ],
   "metadata": {}
  },
  {
   "cell_type": "code",
   "execution_count": 34,
   "source": [
    "# convert to machine units\n",
    "ref_point = Model.sim_to_machine(np.asarray(ref_point))\n",
    "\n",
    "# input params: solenoid and quads to vary \n",
    "opt_var_names = ['SOL1:solenoid_field_scale','CQ01:b1_gradient', 'SQ01:b1_gradient',\n",
    "                 \"QA01:b1_gradient\", \"QA02:b1_gradient\", \n",
    "                 \"QE01:b1_gradient\", \"QE02:b1_gradient\", \"QE03:b1_gradient\", \"QE04:b1_gradient\"]\n",
    "\n",
    "bounds = torch.as_tensor([[0.46, 0.485], [-0.02, 0.02], [-0.02, 0.02],\n",
    "                       [-4, -1], [1, 4],\n",
    "                       [-7,-1], [-1, 7],[-1, 7], [-7, 1]])\n",
    "\n",
    "# output params: emittance in transverse plane (x & y)\n",
    "opt_out_names = ['norm_emit_x','norm_emit_y']"
   ],
   "outputs": [],
   "metadata": {}
  },
  {
   "cell_type": "code",
   "execution_count": 35,
   "source": [
    "def evaluate(config): \n",
    "    \"\"\"\n",
    "    D is input space dimensionality\n",
    "    N is number of sample points\n",
    "    :param config: input values of opt_var_names, torch.tensor, shape (N, D) \n",
    "    returns (N, 1) \n",
    "    \"\"\"\n",
    "    N = config.shape[0]\n",
    "    D = config.shape[1]\n",
    "    \n",
    "    # make input array of length model_in_list (inputs model takes)\n",
    "    x_in = torch.empty((N,len(Model.model_in_list)))\n",
    "    \n",
    "    # fill in reference point around which to optimize\n",
    "    x_in[:,:] = torch.tensor(ref_point[0])\n",
    "\n",
    "    #set solenoid, CQ, SQ, matching quads to values from optimization step\n",
    "    col = []\n",
    "    for i in range(D):\n",
    "        col.append(Model.loc_in[opt_var_names[i]]) #should make col a flat list of indices, e.g. [4, 6, 7]\n",
    "    x_in[:, col] = config[:,:] \n",
    "    \n",
    "    #output predictions\n",
    "    y_out = Model.pred_machine_units(x_in)\n",
    "\n",
    "    return -1*objective(y_out)\n",
    "\n",
    "\n",
    "def objective(y_out):\n",
    "    \"\"\"\n",
    "    :param y_out: tensor with has a shape of (N, num_outputs)\n",
    "    returns tensor of emittance * bmag for each input, shape (N, 1)\n",
    "    \"\"\"\n",
    "    \n",
    "    # geometric emittance in transverse plane\n",
    "    out1 = y_out[:,Model.loc_out['norm_emit_x']] #grab norm_emit_x out of the model\n",
    "    out2 = y_out[:,Model.loc_out['norm_emit_y']] #grab norm_emit_y out of the model\n",
    "    emit = torch.sqrt(out1 * out2)\n",
    "  \n",
    "    sigma_x = y_out[:,Model.loc_out['sigma_x']] #grab sigma_x out of the model \n",
    "    sigma_y = y_out[:,Model.loc_out['sigma_y']] #grab sigma_y out of the model \n",
    "    \n",
    "    # real beta and alpha \n",
    "    # NEEDS TO BE FIXED - currently assuming real alpha to be the same as design alpha \n",
    "    alpha_x = torch.tensor(alpha0_x).repeat(y_out.shape[0])\n",
    "    alpha_y = torch.tensor(alpha0_y).repeat(y_out.shape[0])\n",
    "    beta_x, beta_y = (sigma_x**2) / out1, (sigma_y**2) / out2\n",
    "    \n",
    "    # bmag \n",
    "    bmag_x = 0.5 * ((beta0_x / beta_x) + (beta_x / beta0_x)) + 0.5 * ((alpha_x * torch.sqrt(beta0_x / beta_x) - alpha0_x * torch.sqrt(beta_x / beta0_x))**2)\n",
    "    bmag_y = 0.5 * ((beta0_y / beta_y) + (beta_y / beta0_y)) + 0.5 * ((alpha_y * torch.sqrt(beta0_y / beta_y) - alpha0_y * torch.sqrt(beta_y / beta0_y))**2)\n",
    "    bmag = torch.sqrt(bmag_x * bmag_y)\n",
    "    \n",
    "    out = (emit * bmag)/1e-6 # in um units \n",
    "    return out.reshape(-1,1)"
   ],
   "outputs": [],
   "metadata": {}
  },
  {
   "cell_type": "markdown",
   "source": [
    "## Set up initial training samples"
   ],
   "metadata": {}
  },
  {
   "cell_type": "code",
   "execution_count": 36,
   "source": [
    "test_param = 6 # from 0 to 8\n",
    "bounds = torch.as_tensor([[0.46, 0.485], [-0.02, 0.02], [-0.02, 0.02],\n",
    "                       [-4, -1], [1, 4],\n",
    "                       [-7,-1], [-1, 7],[-1, 7], [-7, 1]])\n",
    "\n",
    "# create initial samples within specified bounds\n",
    "n_samples = 2\n",
    "n_var = 9\n",
    "\n",
    "scan_ref_point = torch.cat([torch.as_tensor([ref_point[0][Model.loc_in[param_name]]]) for param_name in opt_var_names])\n",
    "\n",
    "# self-tune reference point if necessary\n",
    "# scan_ref_point[0] = 0.47645\n",
    "# scan_ref_point[1] = -0.00975\n",
    "# scan_ref_point[2] = 0.00917 \n",
    "# scan_ref_point[3] = -3.79410\n",
    "# scan_ref_point[4] = 2.00556\n",
    "# scan_ref_point[5] = -2.67074\n",
    "# scan_ref_point[6] = 4.38737\n",
    "# scan_ref_point[7] = -0.49207\n",
    "# scan_ref_point[8] = -6.12455\n",
    "\n",
    "\n",
    "train_x = scan_ref_point.repeat(n_samples, 1) \n",
    "train_x[0,test_param] = 1.0\n",
    "train_x[1,test_param] = 3.0\n",
    "# train_x[2,test_param] = -1.0\n",
    "# train_x[3,test_param] = 4.0\n",
    "# train_x[4,test_param] = 5.0\n",
    "\n",
    "train_y = evaluate(train_x.float()).detach() # detach gradient to fix going backwards twice error while fitting hyperparameters\n",
    "print(train_x, train_y)\n",
    "\n",
    "# transformers \n",
    "transformer_x = botorch.models.transforms.input.Normalize(n_var, bounds = bounds.transpose(0,1))\n",
    "transformer_y = botorch.models.transforms.outcome.Standardize(1)"
   ],
   "outputs": [
    {
     "output_type": "stream",
     "name": "stdout",
     "text": [
      "tensor([[ 4.7797e-01, -1.4992e-03, -6.8730e-04, -2.0006e+00,  2.0006e+00,\n",
      "         -2.0218e-01,  1.0000e+00,  2.8522e+00, -3.2184e+00],\n",
      "        [ 4.7797e-01, -1.4992e-03, -6.8730e-04, -2.0006e+00,  2.0006e+00,\n",
      "         -2.0218e-01,  3.0000e+00,  2.8522e+00, -3.2184e+00]],\n",
      "       dtype=torch.float64) tensor([[-3.7492],\n",
      "        [-0.7949]])\n"
     ]
    }
   ],
   "metadata": {}
  },
  {
   "cell_type": "code",
   "execution_count": 37,
   "source": [
    "# model \n",
    "class NN_prior(nn.Module):\n",
    "    def __init__(self):\n",
    "        super(NN_prior, self).__init__()\n",
    "        \n",
    "        hidden_size = 20\n",
    "        self.network = nn.Sequential(nn.Linear(n_var, hidden_size), \n",
    "                                     nn.Tanh(), \n",
    "                                     nn.Linear(hidden_size, hidden_size), \n",
    "                                     nn.Tanh(),\n",
    "                                     nn.Linear(hidden_size, 1))\n",
    "        \n",
    "    def forward(self, x):\n",
    "        x = self.network(x)\n",
    "        return x "
   ],
   "outputs": [],
   "metadata": {}
  },
  {
   "cell_type": "code",
   "execution_count": 38,
   "source": [
    "# NN model trained from surrogate model samples as prior\n",
    "from gpytorch.means.mean import Mean\n",
    "class CustomMean(Mean):\n",
    "    def __init__(self, name, prior, NN_y_transform, outcome_transform):\n",
    "        super(CustomMean, self).__init__()\n",
    "        self.NN_model = prior\n",
    "        self.NN_model.load_state_dict(torch.load('./results/' + name + '.pth'))\n",
    "        self.NN_model.eval()\n",
    "        \n",
    "        self.NN_model.requires_grad_(False)\n",
    "        \n",
    "        self.y_norm_transform = botorch.models.transforms.input.Normalize(1)\n",
    "        self.y_norm_transform.load_state_dict(torch.load(f'./results/' + NN_y_transform + '.pth'))\n",
    "        self.y_norm_transform.eval()\n",
    "        \n",
    "        self.outcome_transform = outcome_transform\n",
    "        \n",
    "    def forward(self, x):\n",
    "        \"\"\"\n",
    "        takes in transformed x, returns transformed y\n",
    "        \"\"\"\n",
    "        self.outcome_transform.eval()\n",
    "        \n",
    "        out = []\n",
    "        if (x.dim() == 2):\n",
    "            x = x.unsqueeze(dim=0) # shape x into (batch_size = 1, n_samples, n_var) if necessary \n",
    "        for i in range(x.size(dim=0)):\n",
    "            m = self.NN_model(x[i].detach()).float() # normed x |-> NN normed y \n",
    "            m = self.y_norm_transform.untransform(m) # NN normed y -> real y\n",
    "            m = self.outcome_transform(m)[0] # real y -> standardized y\n",
    "            out.append(m.squeeze())\n",
    "            \n",
    "        self.outcome_transform.train()\n",
    "        return torch.stack(out,dim=0)\n",
    "    \n",
    "# surrogate model as prior \n",
    "class Surrogate(Mean):\n",
    "    def __init__(self, input_transform, outcome_transform):\n",
    "        super(Surrogate, self).__init__()\n",
    "        self.input_transform = input_transform \n",
    "        self.outcome_transform = outcome_transform\n",
    "\n",
    "    def forward(self, x):\n",
    "        \"\"\"\n",
    "        takes in transformed x, returns transformed y (retaining gradient) \n",
    "        \"\"\"\n",
    "        self.input_transform.eval()\n",
    "        self.outcome_transform.eval()\n",
    "        \n",
    "        x = self.input_transform.untransform(x) # normed x -> real x \n",
    "        out = []\n",
    "        \n",
    "        if (x.dim() == 2):\n",
    "            x = x.unsqueeze(dim=0) # shape x into (batch_size = 1, n_samples, n_var) if necessary \n",
    "        for i in range(x.size(dim=0)):\n",
    "            m = evaluate(x[i].detach()).float() # real x |-> real y\n",
    "            m = self.outcome_transform(m)[0] # real y -> standardized y\n",
    "            out.append(m.squeeze())\n",
    "            \n",
    "        self.input_transform.train() \n",
    "        self.outcome_transform.train()\n",
    "        return torch.stack(out,dim=0)"
   ],
   "outputs": [],
   "metadata": {}
  },
  {
   "cell_type": "markdown",
   "source": [
    "## Fit a GP with a Custom (NN) Prior Mean to the Data Samples"
   ],
   "metadata": {
    "tags": []
   }
  },
  {
   "cell_type": "code",
   "execution_count": 39,
   "source": [
    "# model and its transformer_y\n",
    "model_name = 'model3_1hidden_20nodes_500epoch_0.02'\n",
    "model_transformer_name = 'transformer_y_3^9'\n",
    "\n",
    "NN_gp = botorch.models.SingleTaskGP(train_x, \n",
    "                                    train_y, \n",
    "                                    mean_module=CustomMean(model_name, NN_prior(), model_transformer_name, transformer_y),\n",
    "                                    input_transform=transformer_x,\n",
    "                                    outcome_transform=transformer_y)\n",
    "\n",
    "NN_gp.covar_module.base_kernel.lengthscale = 0.1 # to visualize GP curve returning to prior mean \n",
    "\n",
    "# mll = gpytorch.mlls.ExactMarginalLogLikelihood(NN_gp.likelihood, NN_gp) \n",
    "\n",
    "# verify that model parameters are not being trained when tuning GP hyperparameters (network weights and bias gradients should be false)\n",
    "# for name, val in mll.named_parameters():\n",
    "#     print(name, val.requires_grad)\n",
    "\n",
    "NN_gp.likelihood.noise_covar.noise = torch.tensor(1e-4)"
   ],
   "outputs": [],
   "metadata": {}
  },
  {
   "cell_type": "markdown",
   "source": [
    "## Plot GP in 1D (Perform a Scan of One Input Variable)"
   ],
   "metadata": {}
  },
  {
   "cell_type": "code",
   "execution_count": 47,
   "source": [
    "n_test = 100 # number of test input points\n",
    "\n",
    "# generate input points for parameter scan\n",
    "test_x = scan_ref_point.repeat(n_test, 1)\n",
    "test_x[:,test_param] = torch.linspace(bounds[test_param,0],bounds[test_param,1],n_test)\n",
    "\n",
    "# calculate GP predictive mean function and one std deviation from mean \n",
    "with torch.no_grad():\n",
    "    NN_post = NN_gp.posterior(test_x)\n",
    "    NN_mean = NN_post.mean\n",
    "    NN_lower, NN_upper = NN_post.mvn.confidence_region()\n",
    "\n",
    "# load in original NN model (prior mean) and its transformer to compare it with the GP's predictive mean curve \n",
    "# the GP curve should pass through ground truth training samples and return to the NN prior mean \n",
    "NN_model = NN_prior()\n",
    "NN_model.load_state_dict(torch.load(f'./results/{model_name}.pth'))\n",
    "\n",
    "NN_transformer_y = botorch.models.transforms.input.Normalize(1)\n",
    "NN_transformer_y.load_state_dict(torch.load(f'./results/' + model_transformer_name + '.pth'))\n",
    "NN_transformer_y.eval()\n",
    "\n",
    "# find -emittance*bmag \n",
    "normed_prior_test_y = NN_model(transformer_x(test_x).float()) \n",
    "prior_test_y = NN_transformer_y.untransform(normed_prior_test_y) # output of NN model\n",
    "real_test_y = evaluate(test_x.float()).detach() # output of ground truth surrogate model \n",
    "                               \n",
    "fig,ax = plt.subplots()\n",
    "fig.suptitle('GP w/ original lengthscale', fontsize=12)\n",
    "\n",
    "ax.set_xlabel(opt_var_names[test_param] + ' (kG)', fontsize=12)\n",
    "ax.set_ylabel('emittance*bmag (mm-mrad)', fontsize=12)\n",
    "ax.plot(test_x[:,test_param], NN_mean.flatten(), label = \"GP Curve - Predictive Mean\")\n",
    "ax.fill_between(test_x[:,test_param], NN_lower.flatten(), NN_upper.flatten(),alpha = 0.5)\n",
    "ax.plot(test_x[:,test_param], prior_test_y.detach().numpy(), label = \"NN Prior Mean\")\n",
    "ax.plot(test_x[:,test_param], real_test_y.detach().numpy(), label = \"Surrogate Model (Ground Truth)\")\n",
    "ax.plot(train_x[:,test_param], train_y, \"+\") # plot the training samples that the GP must pass through \n",
    "ax.legend(fontsize=12)"
   ],
   "outputs": [
    {
     "output_type": "execute_result",
     "data": {
      "text/plain": [
       "<matplotlib.legend.Legend at 0x7fd2b334e0a0>"
      ]
     },
     "metadata": {},
     "execution_count": 47
    },
    {
     "output_type": "display_data",
     "data": {
      "image/png": "[encoded data removed]",
      "text/plain": [
       "<Figure size 432x288 with 1 Axes>"
      ]
     },
     "metadata": {
      "needs_background": "light"
     }
    }
   ],
   "metadata": {}
  },
  {
   "cell_type": "code",
   "execution_count": null,
   "source": [],
   "outputs": [],
   "metadata": {}
  }
 ],
 "metadata": {
  "kernelspec": {
   "name": "python3",
   "display_name": "Python 3.8.13 64-bit ('baxenv': conda)"
  },
  "language_info": {
   "codemirror_mode": {
    "name": "ipython",
    "version": 3
   },
   "file_extension": ".py",
   "mimetype": "text/x-python",
   "name": "python",
   "nbconvert_exporter": "python",
   "pygments_lexer": "ipython3",
   "version": "3.8.13"
  },
  "interpreter": {
   "hash": "1b5f70a3ad72b4c9068574509e3a0dfc0f3358b3c11cb6bf99f482c84ce18336"
  }
 },
 "nbformat": 4,
 "nbformat_minor": 5
}