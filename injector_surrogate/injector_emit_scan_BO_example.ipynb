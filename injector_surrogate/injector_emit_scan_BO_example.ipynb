{
 "cells": [
  {
   "cell_type": "code",
   "execution_count": 1,
   "id": "68246fa7",
   "metadata": {},
   "outputs": [],
   "source": [
    "import sklearn\n",
    "\n",
    "#NN Surrogate model class\n",
    "from injector_surrogate_quads import *\n",
    "\n",
    "from emittance_calc import get_normemit\n",
    "from sampling_functions import get_ground_truth, get_beamsize\n",
    "\n",
    "sys.path.append('../configs')\n",
    "#Sim reference point to optimize around\n",
    "from ref_config import ref_point\n",
    "\n",
    "#BO\n",
    "from bayes_opt import BayesianOptimization"
   ]
  },
  {
   "cell_type": "markdown",
   "id": "5f4446ff",
   "metadata": {},
   "source": [
    "# Load injector model"
   ]
  },
  {
   "cell_type": "code",
   "execution_count": 3,
   "id": "8ffd05e1",
   "metadata": {},
   "outputs": [],
   "source": [
    "Model = Surrogate_NN()\n",
    "\n",
    "Model.load_saved_model(model_path = '../models/', \\\n",
    "                       model_name = 'model_OTR2_NA_rms_emit_elu_2021-07-27T19_54_57-07_00')\n",
    "Model.load_scaling()\n",
    "Model.take_log_out = False\n",
    "\n",
    "energy = 0.135 #GeV"
   ]
  },
  {
   "cell_type": "markdown",
   "id": "3f85f4e2",
   "metadata": {},
   "source": [
    "# Set up sampling and objectives"
   ]
  },
  {
   "cell_type": "code",
   "execution_count": 4,
   "id": "e238555d",
   "metadata": {},
   "outputs": [],
   "source": [
    "#convert to machine units\n",
    "ref_point = Model.sim_to_machine(np.asarray(ref_point))"
   ]
  },
  {
   "cell_type": "code",
   "execution_count": 5,
   "id": "33189724",
   "metadata": {},
   "outputs": [],
   "source": [
    "ref_point = ref_point[0]"
   ]
  },
  {
   "cell_type": "code",
   "execution_count": 30,
   "id": "54f7b25a",
   "metadata": {},
   "outputs": [],
   "source": [
    "#input params: solenoid and quads to vary \n",
    "opt_var_names = ['SOL1:solenoid_field_scale','SQ01:b1_gradient','CQ01:b1_gradient','QE04:b1_gradient']\n",
    "\n",
    "#output params: emittance in transverse plane (x & y)\n",
    "opt_out_names = ['norm_emit_x','norm_emit_y']\n",
    "\n",
    "def evaluate(varx,vary,varz,varscan=[-4.4, -3.5, -3, -2.5, -2.3]): \n",
    "    numscan = len(varscan)\n",
    "    \n",
    "    #make input array of length model_in_list (inputs model takes)\n",
    "    x_in = np.empty((numscan,len(Model.model_in_list)))\n",
    "    \n",
    "    #fill in reference point around which to optimize\n",
    "    for i in range(0,len(ref_point)):\n",
    "        x_in[:,i]=ref_point[i] \n",
    "\n",
    "    #set solenoid, SQ, CQ to values from optimization step\n",
    "    x_in[:, Model.loc_in[opt_var_names[0]]] = varx\n",
    "    x_in[:, Model.loc_in[opt_var_names[1]]] = vary\n",
    "    x_in[:, Model.loc_in[opt_var_names[2]]] = varz\n",
    "    \n",
    "    #set quad 525 to values for scan\n",
    "    x_in[:, Model.loc_in[opt_var_names[3]]] = varscan\n",
    "\n",
    "    #output predictions\n",
    "    y_out = Model.pred_machine_units(x_in) \n",
    "    \n",
    "    emitx = y_out[:,Model.loc_out['norm_emit_x']] #grab norm_emit_x out of the model\n",
    "    emity = y_out[:,Model.loc_out['norm_emit_y']] #grab norm_emit_y out of the model\n",
    "    \n",
    "    print(f\"{np.mean(emitx)/1e-6:.2f}, {np.mean(emity)/1e-6:.2f}\")\n",
    "    #plt.plot(x_in[:,Model.loc_in['QE04:b1_gradient']],y_out[:,0], label=\"sig_x\")\n",
    "    #plt.plot(x_in[:,Model.loc_in['QE04:b1_gradient']],y_out[:,1], label=\"sig_y\")\n",
    "    \n",
    "    x_rms = y_out[:,0]\n",
    "    y_rms = y_out[:,1]\n",
    "\n",
    "    norm_emit = get_normemit(energy, varscan, x_rms, y_rms) #normalized emittance\n",
    "\n",
    "    # return emit predicted, norm geo emit calc, norm emit x and y\n",
    "    #return -1*objective(y_out)[0], -np.sqrt(emitx*emity)/1e-6, emitx/1e-6, emity/1e-6\n",
    "#     if np.isnan(np.sqrt(emitx*emity)):\n",
    "#         return -1000\n",
    "    return  -norm_emit/1e-6\n",
    "\n",
    "\n",
    "# def objective(y_out):\n",
    "    \n",
    "#     #output is geometric emittance in transverse plane\n",
    "#     out1 = y_out[:,Model.loc_out['norm_emit_x']] #grab norm_emit_x out of the model\n",
    "#     out2 = y_out[:,Model.loc_out['norm_emit_y']] #grab norm_emit_y out of the model\n",
    "    \n",
    "#     return np.sqrt(out1*out2)/1e-6 # in um units"
   ]
  },
  {
   "cell_type": "code",
   "execution_count": 24,
   "id": "4a53e88c",
   "metadata": {},
   "outputs": [
    {
     "name": "stdout",
     "output_type": "stream",
     "text": [
      "1.2638099633477395 1.5351677120634122\n"
     ]
    },
    {
     "data": {
      "text/plain": [
       "-5.697039549150763"
      ]
     },
     "execution_count": 24,
     "metadata": {},
     "output_type": "execute_result"
    }
   ],
   "source": [
    "# x axis works around focus\n",
    "evaluate(0.4657, -0.0071, -0.0169, [-3.9, -3.5, -3, -2.5, -2.3])\n",
    "\n"
   ]
  },
  {
   "cell_type": "code",
   "execution_count": 10,
   "id": "91941f88",
   "metadata": {},
   "outputs": [
    {
     "name": "stdout",
     "output_type": "stream",
     "text": [
      "1.281426534660568 1.5350985904660774\n"
     ]
    },
    {
     "data": {
      "text/plain": [
       "-11.814177865098927"
      ]
     },
     "execution_count": 10,
     "metadata": {},
     "output_type": "execute_result"
    }
   ],
   "source": [
    "evaluate(0.4657, -0.0071, -0.0169, [  -6.5, -6,  -5, -4.5, -4, -3, -2.5])\n"
   ]
  },
  {
   "cell_type": "code",
   "execution_count": 11,
   "id": "fd9afabe",
   "metadata": {},
   "outputs": [
    {
     "name": "stdout",
     "output_type": "stream",
     "text": [
      "1.3624251096189255 1.6438663124063169\n"
     ]
    },
    {
     "data": {
      "text/plain": [
       "-1000000000.0"
      ]
     },
     "execution_count": 11,
     "metadata": {},
     "output_type": "execute_result"
    }
   ],
   "source": [
    "evaluate( 0.4657  , -0.007063 , -0.01989, [-7,-6,  -5, -4, -3, -2, 0 ])"
   ]
  },
  {
   "cell_type": "markdown",
   "id": "ab6c0b6d",
   "metadata": {},
   "source": [
    "\n",
    "# Simple BO "
   ]
  },
  {
   "cell_type": "code",
   "execution_count": 31,
   "id": "e08ff77f",
   "metadata": {},
   "outputs": [
    {
     "name": "stdout",
     "output_type": "stream",
     "text": [
      "|   iter    |  target   |   varx    |   vary    |   varz    |\n",
      "-------------------------------------------------------------\n",
      "0.94, 1.41\n",
      "| \u001b[0m 1       \u001b[0m | \u001b[0m-4.905   \u001b[0m | \u001b[0m 0.4859  \u001b[0m | \u001b[0m 0.008813\u001b[0m | \u001b[0m-0.02    \u001b[0m |\n",
      "1.04, 1.17\n",
      "| \u001b[95m 2       \u001b[0m | \u001b[95m-2.283   \u001b[0m | \u001b[95m 0.4733  \u001b[0m | \u001b[95m-0.01413 \u001b[0m | \u001b[95m-0.01631 \u001b[0m |\n",
      "1.14, 1.28\n",
      "| \u001b[0m 3       \u001b[0m | \u001b[0m-13.41   \u001b[0m | \u001b[0m 0.4605  \u001b[0m | \u001b[0m-0.006178\u001b[0m | \u001b[0m-0.004129\u001b[0m |\n",
      "2.43, 1.66\n",
      "| \u001b[0m 4       \u001b[0m | \u001b[0m-17.13   \u001b[0m | \u001b[0m 0.4993  \u001b[0m | \u001b[0m-0.003232\u001b[0m | \u001b[0m 0.007409\u001b[0m |\n",
      "0.88, 1.22\n",
      "| \u001b[0m 5       \u001b[0m | \u001b[0m-10.55   \u001b[0m | \u001b[0m 0.4625  \u001b[0m | \u001b[0m 0.01512 \u001b[0m | \u001b[0m-0.0189  \u001b[0m |\n",
      "0.89, 0.99\n",
      "| \u001b[0m 6       \u001b[0m | \u001b[0m-1e+09   \u001b[0m | \u001b[0m 0.4813  \u001b[0m | \u001b[0m 0.0116  \u001b[0m | \u001b[0m 0.01098 \u001b[0m |\n",
      "0.78, 0.98\n",
      "| \u001b[95m 7       \u001b[0m | \u001b[95m-1.711   \u001b[0m | \u001b[95m 0.4817  \u001b[0m | \u001b[95m 0.01012 \u001b[0m | \u001b[95m-0.01978 \u001b[0m |\n",
      "3.45, 2.43\n",
      "| \u001b[0m 8       \u001b[0m | \u001b[0m-11.73   \u001b[0m | \u001b[0m 0.5049  \u001b[0m | \u001b[0m-0.0159  \u001b[0m | \u001b[0m-0.008553\u001b[0m |\n",
      "1.17, 0.83\n",
      "| \u001b[0m 9       \u001b[0m | \u001b[0m-5.516   \u001b[0m | \u001b[0m 0.465   \u001b[0m | \u001b[0m-0.01378 \u001b[0m | \u001b[0m 0.01789 \u001b[0m |\n",
      "4.81, 1.72\n",
      "| \u001b[0m 10      \u001b[0m | \u001b[0m-49.84   \u001b[0m | \u001b[0m 0.5157  \u001b[0m | \u001b[0m-0.01448 \u001b[0m | \u001b[0m 0.01287 \u001b[0m |\n",
      "1.35, 1.23\n",
      "| \u001b[0m 11      \u001b[0m | \u001b[0m-1e+09   \u001b[0m | \u001b[0m 0.4917  \u001b[0m | \u001b[0m-0.00306 \u001b[0m | \u001b[0m-0.001123\u001b[0m |\n",
      "3.61, 1.81\n",
      "| \u001b[0m 12      \u001b[0m | \u001b[0m-36.09   \u001b[0m | \u001b[0m 0.5072  \u001b[0m | \u001b[0m-0.006512\u001b[0m | \u001b[0m 0.0121  \u001b[0m |\n",
      "2.39, 2.22\n",
      "| \u001b[0m 13      \u001b[0m | \u001b[0m-4.764   \u001b[0m | \u001b[0m 0.4938  \u001b[0m | \u001b[0m 0.01365 \u001b[0m | \u001b[0m 0.01916 \u001b[0m |\n",
      "0.96, 0.89\n",
      "| \u001b[95m 14      \u001b[0m | \u001b[95m-1.284   \u001b[0m | \u001b[95m 0.4755  \u001b[0m | \u001b[95m 0.01054 \u001b[0m | \u001b[95m 0.01428 \u001b[0m |\n",
      "5.45, 3.03\n",
      "| \u001b[0m 15      \u001b[0m | \u001b[0m-1e+09   \u001b[0m | \u001b[0m 0.534   \u001b[0m | \u001b[0m 0.008774\u001b[0m | \u001b[0m 0.01648 \u001b[0m |\n",
      "2.93, 1.80\n",
      "| \u001b[0m 16      \u001b[0m | \u001b[0m-25.27   \u001b[0m | \u001b[0m 0.5027  \u001b[0m | \u001b[0m-0.003769\u001b[0m | \u001b[0m 0.009746\u001b[0m |\n",
      "1.34, 1.14\n",
      "| \u001b[0m 17      \u001b[0m | \u001b[0m-4.813   \u001b[0m | \u001b[0m 0.4703  \u001b[0m | \u001b[0m 0.0104  \u001b[0m | \u001b[0m 0.01579 \u001b[0m |\n",
      "3.45, 2.49\n",
      "| \u001b[0m 18      \u001b[0m | \u001b[0m-1e+09   \u001b[0m | \u001b[0m 0.5051  \u001b[0m | \u001b[0m-0.01565 \u001b[0m | \u001b[0m-0.009221\u001b[0m |\n",
      "4.91, 5.16\n",
      "| \u001b[0m 19      \u001b[0m | \u001b[0m-1e+09   \u001b[0m | \u001b[0m 0.5433  \u001b[0m | \u001b[0m 0.018   \u001b[0m | \u001b[0m-0.008835\u001b[0m |\n",
      "3.46, 2.96\n",
      "| \u001b[0m 20      \u001b[0m | \u001b[0m-1e+09   \u001b[0m | \u001b[0m 0.5058  \u001b[0m | \u001b[0m-0.01549 \u001b[0m | \u001b[0m-0.01533 \u001b[0m |\n",
      "2.87, 2.29\n",
      "| \u001b[0m 21      \u001b[0m | \u001b[0m-41.8    \u001b[0m | \u001b[0m 0.5075  \u001b[0m | \u001b[0m 0.002296\u001b[0m | \u001b[0m 0.006144\u001b[0m |\n",
      "1.68, 1.71\n",
      "| \u001b[0m 22      \u001b[0m | \u001b[0m-1e+09   \u001b[0m | \u001b[0m 0.4418  \u001b[0m | \u001b[0m-0.009666\u001b[0m | \u001b[0m 0.01202 \u001b[0m |\n",
      "0.83, 0.69\n",
      "| \u001b[95m 23      \u001b[0m | \u001b[95m-1.128   \u001b[0m | \u001b[95m 0.4744  \u001b[0m | \u001b[95m 0.00185 \u001b[0m | \u001b[95m 0.01307 \u001b[0m |\n",
      "1.91, 1.08\n",
      "| \u001b[0m 24      \u001b[0m | \u001b[0m-7.376   \u001b[0m | \u001b[0m 0.491   \u001b[0m | \u001b[0m-0.01457 \u001b[0m | \u001b[0m 0.002693\u001b[0m |\n",
      "6.18, 3.04\n",
      "| \u001b[0m 25      \u001b[0m | \u001b[0m-1e+09   \u001b[0m | \u001b[0m 0.5403  \u001b[0m | \u001b[0m 0.004907\u001b[0m | \u001b[0m 0.01877 \u001b[0m |\n",
      "5.15, 2.81\n",
      "| \u001b[0m 26      \u001b[0m | \u001b[0m-1e+09   \u001b[0m | \u001b[0m 0.5284  \u001b[0m | \u001b[0m-0.007282\u001b[0m | \u001b[0m 0.004261\u001b[0m |\n",
      "1.03, 0.89\n",
      "| \u001b[0m 27      \u001b[0m | \u001b[0m-6.414   \u001b[0m | \u001b[0m 0.4653  \u001b[0m | \u001b[0m-0.01741 \u001b[0m | \u001b[0m 0.008154\u001b[0m |\n",
      "5.25, 3.30\n",
      "| \u001b[0m 28      \u001b[0m | \u001b[0m-1e+09   \u001b[0m | \u001b[0m 0.5344  \u001b[0m | \u001b[0m 0.01414 \u001b[0m | \u001b[0m 0.01529 \u001b[0m |\n",
      "3.55, 2.15\n",
      "| \u001b[0m 29      \u001b[0m | \u001b[0m-33.57   \u001b[0m | \u001b[0m 0.5058  \u001b[0m | \u001b[0m-0.01539 \u001b[0m | \u001b[0m-0.003633\u001b[0m |\n",
      "4.93, 3.93\n",
      "| \u001b[0m 30      \u001b[0m | \u001b[0m-1e+09   \u001b[0m | \u001b[0m 0.5323  \u001b[0m | \u001b[0m-0.00326 \u001b[0m | \u001b[0m-0.008156\u001b[0m |\n",
      "1.00, 0.93\n",
      "| \u001b[0m 31      \u001b[0m | \u001b[0m-1.834   \u001b[0m | \u001b[0m 0.4739  \u001b[0m | \u001b[0m 0.01429 \u001b[0m | \u001b[0m 0.01059 \u001b[0m |\n",
      "0.60, 0.67\n",
      "| \u001b[95m 32      \u001b[0m | \u001b[95m-1.121   \u001b[0m | \u001b[95m 0.476   \u001b[0m | \u001b[95m 0.002056\u001b[0m | \u001b[95m-0.01108 \u001b[0m |\n",
      "1.96, 2.25\n",
      "| \u001b[0m 33      \u001b[0m | \u001b[0m-1e+09   \u001b[0m | \u001b[0m 0.4447  \u001b[0m | \u001b[0m-0.003405\u001b[0m | \u001b[0m-0.01979 \u001b[0m |\n",
      "1.32, 1.40\n",
      "| \u001b[0m 34      \u001b[0m | \u001b[0m-20.49   \u001b[0m | \u001b[0m 0.4526  \u001b[0m | \u001b[0m 0.005299\u001b[0m | \u001b[0m-0.003602\u001b[0m |\n",
      "1.37, 1.30\n",
      "| \u001b[0m 35      \u001b[0m | \u001b[0m-18.61   \u001b[0m | \u001b[0m 0.4552  \u001b[0m | \u001b[0m-0.002493\u001b[0m | \u001b[0m 0.007803\u001b[0m |\n",
      "1.04, 1.03\n",
      "| \u001b[0m 36      \u001b[0m | \u001b[0m-9.822   \u001b[0m | \u001b[0m 0.464   \u001b[0m | \u001b[0m 0.009655\u001b[0m | \u001b[0m 0.001415\u001b[0m |\n",
      "1.75, 2.03\n",
      "| \u001b[0m 37      \u001b[0m | \u001b[0m-1e+09   \u001b[0m | \u001b[0m 0.4514  \u001b[0m | \u001b[0m-0.01771 \u001b[0m | \u001b[0m-0.005214\u001b[0m |\n",
      "1.75, 1.83\n",
      "| \u001b[0m 38      \u001b[0m | \u001b[0m-1e+09   \u001b[0m | \u001b[0m 0.4881  \u001b[0m | \u001b[0m-0.01226 \u001b[0m | \u001b[0m-0.01697 \u001b[0m |\n",
      "1.71, 1.96\n",
      "| \u001b[0m 39      \u001b[0m | \u001b[0m-12.51   \u001b[0m | \u001b[0m 0.4446  \u001b[0m | \u001b[0m-0.01533 \u001b[0m | \u001b[0m 7.056e-0\u001b[0m |\n",
      "2.11, 2.29\n",
      "| \u001b[0m 40      \u001b[0m | \u001b[0m-12.86   \u001b[0m | \u001b[0m 0.4973  \u001b[0m | \u001b[0m 0.01307 \u001b[0m | \u001b[0m 0.01158 \u001b[0m |\n",
      "0.87, 1.21\n",
      "| \u001b[0m 41      \u001b[0m | \u001b[0m-10.45   \u001b[0m | \u001b[0m 0.4625  \u001b[0m | \u001b[0m 0.01525 \u001b[0m | \u001b[0m-0.01878 \u001b[0m |\n",
      "3.99, 3.84\n",
      "| \u001b[0m 42      \u001b[0m | \u001b[0m-1e+09   \u001b[0m | \u001b[0m 0.5239  \u001b[0m | \u001b[0m-0.00127 \u001b[0m | \u001b[0m-0.01216 \u001b[0m |\n",
      "5.42, 4.46\n",
      "| \u001b[0m 43      \u001b[0m | \u001b[0m-1e+09   \u001b[0m | \u001b[0m 0.5317  \u001b[0m | \u001b[0m-0.01504 \u001b[0m | \u001b[0m-0.01855 \u001b[0m |\n",
      "3.44, 2.40\n",
      "| \u001b[0m 44      \u001b[0m | \u001b[0m-1e+09   \u001b[0m | \u001b[0m 0.5043  \u001b[0m | \u001b[0m-0.01644 \u001b[0m | \u001b[0m-0.008606\u001b[0m |\n",
      "0.68, 1.00\n",
      "| \u001b[0m 45      \u001b[0m | \u001b[0m-5.27    \u001b[0m | \u001b[0m 0.468   \u001b[0m | \u001b[0m 0.01382 \u001b[0m | \u001b[0m-0.01477 \u001b[0m |\n",
      "=============================================================\n"
     ]
    }
   ],
   "source": [
    "# bounds on input params \n",
    "pbounds = {'varx': (0.44, 0.55),\n",
    "           'vary': (-0.02, 0.02),\n",
    "           'varz': (-0.02, 0.02),\n",
    "          }\n",
    "\n",
    "optimizer = BayesianOptimization(\n",
    "    f = evaluate,\n",
    "    pbounds = pbounds,\n",
    "    random_state = 1,\n",
    ")\n",
    "\n",
    "optimizer.maximize(\n",
    "    init_points=5,\n",
    "    n_iter=40,\n",
    ")"
   ]
  },
  {
   "cell_type": "markdown",
   "id": "0fefaf55",
   "metadata": {},
   "source": [
    "## Results from simple BO"
   ]
  },
  {
   "cell_type": "code",
   "execution_count": 6,
   "id": "1574eea8",
   "metadata": {},
   "outputs": [
    {
     "name": "stdout",
     "output_type": "stream",
     "text": [
      "optimum (pv_units)  0.4783371750558134 -0.02 0.02\n",
      "optimum geom emit  0.8672671914100647\n"
     ]
    }
   ],
   "source": [
    "SOL_opt = optimizer.max['params']['varx'] # solenoid val at optimum\n",
    "CQ_opt = optimizer.max['params']['vary'] # CQ val at optimum\n",
    "SQ_opt = optimizer.max['params']['varz'] # SQ val at optimum\n",
    "\n",
    "opt_emit = -1*optimizer.max['target'] # emittance value at optimum (in um)\n",
    "\n",
    "print('optimum (pv_units) ',SOL_opt, CQ_opt, SQ_opt)\n",
    "print('optimum geom emit ', opt_emit)"
   ]
  }
 ],
 "metadata": {
  "kernelspec": {
   "display_name": "Python 3 (ipykernel)",
   "language": "python",
   "name": "python3"
  },
  "language_info": {
   "codemirror_mode": {
    "name": "ipython",
    "version": 3
   },
   "file_extension": ".py",
   "mimetype": "text/x-python",
   "name": "python",
   "nbconvert_exporter": "python",
   "pygments_lexer": "ipython3",
   "version": "3.7.13"
  }
 },
 "nbformat": 4,
 "nbformat_minor": 5
}
