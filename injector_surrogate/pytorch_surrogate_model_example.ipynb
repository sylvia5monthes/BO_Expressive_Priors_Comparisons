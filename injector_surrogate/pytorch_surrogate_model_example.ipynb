{
 "cells": [
  {
   "cell_type": "code",
   "execution_count": 1,
   "id": "a1c6a567-fd34-48db-bb93-57908b5fe099",
   "metadata": {},
   "outputs": [],
   "source": [
    "from injector_surrogate_quads import Surrogate_NN\n",
    "from pytorch_surrogate_model import *\n",
    "import torch\n",
    "import torch.nn as nn\n",
    "\n",
    "import sys,os\n",
    "sys.path.append('../configs')\n",
    "#Sim reference point to optimize around\n",
    "from ref_config import ref_point"
   ]
  },
  {
   "cell_type": "code",
   "execution_count": 2,
   "id": "9346e4ee-b885-4643-a7a8-d549d6d78c01",
   "metadata": {},
   "outputs": [
    {
     "name": "stderr",
     "output_type": "stream",
     "text": [
      "2022-07-11 12:27:22.343145: I tensorflow/core/platform/cpu_feature_guard.cc:142] This TensorFlow binary is optimized with oneAPI Deep Neural Network Library (oneDNN) to use the following CPU instructions in performance-critical operations:  SSE4.1 SSE4.2 AVX AVX2 FMA\n",
      "To enable them in other operations, rebuild TensorFlow with the appropriate compiler flags.\n"
     ]
    },
    {
     "data": {
      "text/plain": [
       "Surrogate_NN_PyTorch(\n",
       "  (network): Sequential(\n",
       "    (0): Linear(in_features=16, out_features=100, bias=True)\n",
       "    (1): ELU(alpha=1.0)\n",
       "    (2): Linear(in_features=100, out_features=200, bias=True)\n",
       "    (3): ELU(alpha=1.0)\n",
       "    (4): Dropout(p=0.05, inplace=False)\n",
       "    (5): Linear(in_features=200, out_features=200, bias=True)\n",
       "    (6): ELU(alpha=1.0)\n",
       "    (7): Dropout(p=0.05, inplace=False)\n",
       "    (8): Linear(in_features=200, out_features=300, bias=True)\n",
       "    (9): ELU(alpha=1.0)\n",
       "    (10): Dropout(p=0.05, inplace=False)\n",
       "    (11): Linear(in_features=300, out_features=300, bias=True)\n",
       "    (12): ELU(alpha=1.0)\n",
       "    (13): Dropout(p=0.05, inplace=False)\n",
       "    (14): Linear(in_features=300, out_features=200, bias=True)\n",
       "    (15): ELU(alpha=1.0)\n",
       "    (16): Dropout(p=0.05, inplace=False)\n",
       "    (17): Linear(in_features=200, out_features=100, bias=True)\n",
       "    (18): ELU(alpha=1.0)\n",
       "    (19): Dropout(p=0.05, inplace=False)\n",
       "    (20): Linear(in_features=100, out_features=100, bias=True)\n",
       "    (21): ELU(alpha=1.0)\n",
       "    (22): Linear(in_features=100, out_features=100, bias=True)\n",
       "    (23): ELU(alpha=1.0)\n",
       "    (24): Linear(in_features=100, out_features=5, bias=True)\n",
       "  )\n",
       ")"
      ]
     },
     "execution_count": 2,
     "metadata": {},
     "output_type": "execute_result"
    }
   ],
   "source": [
    "from tensorflow.keras.layers import InputLayer, Dense, Dropout\n",
    "\n",
    "### direct creation of pytorch model ###\n",
    "Model = Surrogate_NN()\n",
    "\n",
    "Model.load_saved_model(model_path = '../models/', \\\n",
    "                       model_name = 'model_OTR2_NA_rms_emit_elu_2021-07-27T19_54_57-07_00')\n",
    "Model.load_scaling()\n",
    "Model.take_log_out = False\n",
    "\n",
    "# print(Model.model_1.summary())\n",
    "\n",
    "test_model = Surrogate_NN_PyTorch(Model)\n",
    "test_model.eval()\n",
    "\n",
    "# torch.save(test_model, '../models/Surrogate_NN_PyTorch.pth')"
   ]
  },
  {
   "cell_type": "code",
   "execution_count": 3,
   "id": "0ff67a4c-a914-4873-9bfd-a89809ed4530",
   "metadata": {},
   "outputs": [
    {
     "name": "stdout",
     "output_type": "stream",
     "text": [
      "<injector_surrogate_quads.Surrogate_NN object at 0x7f606ab46e50>\n"
     ]
    }
   ],
   "source": [
    "### creation of pytorch model using Surrogate_NN ### \n",
    "PyTorch_Model = Surrogate_NN(pytorch=True)\n",
    "\n",
    "PyTorch_Model.load_saved_model(model_path = '../models/', \n",
    "                       model_name = 'Surrogate_NN_PyTorch')\n",
    "\n",
    "PyTorch_Model.load_scaling(scalerfilex = '../data/transformer_x_pytorch.pth', \n",
    "                   scalerfiley = '../data/transformer_y_pytorch.pth')\n",
    "PyTorch_Model.take_log_out = False\n",
    "\n",
    "print(PyTorch_Model)"
   ]
  },
  {
   "cell_type": "code",
   "execution_count": 11,
   "id": "2d3daeb0-8b6c-4752-a34c-021fe552fd16",
   "metadata": {},
   "outputs": [
    {
     "name": "stdout",
     "output_type": "stream",
     "text": [
      "orig: [[1.2124054e-04 1.1827494e-04 4.6100092e-04 5.5473919e-07 5.6714555e-07]]\n",
      "pytorch: tensor([[1.2124e-04, 1.1827e-04, 4.6100e-04, 5.5474e-07, 5.6715e-07]])\n"
     ]
    }
   ],
   "source": [
    "import numpy as np\n",
    "\n",
    "# test_transformer_x = MinMaxScaler_PyTorch(Model.transformer_x)\n",
    "# test_transformer_y = MinMaxScaler_PyTorch(Model.transformer_y)\n",
    "\n",
    "# torch.save(test_transformer_x, '../data/transformer_x_pytorch.pth')\n",
    "# torch.save(test_transformer_y, '../data/transformer_y_pytorch.pth')\n",
    "\n",
    "keras_test_point = Model.sim_to_machine(np.asarray(ref_point))\n",
    "torch_test_point = torch.as_tensor(Model.sim_to_machine(ref_point))\n",
    "# print(keras_test_point)\n",
    "# print(torch_test_point)\n",
    "\n",
    "# original surrogate \n",
    "keras_out = Model.pred_machine_units(keras_test_point)\n",
    "print(f'orig: {keras_out}')\n",
    "\n",
    "# # PyTorch surrogate\n",
    "torch_out = PyTorch_Model.pred_machine_units(torch_test_point)\n",
    "print(f'pytorch: {torch_out.detach()}')\n"
   ]
  },
  {
   "cell_type": "code",
   "execution_count": 8,
   "id": "5d7d9b0c-9c5b-437a-a90d-4099306d79c9",
   "metadata": {},
   "outputs": [],
   "source": [
    "\n",
    "# col = []\n",
    "# scale = []\n",
    "# for i in range(0,len(Model.model_in_list)):\n",
    "#     col.append(Model.loc_in[Model.model_in_list[i]])\n",
    "#     scale.append(Model.pv_to_sim_factor[Model.sim_name_to_pv_name[Model.model_in_list[i]]])\n",
    "\n",
    "# torch_test_point[:,col] =  torch_test_point[:,col] * torch.tensor(scale)\n",
    "# normed_x = test_transformer_x.transform(torch_test_point)\n",
    "\n",
    "# test_model.double()\n",
    "# pytorch = test_model(normed_x)\n",
    "\n",
    "# print(test_transformer_y.inverse_transform(pytorch))\n"
   ]
  },
  {
   "cell_type": "code",
   "execution_count": null,
   "id": "a4d31688-0f3f-43f4-9aa3-a7e2ec71cc0f",
   "metadata": {},
   "outputs": [],
   "source": []
  }
 ],
 "metadata": {
  "kernelspec": {
   "display_name": "Python 3 (ipykernel)",
   "language": "python",
   "name": "python3"
  },
  "language_info": {
   "codemirror_mode": {
    "name": "ipython",
    "version": 3
   },
   "file_extension": ".py",
   "mimetype": "text/x-python",
   "name": "python",
   "nbconvert_exporter": "python",
   "pygments_lexer": "ipython3",
   "version": "3.7.13"
  }
 },
 "nbformat": 4,
 "nbformat_minor": 5
}
