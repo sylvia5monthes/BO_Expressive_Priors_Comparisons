{
 "cells": [
  {
   "cell_type": "code",
   "execution_count": 1,
   "id": "ed841451-2ad2-4a82-8b8d-e8cc8904736e",
   "metadata": {},
   "outputs": [],
   "source": [
    "#Pytorch \n",
    "import numpy as np\n",
    "import torch\n",
    "import torch.nn as nn\n",
    "import torch.nn.functional as F\n",
    "import torch.optim as optim\n",
    "import gpytorch\n",
    "import botorch \n",
    "\n",
    "import matplotlib.pyplot as plt"
   ]
  },
  {
   "cell_type": "markdown",
   "id": "37f9dd34-10e0-4915-accf-957a40d4f47b",
   "metadata": {},
   "source": [
    "# Test Plots"
   ]
  },
  {
   "cell_type": "code",
   "execution_count": 2,
   "id": "72a857cf-c24a-495e-b173-8ad523c3d2f1",
   "metadata": {},
   "outputs": [],
   "source": [
    "#NN Surrogate model class\n",
    "import injector_surrogate_quads\n",
    "from injector_surrogate_quads import *\n",
    "import physics_gp\n",
    "\n",
    "sys.path.append('../configs')\n",
    "#Sim reference point to optimize around\n",
    "from ref_config import ref_point"
   ]
  },
  {
   "cell_type": "code",
   "execution_count": 3,
   "id": "0372fe48-3a41-4794-8806-d6691a57007a",
   "metadata": {},
   "outputs": [
    {
     "name": "stderr",
     "output_type": "stream",
     "text": [
      "2022-06-30 17:42:48.943311: I tensorflow/core/platform/cpu_feature_guard.cc:142] This TensorFlow binary is optimized with oneAPI Deep Neural Network Library (oneDNN) to use the following CPU instructions in performance-critical operations:  SSE4.1 SSE4.2 AVX AVX2 FMA\n",
      "To enable them in other operations, rebuild TensorFlow with the appropriate compiler flags.\n"
     ]
    }
   ],
   "source": [
    "# load injector model\n",
    "Model = Surrogate_NN()\n",
    "\n",
    "Model.load_saved_model(model_path = '../models/', \\\n",
    "                       model_name = 'model_OTR2_NA_rms_emit_elu_2021-07-27T19_54_57-07_00')\n",
    "Model.load_scaling()\n",
    "Model.take_log_out = False"
   ]
  },
  {
   "cell_type": "code",
   "execution_count": 4,
   "id": "ca88bb92-80e9-43f0-affc-db50a6b2dc15",
   "metadata": {},
   "outputs": [
    {
     "name": "stdout",
     "output_type": "stream",
     "text": [
      "[1e-06, 1.113081026, -0.0689403587]\n",
      "[1e-06, 1.113021659, -0.07029489754]\n"
     ]
    }
   ],
   "source": [
    "beamline_info = json.load(open('../configs/beamline_info.json'))\n",
    "get_twiss0 = beamline_info['Twiss0']\n",
    "\n",
    "# emit, beta, alpha\n",
    "twiss0 = {'x': [get_twiss0[0], get_twiss0[2], get_twiss0[4]],\n",
    "          'y': [get_twiss0[1], get_twiss0[3], get_twiss0[5]]}\n",
    "\n",
    "beta0_x, alpha0_x = twiss0['x'][1], twiss0['x'][2]\n",
    "beta0_y, alpha0_y = twiss0['y'][1], twiss0['y'][2]\n",
    "print(twiss0['x'])\n",
    "print(twiss0['y'])"
   ]
  },
  {
   "cell_type": "code",
   "execution_count": 5,
   "id": "2fc7c235-43dd-476c-a775-e8175b435506",
   "metadata": {},
   "outputs": [],
   "source": [
    "# convert to machine units\n",
    "ref_point = Model.sim_to_machine(np.asarray(ref_point))\n",
    "\n",
    "# input params: solenoid and quads to vary \n",
    "opt_var_names = ['SOL1:solenoid_field_scale','CQ01:b1_gradient', 'SQ01:b1_gradient',\n",
    "                 \"QA01:b1_gradient\", \"QA02:b1_gradient\", \n",
    "                 \"QE01:b1_gradient\", \"QE02:b1_gradient\", \"QE03:b1_gradient\", \"QE04:b1_gradient\"]\n",
    "bounds = torch.tensor([[0.46, 0.485], [-0.02, 0.02], [-0.02, 0.02],\n",
    "                       [-4, -1], [1, 4],\n",
    "                       [-7,-1], [-1, 7],[-1, 7], [-7, 1]])\n",
    "\n",
    "# output params: emittance in transverse plane (x & y)\n",
    "opt_out_names = ['norm_emit_x','norm_emit_y']\n",
    "\n",
    "def evaluate(config): \n",
    "    \"\"\"\n",
    "    D is input space dimensionality\n",
    "    :param config: input values of opt_var_names, torch.tensor, shape (1, D) \n",
    "    \"\"\"\n",
    "    #make input array of length model_in_list (inputs model takes)\n",
    "    x_in = np.empty((1,len(Model.model_in_list)))\n",
    "\n",
    "    #fill in reference point around which to optimize\n",
    "    x_in[:,:] = np.asarray(ref_point[0])\n",
    "\n",
    "    #set solenoid, CQ, SQ, matching quads to values from optimization step\n",
    "    for i in range(config.size(dim=0)):\n",
    "        x_in[:, Model.loc_in[opt_var_names[i]]] = config[i]\n",
    "\n",
    "    #output predictions\n",
    "    y_out = Model.pred_machine_units(x_in) \n",
    "\n",
    "    return -1*objective(y_out)[0]\n",
    "\n",
    "\n",
    "def objective(y_out):\n",
    "    # output is emittance * bmag \n",
    "    \n",
    "    # geometric emittance in transverse plane\n",
    "    out1 = y_out[:, Model.loc_out['norm_emit_x']] #grab norm_emit_x out of the model\n",
    "    out2 = y_out[:, Model.loc_out['norm_emit_y']] #grab norm_emit_y out of the model\n",
    "    emit = np.sqrt(out1 * out2)\n",
    "  \n",
    "    sigma_x = y_out[:, Model.loc_out['sigma_x']] #grab sigma_x out of the model \n",
    "    sigma_y = y_out[:, Model.loc_out['sigma_y']] #grab sigma_y out of the model \n",
    "    \n",
    "    # real beta and alpha \n",
    "    # NEEDS TO BE FIXED - currently assuming real alpha to be the same as design alpha \n",
    "    alpha_x, alpha_y = alpha0_x, alpha0_y\n",
    "    beta_x, beta_y = (sigma_x**2) / out1, (sigma_y**2) / out2\n",
    "    \n",
    "    # bmag \n",
    "    bmag_x = 0.5 * ((beta0_x / beta_x) + (beta_x / beta0_x)) + 0.5 * ((alpha_x * np.sqrt(beta0_x / beta_x) - alpha0_x * np.sqrt(beta_x / beta0_x))**2)\n",
    "    bmag_y = 0.5 * ((beta0_y / beta_y) + (beta_y / beta0_y)) + 0.5 * ((alpha_y * np.sqrt(beta0_y / beta_y) - alpha0_y * np.sqrt(beta_y / beta0_y))**2)\n",
    "    bmag = np.sqrt(bmag_x * bmag_y)\n",
    "    #print(f'bmag: {bmag} emit: {emit}') \n",
    "    \n",
    "    return (emit * bmag)/1e-6 # in um units \n",
    "    #return np.sqrt(out1*out2)/1e-6 # in um units"
   ]
  },
  {
   "cell_type": "markdown",
   "id": "cab76dc5-7177-4a05-8133-4639cf66ae38",
   "metadata": {},
   "source": [
    "## Set up initial training samples"
   ]
  },
  {
   "cell_type": "code",
   "execution_count": 34,
   "id": "ab8e2cc5-715b-415d-a9c4-3d92e183d34f",
   "metadata": {},
   "outputs": [
    {
     "name": "stdout",
     "output_type": "stream",
     "text": [
      "tensor([[ 4.7797e-01,  1.9500e-02, -6.8730e-04, -2.0006e+00,  2.0006e+00,\n",
      "         -2.0218e-01, -1.7939e-01,  2.8522e+00, -3.2184e+00],\n",
      "        [ 4.7797e-01,  1.9000e-02, -6.8730e-04, -2.0006e+00,  2.0006e+00,\n",
      "         -2.0218e-01, -1.7939e-01,  2.8522e+00, -3.2184e+00]],\n",
      "       dtype=torch.float64)\n",
      "tensor([[-11.2799],\n",
      "        [-11.1874]], dtype=torch.float64)\n"
     ]
    }
   ],
   "source": [
    "test_param = 1 # from 0 to 8\n",
    "bounds = torch.as_tensor([[0.46, 0.485], [-0.02, 0.02], [-0.02, 0.02],\n",
    "                       [-4, -1], [1, 4],\n",
    "                       [-7,-1], [-1, 7],[-1, 7], [-7, 1]])\n",
    "\n",
    "#create initial samples within specified bounds\n",
    "n_samples = 2\n",
    "n_var = 9\n",
    "\n",
    "scan_ref_point = torch.cat([torch.as_tensor([ref_point[0][Model.loc_in[param_name]]]) for param_name in opt_var_names])\n",
    "\n",
    "train_x = scan_ref_point.repeat(n_samples, 1) \n",
    "train_x[0,test_param] = 0.0195\n",
    "train_x[1,test_param] = 0.019\n",
    "\n",
    "#train_x[:,0] = torch.linspace(bounds[0,0],bounds[0,1],n_samples)\n",
    "print(train_x)\n",
    "train_y = torch.tensor([evaluate(vars) for vars in train_x]).reshape(-1,1)\n",
    "print(train_y)\n",
    "\n",
    "#transformer \n",
    "transformer_x = botorch.models.transforms.input.Normalize(n_var, bounds = bounds.transpose(0,1))\n",
    "transformer_y = botorch.models.transforms.outcome.Standardize(1)"
   ]
  },
  {
   "cell_type": "code",
   "execution_count": 35,
   "id": "63acc855-9fb0-420c-ab72-dd13a2abff09",
   "metadata": {},
   "outputs": [],
   "source": [
    "# model \n",
    "class NN_prior(nn.Module):\n",
    "    def __init__(self):\n",
    "        super(NN_prior, self).__init__()\n",
    "        \n",
    "        hidden_size = 20\n",
    "        self.network = nn.Sequential(nn.Linear(n_var, hidden_size), \n",
    "                                     nn.Tanh(), \n",
    "                                     nn.Linear(hidden_size, hidden_size), \n",
    "                                     nn.Tanh(),\n",
    "                                     nn.Linear(hidden_size, 1))\n",
    "        \n",
    "    def forward(self, x):\n",
    "        x = self.network(x)\n",
    "        return x "
   ]
  },
  {
   "cell_type": "code",
   "execution_count": 36,
   "id": "94fd1a15-67b6-49be-b0ba-b20b777338e2",
   "metadata": {},
   "outputs": [],
   "source": [
    "from gpytorch.means.mean import Mean\n",
    "class CustomMean(Mean):\n",
    "    def __init__(self, name, y_norm_transform, outcome_transform):\n",
    "        super(CustomMean, self).__init__()\n",
    "        self.NN_model = NN_prior()\n",
    "        self.NN_model.load_state_dict(torch.load('./results/' + name + '.pth'))\n",
    "        self.NN_model.eval()\n",
    "        \n",
    "        self.y_norm_transform = y_norm_transform\n",
    "        self.outcome_transform = outcome_transform\n",
    "        \n",
    "    def forward(self, x):\n",
    "        \"\"\"\n",
    "        takes in transformed x, returns transformed y\n",
    "        \"\"\"\n",
    "        self.outcome_transform.eval()\n",
    "        #print(x)\n",
    "        m = self.NN_model(x) # normed x |-> NN normed y \n",
    "        #print(m)\n",
    "        m = self.y_norm_transform.untransform(m) # NN normed y -> real y\n",
    "        #print(f'real: {m}')\n",
    "        m = self.outcome_transform(m)[0] # real y -> standardized y\n",
    "        #print(f'std: {m}')\n",
    "        \n",
    "        self.outcome_transform.train()\n",
    "        return m.squeeze()"
   ]
  },
  {
   "cell_type": "markdown",
   "id": "90a7ebe7-3652-467a-aabd-9c285ecc7dde",
   "metadata": {
    "tags": []
   },
   "source": [
    "### create GP"
   ]
  },
  {
   "cell_type": "code",
   "execution_count": 37,
   "id": "12f08ef8-0cde-4c86-8e5b-57c8ac264e3b",
   "metadata": {},
   "outputs": [],
   "source": [
    "# model = botorch.models.SingleTaskGP(train_x, \n",
    "#                                     train_y, \n",
    "#                                     mean_module=MeanSquared(transformer_y), \n",
    "#                                     outcome_transform=transformer_y)\n",
    "\n",
    "NN_transformer_y = botorch.models.transforms.input.Normalize(1)\n",
    "NN_transformer_y.load_state_dict(torch.load('./results/transformer_y_norm.pth'))\n",
    "NN_transformer_y.eval() \n",
    "        \n",
    "model = botorch.models.SingleTaskGP(train_x, \n",
    "                                    train_y, \n",
    "                                    mean_module=CustomMean(\"model_1hidden_20nodes_500epoch_0.02\", NN_transformer_y, transformer_y),\n",
    "                                    input_transform=transformer_x,\n",
    "                                    outcome_transform=transformer_y)\n",
    "model.likelihood.noise_covar.noise = torch.tensor(1e-4)"
   ]
  },
  {
   "cell_type": "code",
   "execution_count": 38,
   "id": "4ee62231-5be3-4d31-9b57-b4381e23187d",
   "metadata": {},
   "outputs": [],
   "source": [
    "# constant prior mean\n",
    "# constant_prior_best_y = BayesianOptimization(train_x, train_y, 30, prior = None, phys = False) "
   ]
  },
  {
   "cell_type": "markdown",
   "id": "c2474164-6fb1-4891-be6a-d74a57d65a3a",
   "metadata": {},
   "source": [
    "### plot GP in 1D"
   ]
  },
  {
   "cell_type": "code",
   "execution_count": 39,
   "id": "29038956-b897-471a-a983-371d66a72efe",
   "metadata": {},
   "outputs": [
    {
     "data": {
      "text/plain": [
       "<matplotlib.legend.Legend at 0x7f06405fa750>"
      ]
     },
     "execution_count": 39,
     "metadata": {},
     "output_type": "execute_result"
    },
    {
     "data": {
      "image/png": "[encoded data removed]",
      "text/plain": [
       "<Figure size 432x288 with 1 Axes>"
      ]
     },
     "metadata": {
      "needs_background": "light"
     },
     "output_type": "display_data"
    }
   ],
   "source": [
    "transformer_x.eval()\n",
    "\n",
    "n_test = 100\n",
    "test_x = scan_ref_point.repeat(n_test, 1)\n",
    "test_x[:,test_param] = torch.linspace(bounds[test_param,0],bounds[test_param,1],n_test)\n",
    "#print(test_x)\n",
    "\n",
    "model.eval()\n",
    "with torch.no_grad():\n",
    "    real_post = model.posterior(test_x)\n",
    "    real_mean = real_post.mean\n",
    "    lower,upper = real_post.mvn.confidence_region()\n",
    "\n",
    "NN_model = NN_prior()\n",
    "NN_model.load_state_dict(torch.load('./results/model_1hidden_20nodes_500epoch_0.02.pth'))\n",
    "\n",
    "normed_prior_test_y = NN_model(transformer_x(test_x).float())\n",
    "prior_test_y = NN_transformer_y.untransform(normed_prior_test_y)\n",
    "#print(prior_test_y)\n",
    "#print(transformer_y(prior_test_y)[0])\n",
    "model_test_y = torch.as_tensor([evaluate(ele) for ele in test_x])\n",
    "                               \n",
    "\n",
    "fig,ax = plt.subplots()\n",
    "ax.plot(test_x[:,test_param], real_mean.flatten(), label = \"calling model.posterior - real y\")\n",
    "ax.plot(test_x[:,test_param], prior_test_y.detach().numpy(), label = \"calling NN - prior mean\")\n",
    "ax.plot(test_x[:,test_param], model_test_y.detach().numpy(), label = \"calling surrogate model\")\n",
    "ax.plot(train_x[:,test_param], train_y, \"+\")\n",
    "\n",
    "ax.fill_between(test_x[:,test_param],lower.flatten(),upper.flatten(),alpha = 0.5)\n",
    "ax.legend()"
   ]
  },
  {
   "cell_type": "code",
   "execution_count": null,
   "id": "518e8f32-251c-4e8a-9d99-75db58d06670",
   "metadata": {},
   "outputs": [],
   "source": []
  },
  {
   "cell_type": "code",
   "execution_count": null,
   "id": "1538880a-6704-49e2-b900-5f35ce31243e",
   "metadata": {},
   "outputs": [],
   "source": []
  },
  {
   "cell_type": "code",
   "execution_count": 12,
   "id": "a6448337-8ec1-48f0-bbae-5cd1106dbf8e",
   "metadata": {},
   "outputs": [
    {
     "data": {
      "text/plain": [
       "'\\n#define acquisition function\\nfrom botorch.acquisition.analytic import UpperConfidenceBound, ExpectedImprovement\\nfrom botorch.optim import optimize_acqf\\n\\n#optimize\\nn_steps = 45\\nfor i in range(n_steps):\\n    #best_normed_y = torch.max(normed_train_y)\\n    UCB = UpperConfidenceBound(gp, beta=2.5)\\n    #EI = ExpectedImprovement(gp, best_normed_y)\\n\\n    bounds = torch.cat((torch.zeros(1,3), torch.ones(1,3)), 0)\\n    candidate, acq_value = optimize_acqf(UCB, bounds = bounds, num_restarts = 20, q = 1, raw_samples = 20)\\n\\n    train_x = torch.cat((train_x, transformer_x.backward(candidate)))\\n    normed_train_x = transformer_x.forward(train_x)\\n\\n    new_y = torch.tensor(evaluate(train_x[-1][0], train_x[-1][1], train_x[-1][2])).reshape(1,1)\\n    train_y = torch.cat((train_y, new_y))\\n    \\n    print(\"iteration        target         varx         vary         varz\")\\n    print(f\\'{i+1}              {train_y[-1][0]:.5f}      {train_x[-1][0]:.5f}      {train_x[-1][1]:.5f}      {train_x[-1][2]:.5f}\\')\\n    print(torch.max(train_y))\\n    \\n    transformer_y = transformer.Transformer(train_y, \\'standardize\\')\\n    normed_train_y = transformer_y.forward(train_y)\\n\\n    gp = SingleTaskGP(normed_train_x, normed_train_y)\\n    mll = ExactMarginalLogLikelihood(gp.likelihood, gp)\\n    fit_gpytorch_model(mll);\\n'"
      ]
     },
     "execution_count": 12,
     "metadata": {},
     "output_type": "execute_result"
    }
   ],
   "source": [
    "\"\"\"\n",
    "#define acquisition function\n",
    "from botorch.acquisition.analytic import UpperConfidenceBound, ExpectedImprovement\n",
    "from botorch.optim import optimize_acqf\n",
    "\n",
    "#optimize\n",
    "n_steps = 45\n",
    "for i in range(n_steps):\n",
    "    #best_normed_y = torch.max(normed_train_y)\n",
    "    UCB = UpperConfidenceBound(gp, beta=2.5)\n",
    "    #EI = ExpectedImprovement(gp, best_normed_y)\n",
    "\n",
    "    bounds = torch.cat((torch.zeros(1,3), torch.ones(1,3)), 0)\n",
    "    candidate, acq_value = optimize_acqf(UCB, bounds = bounds, num_restarts = 20, q = 1, raw_samples = 20)\n",
    "\n",
    "    train_x = torch.cat((train_x, transformer_x.backward(candidate)))\n",
    "    normed_train_x = transformer_x.forward(train_x)\n",
    "\n",
    "    new_y = torch.tensor(evaluate(train_x[-1][0], train_x[-1][1], train_x[-1][2])).reshape(1,1)\n",
    "    train_y = torch.cat((train_y, new_y))\n",
    "    \n",
    "    print(\"iteration        target         varx         vary         varz\")\n",
    "    print(f'{i+1}              {train_y[-1][0]:.5f}      {train_x[-1][0]:.5f}      {train_x[-1][1]:.5f}      {train_x[-1][2]:.5f}')\n",
    "    print(torch.max(train_y))\n",
    "    \n",
    "    transformer_y = transformer.Transformer(train_y, 'standardize')\n",
    "    normed_train_y = transformer_y.forward(train_y)\n",
    "\n",
    "    gp = SingleTaskGP(normed_train_x, normed_train_y)\n",
    "    mll = ExactMarginalLogLikelihood(gp.likelihood, gp)\n",
    "    fit_gpytorch_model(mll);\n",
    "\"\"\""
   ]
  },
  {
   "cell_type": "code",
   "execution_count": null,
   "id": "39cfb5ca-1288-468e-b19d-8360a35c94a3",
   "metadata": {},
   "outputs": [],
   "source": []
  },
  {
   "cell_type": "code",
   "execution_count": null,
   "id": "f04b3e5d-1538-427e-bb43-7f31181969de",
   "metadata": {},
   "outputs": [],
   "source": []
  }
 ],
 "metadata": {
  "kernelspec": {
   "display_name": "Python 3 (ipykernel)",
   "language": "python",
   "name": "python3"
  },
  "language_info": {
   "codemirror_mode": {
    "name": "ipython",
    "version": 3
   },
   "file_extension": ".py",
   "mimetype": "text/x-python",
   "name": "python",
   "nbconvert_exporter": "python",
   "pygments_lexer": "ipython3",
   "version": "3.7.13"
  }
 },
 "nbformat": 4,
 "nbformat_minor": 5
}
