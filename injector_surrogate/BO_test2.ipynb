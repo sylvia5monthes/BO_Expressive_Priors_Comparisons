{
 "cells": [
  {
   "cell_type": "code",
   "execution_count": 114,
   "source": [
    "#Pytorch \n",
    "import numpy as np\n",
    "import torch\n",
    "import torch.nn as nn\n",
    "import torch.nn.functional as F\n",
    "import torch.optim as optim\n",
    "import gpytorch\n",
    "import botorch \n",
    "\n",
    "import matplotlib.pyplot as plt"
   ],
   "outputs": [],
   "metadata": {}
  },
  {
   "cell_type": "markdown",
   "source": [
    "# Test Plots"
   ],
   "metadata": {}
  },
  {
   "cell_type": "code",
   "execution_count": 115,
   "source": [
    "#NN Surrogate model class\n",
    "from injector_surrogate_quads import *\n",
    "import physics_gp\n",
    "\n",
    "sys.path.append('../configs')\n",
    "#Sim reference point to optimize around\n",
    "from ref_config import ref_point"
   ],
   "outputs": [],
   "metadata": {}
  },
  {
   "cell_type": "code",
   "execution_count": 116,
   "source": [
    "# load injector model\n",
    "Model = Surrogate_NN()\n",
    "\n",
    "Model.load_saved_model(model_path = '../models/', \\\n",
    "                       model_name = 'model_OTR2_NA_rms_emit_elu_2021-07-27T19_54_57-07_00')\n",
    "Model.load_scaling()\n",
    "Model.take_log_out = False"
   ],
   "outputs": [],
   "metadata": {}
  },
  {
   "cell_type": "code",
   "execution_count": 117,
   "source": [
    "beamline_info = json.load(open('../configs/beamline_info.json'))\n",
    "get_twiss0 = beamline_info['Twiss0']\n",
    "\n",
    "# emit, beta, alpha\n",
    "twiss0 = {'x': [get_twiss0[0], get_twiss0[2], get_twiss0[4]],\n",
    "          'y': [get_twiss0[1], get_twiss0[3], get_twiss0[5]]}\n",
    "\n",
    "beta0_x, alpha0_x = twiss0['x'][1], twiss0['x'][2]\n",
    "beta0_y, alpha0_y = twiss0['y'][1], twiss0['y'][2]\n",
    "print(twiss0['x'])\n",
    "print(twiss0['y'])"
   ],
   "outputs": [
    {
     "output_type": "stream",
     "name": "stdout",
     "text": [
      "[1e-06, 1.113081026, -0.0689403587]\n",
      "[1e-06, 1.113021659, -0.07029489754]\n"
     ]
    }
   ],
   "metadata": {}
  },
  {
   "cell_type": "code",
   "execution_count": 118,
   "source": [
    "# convert to machine units\n",
    "ref_point = Model.sim_to_machine(np.asarray(ref_point))\n",
    "\n",
    "# input params: solenoid and quads to vary \n",
    "opt_var_names = ['SOL1:solenoid_field_scale','CQ01:b1_gradient', 'SQ01:b1_gradient',\n",
    "                 \"QA01:b1_gradient\", \"QA02:b1_gradient\", \n",
    "                 \"QE01:b1_gradient\", \"QE02:b1_gradient\", \"QE03:b1_gradient\", \"QE04:b1_gradient\"]\n",
    "bounds = torch.tensor([[0.46, 0.485], [-0.02, 0.02], [-0.02, 0.02],\n",
    "                       [-4, -1], [1, 4],\n",
    "                       [-7,-1], [-1, 7],[-1, 7], [-7, 1]])\n",
    "\n",
    "# output params: emittance in transverse plane (x & y)\n",
    "opt_out_names = ['norm_emit_x','norm_emit_y']"
   ],
   "outputs": [],
   "metadata": {}
  },
  {
   "cell_type": "code",
   "execution_count": 119,
   "source": [
    "def evaluate(config): \n",
    "    \"\"\"\n",
    "    D is input space dimensionality\n",
    "    :param config: input values of opt_var_names, torch.tensor, shape (1, D) \n",
    "    \"\"\"\n",
    "    #make input array of length model_in_list (inputs model takes)\n",
    "    x_in = np.empty((1,len(Model.model_in_list)))\n",
    "\n",
    "    #fill in reference point around which to optimize\n",
    "    x_in[:,:] = np.asarray(ref_point[0])\n",
    "\n",
    "    #set solenoid, CQ, SQ, matching quads to values from optimization step\n",
    "    for i in range(config.size(dim=0)):\n",
    "        x_in[:, Model.loc_in[opt_var_names[i]]] = config[i]\n",
    "\n",
    "    #output predictions\n",
    "    y_out = Model.pred_machine_units(x_in) \n",
    "\n",
    "    return -1*objective(y_out)[0]\n",
    "\n",
    "\n",
    "def objective(y_out):\n",
    "    # output is emittance * bmag \n",
    "    \n",
    "    # geometric emittance in transverse plane\n",
    "    out1 = y_out[:, Model.loc_out['norm_emit_x']] #grab norm_emit_x out of the model\n",
    "    out2 = y_out[:, Model.loc_out['norm_emit_y']] #grab norm_emit_y out of the model\n",
    "    emit = np.sqrt(out1 * out2)\n",
    "  \n",
    "    sigma_x = y_out[:, Model.loc_out['sigma_x']] #grab sigma_x out of the model \n",
    "    sigma_y = y_out[:, Model.loc_out['sigma_y']] #grab sigma_y out of the model \n",
    "    \n",
    "    # real beta and alpha \n",
    "    # NEEDS TO BE FIXED - currently assuming real alpha to be the same as design alpha \n",
    "    alpha_x, alpha_y = alpha0_x, alpha0_y\n",
    "    beta_x, beta_y = (sigma_x**2) / out1, (sigma_y**2) / out2\n",
    "    \n",
    "    # bmag \n",
    "    bmag_x = 0.5 * ((beta0_x / beta_x) + (beta_x / beta0_x)) + 0.5 * ((alpha_x * np.sqrt(beta0_x / beta_x) - alpha0_x * np.sqrt(beta_x / beta0_x))**2)\n",
    "    bmag_y = 0.5 * ((beta0_y / beta_y) + (beta_y / beta0_y)) + 0.5 * ((alpha_y * np.sqrt(beta0_y / beta_y) - alpha0_y * np.sqrt(beta_y / beta0_y))**2)\n",
    "    bmag = np.sqrt(bmag_x * bmag_y)\n",
    "    #print(f'bmag: {bmag} emit: {emit}') \n",
    "    \n",
    "    return (emit * bmag)/1e-6 # in um units \n",
    "    #return np.sqrt(out1*out2)/1e-6 # in um units"
   ],
   "outputs": [],
   "metadata": {}
  },
  {
   "cell_type": "markdown",
   "source": [
    "## Set up initial training samples"
   ],
   "metadata": {}
  },
  {
   "cell_type": "code",
   "execution_count": 120,
   "source": [
    "test_param = 6 # from 0 to 8\n",
    "bounds = torch.as_tensor([[0.46, 0.485], [-0.02, 0.02], [-0.02, 0.02],\n",
    "                       [-4, -1], [1, 4],\n",
    "                       [-7,-1], [-1, 7],[-1, 7], [-7, 1]])\n",
    "\n",
    "#create initial samples within specified bounds\n",
    "n_samples = 2\n",
    "n_var = 9\n",
    "\n",
    "scan_ref_point = torch.cat([torch.as_tensor([ref_point[0][Model.loc_in[param_name]]]) for param_name in opt_var_names])\n",
    "scan_ref_point[0] = 0.475\n",
    "scan_ref_point[1] = -0.00134\n",
    "scan_ref_point[2] = -0.02\n",
    "scan_ref_point[3] = -1.8\n",
    "scan_ref_point[4] = 3.5\n",
    "scan_ref_point[5] = -3.0\n",
    "# scan_ref_point[7] = 5.0\n",
    "# scan_ref_point[8] = -6.0\n",
    "\n",
    "\n",
    "train_x = scan_ref_point.repeat(n_samples, 1) \n",
    "train_x[0,test_param] = 3.0\n",
    "train_x[1,test_param] = 4.0\n",
    "# train_x[2,test_param] = -1.0\n",
    "# train_x[3,test_param] = 4.0\n",
    "# train_x[4,test_param] = 5.0\n",
    "\n",
    "\n",
    "#train_x[:,0] = torch.linspace(bounds[0,0],bounds[0,1],n_samples)\n",
    "print(train_x)\n",
    "train_y = torch.tensor([evaluate(vars) for vars in train_x]).reshape(-1,1)\n",
    "print(train_y)\n",
    "\n",
    "#transformer \n",
    "transformer_x = botorch.models.transforms.input.Normalize(n_var, bounds = bounds.transpose(0,1))\n",
    "transformer_y = botorch.models.transforms.outcome.Standardize(1)"
   ],
   "outputs": [
    {
     "output_type": "stream",
     "name": "stdout",
     "text": [
      "tensor([[ 4.7500e-01, -1.3400e-03, -2.0000e-02, -1.8000e+00,  3.5000e+00,\n",
      "         -3.0000e+00,  3.0000e+00,  2.8522e+00, -3.2184e+00],\n",
      "        [ 4.7500e-01, -1.3400e-03, -2.0000e-02, -1.8000e+00,  3.5000e+00,\n",
      "         -3.0000e+00,  4.0000e+00,  2.8522e+00, -3.2184e+00]],\n",
      "       dtype=torch.float64)\n",
      "tensor([[-1.6655],\n",
      "        [-4.9556]], dtype=torch.float64)\n"
     ]
    }
   ],
   "metadata": {}
  },
  {
   "cell_type": "code",
   "execution_count": 121,
   "source": [
    "# model \n",
    "class NN_prior(nn.Module):\n",
    "    def __init__(self):\n",
    "        super(NN_prior, self).__init__()\n",
    "        \n",
    "        hidden_size = 40\n",
    "        self.network = nn.Sequential(nn.Linear(n_var, hidden_size), \n",
    "                                     nn.Tanh(), \n",
    "                                     nn.Linear(hidden_size, hidden_size), \n",
    "                                     nn.Tanh(),\n",
    "                                     nn.Linear(hidden_size, hidden_size), \n",
    "                                     nn.Tanh(),\n",
    "                                     nn.Linear(hidden_size, hidden_size), \n",
    "                                     nn.Tanh(),\n",
    "                                     nn.Linear(hidden_size, hidden_size), \n",
    "                                     nn.Tanh(),\n",
    "                                     nn.Linear(hidden_size, 1))\n",
    "        \n",
    "    def forward(self, x):\n",
    "        x = self.network(x)\n",
    "        return x "
   ],
   "outputs": [],
   "metadata": {}
  },
  {
   "cell_type": "code",
   "execution_count": 122,
   "source": [
    "from gpytorch.means.mean import Mean\n",
    "class CustomMean(Mean):\n",
    "    def __init__(self, name, y_norm_transform, outcome_transform):\n",
    "        super(CustomMean, self).__init__()\n",
    "        self.NN_model = NN_prior()\n",
    "        self.NN_model.load_state_dict(torch.load('./results/' + name + '.pth'))\n",
    "        # self.NN_model.requires_grad_(False)\n",
    "        self.NN_model.requires_grad = False\n",
    "        self.NN_model.eval()\n",
    "        \n",
    "        self.y_norm_transform = y_norm_transform\n",
    "        self.outcome_transform = outcome_transform\n",
    "        \n",
    "    def forward(self, x):\n",
    "        \"\"\"\n",
    "        takes in transformed x, returns transformed y\n",
    "        \"\"\"\n",
    "        self.outcome_transform.eval()\n",
    "        \n",
    "        m = self.NN_model(x) # normed x |-> NN normed y \n",
    "        m = self.y_norm_transform.untransform(m) # NN normed y -> real y\n",
    "        m = self.outcome_transform(m)[0] # real y -> standardized y\n",
    "        \n",
    "        self.outcome_transform.train()\n",
    "        return m.squeeze()\n",
    "    \n",
    "class Surrogate(Mean):\n",
    "    def __init__(self, input_transform, outcome_transform):\n",
    "        super(Surrogate, self).__init__()\n",
    "        self.input_transform = input_transform \n",
    "        self.outcome_transform = outcome_transform\n",
    "\n",
    "    def forward(self, x):\n",
    "        \"\"\"\n",
    "        takes in transformed x, returns transformed y\n",
    "        \"\"\"\n",
    "        self.input_transform.eval()\n",
    "        self.outcome_transform.eval()\n",
    "        \n",
    "        x = self.input_transform.untransform(x) # normed x -> real x \n",
    "        m = torch.tensor([evaluate(vars) for vars in x]) # real x |-> real y\n",
    "        m = self.outcome_transform(m)[0] # real y -> standardized y\n",
    "        \n",
    "        self.input_transform.eval() \n",
    "        self.outcome_transform.train()\n",
    "        return m"
   ],
   "outputs": [],
   "metadata": {}
  },
  {
   "cell_type": "markdown",
   "source": [
    "### create GP"
   ],
   "metadata": {
    "tags": []
   }
  },
  {
   "cell_type": "code",
   "execution_count": 123,
   "source": [
    "# model = botorch.models.SingleTaskGP(train_x, \n",
    "#                                     train_y, \n",
    "#                                     mean_module=MeanSquared(transformer_y), \n",
    "#                                     outcome_transform=transformer_y)\n",
    "\n",
    "NN_transformer_y = botorch.models.transforms.input.Normalize(1)\n",
    "NN_transformer_y.load_state_dict(torch.load('./results/transformer_y_5^9_-5_norm.pth'))\n",
    "NN_transformer_y.eval() \n",
    "        \n",
    "const = botorch.models.SingleTaskGP(train_x, \n",
    "                                    train_y, \n",
    "                                    mean_module=None,\n",
    "                                    input_transform=transformer_x,\n",
    "                                    outcome_transform=transformer_y)\n",
    "model = botorch.models.SingleTaskGP(train_x, \n",
    "                                    train_y, \n",
    "                                    mean_module=CustomMean(\"model5_4hidden_40nodes_1000epoch_0.01_-5\", NN_transformer_y, transformer_y),\n",
    "                                    input_transform=transformer_x,\n",
    "                                    outcome_transform=transformer_y)\n",
    "# model.covar_module.base_kernel.lengthscale = 0.1\n",
    "mll = gpytorch.mlls.ExactMarginalLogLikelihood(model.likelihood, model)\n",
    "botorch.fit.fit_gpytorch_model(mll)\n",
    "\n",
    "for name, val in mll.named_parameters():\n",
    "    print(name, val.requires_grad)\n",
    "\n",
    "const.likelihood.noise_covar.noise = torch.tensor(1e-4)\n",
    "model.likelihood.noise_covar.noise = torch.tensor(1e-4)"
   ],
   "outputs": [
    {
     "output_type": "stream",
     "name": "stdout",
     "text": [
      "likelihood.noise_covar.raw_noise True\n",
      "model.mean_module.NN_model.network.0.weight True\n",
      "model.mean_module.NN_model.network.0.bias True\n",
      "model.mean_module.NN_model.network.2.weight True\n",
      "model.mean_module.NN_model.network.2.bias True\n",
      "model.mean_module.NN_model.network.4.weight True\n",
      "model.mean_module.NN_model.network.4.bias True\n",
      "model.mean_module.NN_model.network.6.weight True\n",
      "model.mean_module.NN_model.network.6.bias True\n",
      "model.mean_module.NN_model.network.8.weight True\n",
      "model.mean_module.NN_model.network.8.bias True\n",
      "model.mean_module.NN_model.network.10.weight True\n",
      "model.mean_module.NN_model.network.10.bias True\n",
      "model.covar_module.raw_outputscale True\n",
      "model.covar_module.base_kernel.raw_lengthscale True\n"
     ]
    }
   ],
   "metadata": {}
  },
  {
   "cell_type": "markdown",
   "source": [
    "### plot GP in 1D"
   ],
   "metadata": {}
  },
  {
   "cell_type": "code",
   "execution_count": 124,
   "source": [
    "transformer_x.eval()\n",
    "\n",
    "n_test = 100\n",
    "test_x = scan_ref_point.repeat(n_test, 1)\n",
    "test_x[:,test_param] = torch.linspace(bounds[test_param,0],bounds[test_param,1],n_test)\n",
    "#print(test_x)\n",
    "\n",
    "model.eval()\n",
    "with torch.no_grad():\n",
    "    real_post = model.posterior(test_x)\n",
    "    real_mean = real_post.mean\n",
    "    lower,upper = real_post.mvn.confidence_region()\n",
    "    \n",
    "    real_post1 = const.posterior(test_x)\n",
    "    real_mean1 = real_post1.mean\n",
    "    lower1,upper1 = real_post1.mvn.confidence_region()\n",
    "\n",
    "NN_model = NN_prior()\n",
    "NN_model.load_state_dict(torch.load('./results/model5_4hidden_40nodes_1000epoch_0.01_-5.pth'))\n",
    "\n",
    "normed_prior_test_y = NN_model(transformer_x(test_x).float())\n",
    "prior_test_y = NN_transformer_y.untransform(normed_prior_test_y)\n",
    "#print(prior_test_y)\n",
    "#print(transformer_y(prior_test_y)[0])\n",
    "model_test_y = torch.as_tensor([evaluate(ele) for ele in test_x])\n",
    "                               \n",
    "\n",
    "fig,ax = plt.subplots()\n",
    "fig.suptitle('GP w/ original lengthscale', fontsize=12)\n",
    "\n",
    "ax.set_xlabel(opt_var_names[test_param] + ' (kG)', fontsize=10)\n",
    "ax.set_ylabel('emittance*bmag (mm-mrad)', fontsize=10)\n",
    "\n",
    "ax.plot(test_x[:,test_param], real_mean.flatten(), label = \"GP curve\")\n",
    "# ax.plot(test_x[:,test_param], real_mean1.flatten(), label = \"constant mean\")\n",
    "ax.plot(test_x[:,test_param], prior_test_y.detach().numpy(), label = \"NN prior mean\")\n",
    "ax.plot(test_x[:,test_param], model_test_y.detach().numpy(), label = \"surrogate model (ground truth)\")\n",
    "ax.plot(train_x[:,test_param], train_y, \"+\")\n",
    "\n",
    "ax.fill_between(test_x[:,test_param],lower.flatten(),upper.flatten(),alpha = 0.5)\n",
    "#ax.fill_between(test_x[:,test_param],lower1.flatten(),upper1.flatten(),alpha = 0.5)\n",
    "ax.legend()"
   ],
   "outputs": [
    {
     "output_type": "execute_result",
     "data": {
      "text/plain": [
       "<matplotlib.legend.Legend at 0x7f8b64f49af0>"
      ]
     },
     "metadata": {},
     "execution_count": 124
    },
    {
     "output_type": "display_data",
     "data": {
      "image/png": "[encoded data removed]",
      "text/plain": [
       "<Figure size 432x288 with 1 Axes>"
      ]
     },
     "metadata": {
      "needs_background": "light"
     }
    }
   ],
   "metadata": {}
  },
  {
   "cell_type": "code",
   "execution_count": null,
   "source": [],
   "outputs": [],
   "metadata": {}
  },
  {
   "cell_type": "code",
   "execution_count": null,
   "source": [],
   "outputs": [],
   "metadata": {}
  },
  {
   "cell_type": "code",
   "execution_count": null,
   "source": [],
   "outputs": [],
   "metadata": {}
  }
 ],
 "metadata": {
  "kernelspec": {
   "name": "python3",
   "display_name": "Python 3.8.13 64-bit ('baxenv': conda)"
  },
  "language_info": {
   "codemirror_mode": {
    "name": "ipython",
    "version": 3
   },
   "file_extension": ".py",
   "mimetype": "text/x-python",
   "name": "python",
   "nbconvert_exporter": "python",
   "pygments_lexer": "ipython3",
   "version": "3.8.13"
  },
  "interpreter": {
   "hash": "1b5f70a3ad72b4c9068574509e3a0dfc0f3358b3c11cb6bf99f482c84ce18336"
  }
 },
 "nbformat": 4,
 "nbformat_minor": 5
}