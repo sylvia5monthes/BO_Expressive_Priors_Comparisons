{
 "cells": [
  {
   "cell_type": "code",
   "execution_count": 1,
   "id": "68246fa7",
   "metadata": {},
   "outputs": [],
   "source": [
    "import sklearn\n",
    "\n",
    "#NN Surrogate model class\n",
    "from injector_surrogate_quads import *\n",
    "\n",
    "sys.path.append('../configs')\n",
    "#Sim reference point to optimize around\n",
    "from ref_config import ref_point\n",
    "\n",
    "#BO\n",
    "from bayes_opt import BayesianOptimization"
   ]
  },
  {
   "cell_type": "markdown",
   "id": "5f4446ff",
   "metadata": {},
   "source": [
    "# Load injector model"
   ]
  },
  {
   "cell_type": "code",
   "execution_count": 2,
   "id": "8ffd05e1",
   "metadata": {},
   "outputs": [],
   "source": [
    "Model = Surrogate_NN()\n",
    "\n",
    "Model.load_saved_model(model_path = '../models/', \\\n",
    "                       model_name = 'model_OTR2_NA_rms_emit_elu_2021-07-27T19_54_57-07_00')\n",
    "Model.load_scaling()\n",
    "Model.take_log_out = False"
   ]
  },
  {
   "cell_type": "markdown",
   "id": "3f85f4e2",
   "metadata": {},
   "source": [
    "# Set up sampling and objectives"
   ]
  },
  {
   "cell_type": "code",
   "execution_count": 3,
   "id": "54f7b25a",
   "metadata": {},
   "outputs": [],
   "source": [
    "#convert to machine units\n",
    "ref_point = Model.sim_to_machine(np.asarray(ref_point))\n",
    "\n",
    "#input params: solenoid and quads to vary \n",
    "opt_var_names = ['SOL1:solenoid_field_scale', 'SQ01:b1_gradient']#,'CQ01:b1_gradient'] \n",
    "\n",
    "#output params: emittance in transverse plane (x & y)\n",
    "opt_out_names = ['norm_emit_x','norm_emit_y']\n",
    "\n",
    "def evaluate(varx,vary):#,varz): \n",
    "\n",
    "    #make input array of length model_in_list (inputs model takes)\n",
    "    x_in = np.empty((1,len(Model.model_in_list)))\n",
    "\n",
    "    #fill in reference point around which to optimize\n",
    "    x_in[:,:] = np.asarray(ref_point[0])\n",
    "\n",
    "    #set solenoid, SQ, CQ to values from optimization step\n",
    "    x_in[:, Model.loc_in[opt_var_names[0]]] = varx\n",
    "    x_in[:, Model.loc_in[opt_var_names[1]]] = vary\n",
    "    #x_in[:, Model.loc_in[opt_var_names[2]]] = varz\n",
    "\n",
    "    #output predictions\n",
    "    y_out = Model.pred_machine_units(x_in) \n",
    "\n",
    "    return -1*objective(y_out)[0]\n",
    "\n",
    "\n",
    "def objective(y_out):\n",
    "    \n",
    "    #output is geometric emittance in transverse plane\n",
    "    out1 = y_out[:,Model.loc_out['norm_emit_x']] #grab norm_emit_x out of the model\n",
    "    out2 = y_out[:,Model.loc_out['norm_emit_y']] #grab norm_emit_y out of the model\n",
    "       \n",
    "    return np.sqrt(out1*out2)/1e-6 # in um units"
   ]
  },
  {
   "cell_type": "markdown",
   "id": "ab6c0b6d",
   "metadata": {},
   "source": [
    "# Simple BO"
   ]
  },
  {
   "cell_type": "code",
   "execution_count": 4,
   "id": "e08ff77f",
   "metadata": {},
   "outputs": [
    {
     "name": "stdout",
     "output_type": "stream",
     "text": [
      "|   iter    |  target   |   varx    |   vary    |\n",
      "-------------------------------------------------\n",
      "| \u001b[0m 1       \u001b[0m | \u001b[0m-0.7367  \u001b[0m | \u001b[0m 0.4842  \u001b[0m | \u001b[0m 0.01102 \u001b[0m |\n",
      "| \u001b[0m 2       \u001b[0m | \u001b[0m-2.08    \u001b[0m | \u001b[0m 0.43    \u001b[0m | \u001b[0m-0.009883\u001b[0m |\n",
      "| \u001b[0m 3       \u001b[0m | \u001b[0m-1.902   \u001b[0m | \u001b[0m 0.4491  \u001b[0m | \u001b[0m-0.02038 \u001b[0m |\n",
      "| \u001b[0m 4       \u001b[0m | \u001b[0m-1.423   \u001b[0m | \u001b[0m 0.4542  \u001b[0m | \u001b[0m-0.007722\u001b[0m |\n",
      "| \u001b[95m 5       \u001b[0m | \u001b[95m-0.59    \u001b[0m | \u001b[95m 0.4816  \u001b[0m | \u001b[95m 0.001941\u001b[0m |\n",
      "| \u001b[0m 6       \u001b[0m | \u001b[0m-3.108   \u001b[0m | \u001b[0m 0.5131  \u001b[0m | \u001b[0m-0.01694 \u001b[0m |\n",
      "| \u001b[0m 7       \u001b[0m | \u001b[0m-0.5999  \u001b[0m | \u001b[0m 0.482   \u001b[0m | \u001b[0m 0.000813\u001b[0m |\n",
      "| \u001b[0m 8       \u001b[0m | \u001b[0m-6.045   \u001b[0m | \u001b[0m 0.56    \u001b[0m | \u001b[0m 0.025   \u001b[0m |\n",
      "| \u001b[0m 9       \u001b[0m | \u001b[0m-2.423   \u001b[0m | \u001b[0m 0.43    \u001b[0m | \u001b[0m 0.025   \u001b[0m |\n",
      "| \u001b[0m 10      \u001b[0m | \u001b[0m-1.145   \u001b[0m | \u001b[0m 0.4688  \u001b[0m | \u001b[0m 0.025   \u001b[0m |\n",
      "| \u001b[0m 11      \u001b[0m | \u001b[0m-0.6113  \u001b[0m | \u001b[0m 0.4745  \u001b[0m | \u001b[0m-0.005768\u001b[0m |\n",
      "| \u001b[0m 12      \u001b[0m | \u001b[0m-0.6383  \u001b[0m | \u001b[0m 0.4725  \u001b[0m | \u001b[0m 0.005646\u001b[0m |\n",
      "| \u001b[0m 13      \u001b[0m | \u001b[0m-1.07    \u001b[0m | \u001b[0m 0.4797  \u001b[0m | \u001b[0m-0.025   \u001b[0m |\n",
      "| \u001b[0m 14      \u001b[0m | \u001b[0m-2.089   \u001b[0m | \u001b[0m 0.5019  \u001b[0m | \u001b[0m 0.0101  \u001b[0m |\n",
      "| \u001b[0m 15      \u001b[0m | \u001b[0m-0.7401  \u001b[0m | \u001b[0m 0.4843  \u001b[0m | \u001b[0m 0.01097 \u001b[0m |\n",
      "| \u001b[95m 16      \u001b[0m | \u001b[95m-0.5617  \u001b[0m | \u001b[95m 0.4771  \u001b[0m | \u001b[95m 0.000200\u001b[0m |\n",
      "| \u001b[0m 17      \u001b[0m | \u001b[0m-0.565   \u001b[0m | \u001b[0m 0.4777  \u001b[0m | \u001b[0m 0.005558\u001b[0m |\n",
      "| \u001b[0m 18      \u001b[0m | \u001b[0m-0.5733  \u001b[0m | \u001b[0m 0.4787  \u001b[0m | \u001b[0m-0.003802\u001b[0m |\n",
      "| \u001b[95m 19      \u001b[0m | \u001b[95m-0.5595  \u001b[0m | \u001b[95m 0.4782  \u001b[0m | \u001b[95m 0.00206 \u001b[0m |\n",
      "| \u001b[0m 20      \u001b[0m | \u001b[0m-0.56    \u001b[0m | \u001b[0m 0.478   \u001b[0m | \u001b[0m 0.00293 \u001b[0m |\n",
      "| \u001b[0m 21      \u001b[0m | \u001b[0m-0.5595  \u001b[0m | \u001b[0m 0.4783  \u001b[0m | \u001b[0m 0.000862\u001b[0m |\n",
      "| \u001b[0m 22      \u001b[0m | \u001b[0m-0.5602  \u001b[0m | \u001b[0m 0.4782  \u001b[0m | \u001b[0m-0.000174\u001b[0m |\n",
      "| \u001b[95m 23      \u001b[0m | \u001b[95m-0.5595  \u001b[0m | \u001b[95m 0.4778  \u001b[0m | \u001b[95m 0.001623\u001b[0m |\n",
      "| \u001b[0m 24      \u001b[0m | \u001b[0m-0.5595  \u001b[0m | \u001b[0m 0.4783  \u001b[0m | \u001b[0m 0.001996\u001b[0m |\n",
      "| \u001b[0m 25      \u001b[0m | \u001b[0m-0.5596  \u001b[0m | \u001b[0m 0.478   \u001b[0m | \u001b[0m 0.002374\u001b[0m |\n",
      "| \u001b[0m 26      \u001b[0m | \u001b[0m-0.5596  \u001b[0m | \u001b[0m 0.4785  \u001b[0m | \u001b[0m 0.001377\u001b[0m |\n",
      "| \u001b[0m 27      \u001b[0m | \u001b[0m-0.5599  \u001b[0m | \u001b[0m 0.4783  \u001b[0m | \u001b[0m 0.000232\u001b[0m |\n",
      "| \u001b[0m 28      \u001b[0m | \u001b[0m-0.5595  \u001b[0m | \u001b[0m 0.4782  \u001b[0m | \u001b[0m 0.002098\u001b[0m |\n",
      "| \u001b[0m 29      \u001b[0m | \u001b[0m-0.5598  \u001b[0m | \u001b[0m 0.4781  \u001b[0m | \u001b[0m 0.002632\u001b[0m |\n",
      "| \u001b[0m 30      \u001b[0m | \u001b[0m-0.5596  \u001b[0m | \u001b[0m 0.4784  \u001b[0m | \u001b[0m 0.001253\u001b[0m |\n",
      "| \u001b[0m 31      \u001b[0m | \u001b[0m-0.5596  \u001b[0m | \u001b[0m 0.4777  \u001b[0m | \u001b[0m 0.001669\u001b[0m |\n",
      "| \u001b[95m 32      \u001b[0m | \u001b[95m-0.5594  \u001b[0m | \u001b[95m 0.4781  \u001b[0m | \u001b[95m 0.000735\u001b[0m |\n",
      "| \u001b[0m 33      \u001b[0m | \u001b[0m-0.5603  \u001b[0m | \u001b[0m 0.4783  \u001b[0m | \u001b[0m 0.003014\u001b[0m |\n",
      "| \u001b[0m 34      \u001b[0m | \u001b[0m-0.5595  \u001b[0m | \u001b[0m 0.4783  \u001b[0m | \u001b[0m 0.000728\u001b[0m |\n",
      "| \u001b[0m 35      \u001b[0m | \u001b[0m-0.5594  \u001b[0m | \u001b[0m 0.4779  \u001b[0m | \u001b[0m 0.000989\u001b[0m |\n",
      "| \u001b[0m 36      \u001b[0m | \u001b[0m-0.5595  \u001b[0m | \u001b[0m 0.4778  \u001b[0m | \u001b[0m 0.00158 \u001b[0m |\n",
      "| \u001b[95m 37      \u001b[0m | \u001b[95m-0.5593  \u001b[0m | \u001b[95m 0.4782  \u001b[0m | \u001b[95m 0.00128 \u001b[0m |\n",
      "| \u001b[0m 38      \u001b[0m | \u001b[0m-0.5594  \u001b[0m | \u001b[0m 0.4782  \u001b[0m | \u001b[0m 0.001832\u001b[0m |\n",
      "| \u001b[95m 39      \u001b[0m | \u001b[95m-0.5593  \u001b[0m | \u001b[95m 0.4781  \u001b[0m | \u001b[95m 0.001116\u001b[0m |\n",
      "| \u001b[0m 40      \u001b[0m | \u001b[0m-0.5596  \u001b[0m | \u001b[0m 0.4782  \u001b[0m | \u001b[0m 0.000433\u001b[0m |\n",
      "| \u001b[0m 41      \u001b[0m | \u001b[0m-0.5594  \u001b[0m | \u001b[0m 0.478   \u001b[0m | \u001b[0m 0.001726\u001b[0m |\n",
      "| \u001b[0m 42      \u001b[0m | \u001b[0m-0.5596  \u001b[0m | \u001b[0m 0.4784  \u001b[0m | \u001b[0m 0.001265\u001b[0m |\n",
      "| \u001b[0m 43      \u001b[0m | \u001b[0m-0.5596  \u001b[0m | \u001b[0m 0.4777  \u001b[0m | \u001b[0m 0.001282\u001b[0m |\n",
      "| \u001b[95m 44      \u001b[0m | \u001b[95m-0.5593  \u001b[0m | \u001b[95m 0.4781  \u001b[0m | \u001b[95m 0.001316\u001b[0m |\n",
      "| \u001b[0m 45      \u001b[0m | \u001b[0m-0.5599  \u001b[0m | \u001b[0m 0.4781  \u001b[0m | \u001b[0m 7.457e-0\u001b[0m |\n",
      "=================================================\n"
     ]
    }
   ],
   "source": [
    "# bounds on input params \n",
    "pbounds = {'varx': (0.43, 0.56),\n",
    "           'vary': (-0.025, 0.025),\n",
    "           #'varz': (-0.02, 0.02)\n",
    "          }\n",
    "\n",
    "optimizer = BayesianOptimization(\n",
    "    f = evaluate,\n",
    "    pbounds = pbounds,\n",
    "    random_state = 1,\n",
    ")\n",
    "\n",
    "optimizer.maximize(\n",
    "    init_points=5,\n",
    "    n_iter=40,\n",
    ")"
   ]
  },
  {
   "cell_type": "markdown",
   "id": "0fefaf55",
   "metadata": {},
   "source": [
    "## Results from simple BO"
   ]
  },
  {
   "cell_type": "code",
   "execution_count": 7,
   "id": "1574eea8",
   "metadata": {},
   "outputs": [
    {
     "name": "stdout",
     "output_type": "stream",
     "text": [
      "optimum (pv_units)  0.47737014691426854 -0.0004981337721706551 0.0004994750148957644\n",
      "optimum geom emit  0.5750189423561096\n"
     ]
    }
   ],
   "source": [
    "SOL_opt = optimizer.max['params']['varx'] # solenoid val at optimum\n",
    "CQ_opt = optimizer.max['params']['vary'] # CQ val at optimum\n",
    "SQ_opt = optimizer.max['params']['varz'] # SQ val at optimum\n",
    "\n",
    "opt_emit = -1*optimizer.max['target'] # emittance value at optimum (in um)\n",
    "\n",
    "print('optimum (pv_units) ',SOL_opt, CQ_opt, SQ_opt)\n",
    "print('optimum geom emit ', opt_emit)"
   ]
  }
 ],
 "metadata": {
  "kernelspec": {
   "display_name": "Python 3",
   "language": "python",
   "name": "python3"
  },
  "language_info": {
   "codemirror_mode": {
    "name": "ipython",
    "version": 3
   },
   "file_extension": ".py",
   "mimetype": "text/x-python",
   "name": "python",
   "nbconvert_exporter": "python",
   "pygments_lexer": "ipython3",
   "version": "3.7.11"
  }
 },
 "nbformat": 4,
 "nbformat_minor": 5
}
