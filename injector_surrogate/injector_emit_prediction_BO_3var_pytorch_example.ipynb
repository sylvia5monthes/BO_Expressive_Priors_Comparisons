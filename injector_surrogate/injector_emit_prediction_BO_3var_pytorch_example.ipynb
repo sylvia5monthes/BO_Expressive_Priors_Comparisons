{
 "cells": [
  {
   "cell_type": "code",
   "execution_count": 1,
   "source": [
    "#NN Surrogate model class\n",
    "from injector_surrogate_quads import *\n",
    "import physics_gp\n",
    "\n",
    "sys.path.append('../configs')\n",
    "#Sim reference point to optimize around\n",
    "from ref_config import ref_point\n",
    "\n",
    "#Pytorch \n",
    "import numpy as np\n",
    "import torch\n",
    "import gpytorch\n",
    "import botorch "
   ],
   "outputs": [
    {
     "output_type": "stream",
     "name": "stderr",
     "text": [
      "/Users/conniexu/opt/anaconda3/envs/baxenv/lib/python3.8/site-packages/tqdm/auto.py:22: TqdmWarning: IProgress not found. Please update jupyter and ipywidgets. See https://ipywidgets.readthedocs.io/en/stable/user_install.html\n",
      "  from .autonotebook import tqdm as notebook_tqdm\n"
     ]
    }
   ],
   "metadata": {}
  },
  {
   "cell_type": "markdown",
   "source": [
    "# BO for Minimizing Emittance with 3 Variables (SQ, CQ, SOL)"
   ],
   "metadata": {}
  },
  {
   "cell_type": "code",
   "execution_count": 2,
   "source": [
    "#load injector model\n",
    "\n",
    "### original tf/keras model ###\n",
    "# Model = Surrogate_NN()\n",
    "\n",
    "# Model.load_saved_model(model_path = '../models/', \\\n",
    "#                        model_name = 'model_OTR2_NA_rms_emit_elu_2021-07-27T19_54_57-07_00')\n",
    "# Model.load_scaling()\n",
    "# Model.take_log_out = False\n",
    "\n",
    "### pytorch model ### \n",
    "Model = Surrogate_NN(pytorch=True)\n",
    "\n",
    "Model.load_saved_model(model_path = '../models/', \n",
    "                       model_name = 'Injector_Surrogate_NN_PyTorch')\n",
    "\n",
    "Model.load_scaling(scalerfilex = '../data/transformer_x_pytorch.pth', \n",
    "                   scalerfiley = '../data/transformer_y_pytorch.pth')\n",
    "Model.take_log_out = False"
   ],
   "outputs": [],
   "metadata": {}
  },
  {
   "cell_type": "markdown",
   "source": [
    "## Objective Function"
   ],
   "metadata": {}
  },
  {
   "cell_type": "code",
   "execution_count": 3,
   "source": [
    "#convert to machine units\n",
    "ref_point = Model.sim_to_machine(np.asarray(ref_point))\n",
    "\n",
    "#input params: solenoid and quads to vary \n",
    "opt_var_names = ['SOL1:solenoid_field_scale','SQ01:b1_gradient','CQ01:b1_gradient']\n",
    "#input bounds\n",
    "bounds = torch.tensor([[0.44, 0.55],[-0.02, 0.02], [-0.02, 0.02]])\n",
    "\n",
    "#output params: emittance in transverse plane (x & y)\n",
    "opt_out_names = ['norm_emit_x','norm_emit_y']"
   ],
   "outputs": [],
   "metadata": {}
  },
  {
   "cell_type": "code",
   "execution_count": 4,
   "source": [
    "# changed all np functions to torch for pytorch model\n",
    "def evaluate(config): \n",
    "    \"\"\"\n",
    "    D is input space dimensionality\n",
    "    N is number of sample points\n",
    "    :param config: input values of opt_var_names, torch.tensor, shape (N, D) \n",
    "    returns (1, N) \n",
    "    \"\"\"\n",
    "    N = config.shape[0]\n",
    "    D = config.shape[1]\n",
    "    \n",
    "    # make input array of length model_in_list (inputs model takes)\n",
    "    x_in = torch.empty((N,len(Model.model_in_list)))\n",
    "    \n",
    "    # fill in reference point around which to optimize\n",
    "    x_in[:,:] = torch.tensor(ref_point[0])\n",
    "\n",
    "    #set solenoid, CQ, SQ, matching quads to values from optimization step\n",
    "    col = []\n",
    "    for i in range(D):\n",
    "        col.append(Model.loc_in[opt_var_names[i]]) #should make col a flat list of indices, e.g. [4, 6, 7]\n",
    "    x_in[:, col] = config[:,:] \n",
    "    \n",
    "    #output predictions\n",
    "    y_out = Model.pred_machine_units(x_in)\n",
    "\n",
    "    return -1*objective(y_out)\n",
    "\n",
    "def objective(y_out):\n",
    "    \n",
    "    #output is geometric emittance in transverse plane\n",
    "    out1 = y_out[:,Model.loc_out['norm_emit_x']] #grab norm_emit_x out of the model\n",
    "    out2 = y_out[:,Model.loc_out['norm_emit_y']] #grab norm_emit_y out of the model\n",
    "    \n",
    "    return (torch.sqrt(out1*out2)/1e-6).reshape(-1,1) # in um units"
   ],
   "outputs": [],
   "metadata": {}
  },
  {
   "cell_type": "markdown",
   "source": [
    "## Gaussian Regression & Acquisition Function"
   ],
   "metadata": {}
  },
  {
   "cell_type": "code",
   "execution_count": 5,
   "source": [
    "def get_BO_point(x, f, bounds, beta=2.0, input_transform=None, outcome_transform=None, precision = None):\n",
    "    \"\"\"\n",
    "    function that trains a GP model of data and returns the next observation point using UCB\n",
    "    D is input space dimensionality\n",
    "    N is number of samples\n",
    "\n",
    "    :param x: input points data, torch.tensor, shape (N,D)\n",
    "    :param f: output point data, torch.tensor, shape (N,1)\n",
    "    :param bounds: input space bounds, torch.tensor, shape (2,D)\n",
    "    :param precision: precision matrix used for RBF kernel (must be PSD), torch.tensor, (D,D)\n",
    "    :param beta: UCB optimization parameter, float\n",
    "    :return x_candidate, model: next observation point and gp model w/observations\n",
    "    \"\"\"\n",
    "    \n",
    "    gp = botorch.models.SingleTaskGP(x, f, \n",
    "                                     outcome_transform=outcome_transform, \n",
    "                                     input_transform=input_transform)\n",
    "        \n",
    "    mll = gpytorch.mlls.ExactMarginalLogLikelihood(gp.likelihood, gp)\n",
    "    \n",
    "    # fit GP hyperparameters\n",
    "    botorch.fit.fit_gpytorch_model(mll)\n",
    "\n",
    "    # do UCB acquisition\n",
    "    UCB = botorch.acquisition.UpperConfidenceBound(gp, beta=beta)\n",
    "    candidate, acq_value = botorch.optim.optimize_acqf(UCB,\n",
    "                                                       bounds=bounds,\n",
    "                                                       q=1,\n",
    "                                                       num_restarts=20,\n",
    "                                                       raw_samples=20)\n",
    "    return candidate, gp"
   ],
   "outputs": [],
   "metadata": {}
  },
  {
   "cell_type": "markdown",
   "source": [
    "## Set up initial training samples"
   ],
   "metadata": {}
  },
  {
   "cell_type": "code",
   "execution_count": 6,
   "source": [
    "#create initial samples within specified bounds\n",
    "n_samples = 5\n",
    "n_var = 3\n",
    "\n",
    "train_x = torch.zeros((n_samples, n_var)) \n",
    "for i in range(n_var):\n",
    "    train_x[:,i] = torch.tensor(np.random.uniform(bounds[i,0],bounds[i,1],(n_samples,)))\n",
    "print(train_x)\n",
    "\n",
    "train_y = evaluate(train_x).detach()\n",
    "print(train_y)\n",
    "\n",
    "# transformer \n",
    "transformer_x = botorch.models.transforms.input.Normalize(n_var, bounds = bounds.transpose(0,1))\n",
    "transformer_y = botorch.models.transforms.outcome.Standardize(1)\n",
    "\n",
    "normed_bounds = torch.cat((torch.zeros(1,n_var), torch.ones(1,n_var)), 0)"
   ],
   "outputs": [
    {
     "output_type": "stream",
     "name": "stdout",
     "text": [
      "tensor([[ 0.5210, -0.0117, -0.0110],\n",
      "        [ 0.4651,  0.0101, -0.0072],\n",
      "        [ 0.4746, -0.0103,  0.0101],\n",
      "        [ 0.4621,  0.0106, -0.0025],\n",
      "        [ 0.5242,  0.0092, -0.0110]])\n",
      "tensor([[-3.8503],\n",
      "        [-0.8745],\n",
      "        [-0.6551],\n",
      "        [-1.0438],\n",
      "        [-3.7632]])\n"
     ]
    }
   ],
   "metadata": {}
  },
  {
   "cell_type": "markdown",
   "source": [
    "## Bayesian Optimization"
   ],
   "metadata": {}
  },
  {
   "cell_type": "code",
   "execution_count": 7,
   "source": [
    "n_steps = 30\n",
    "best_y = torch.max(train_y)\n",
    "\n",
    "for i in range(n_steps):  \n",
    "    x_new, model = get_BO_point(train_x, train_y, \n",
    "                                bounds=bounds.transpose(0,1), \n",
    "                                input_transform=transformer_x, \n",
    "                                outcome_transform=transformer_y)\n",
    "\n",
    "    train_x = torch.cat((train_x, x_new))\n",
    "    new_y = evaluate(train_x[-1].reshape(1,-1)).detach()\n",
    "    train_y = torch.cat((train_y, new_y))\n",
    "    \n",
    "    if (new_y > best_y):\n",
    "        best_y = new_y\n",
    "        color = '\\033[95m', '\\033[0m'\n",
    "    else: \n",
    "        color = '\\u001b[30m', '\\033[0m'\n",
    "    \n",
    "    print(\"iteration        target         SOL          SQ          CQ\")\n",
    "    print(f'{color[0]}{i+1}              {train_y[-1,0]:.5f}     {train_x[-1,0]:.5f}     {train_x[-1,1]:.5f}     {train_x[-1,2]:.5f}{color[1]}')"
   ],
   "outputs": [
    {
     "output_type": "stream",
     "name": "stdout",
     "text": [
      "iteration        target         SOL          SQ          CQ\n",
      "\u001b[30m1              -1.50836     0.45544     -0.01134     -0.00276\u001b[0m\n",
      "iteration        target         SOL          SQ          CQ\n",
      "\u001b[30m2              -1.12044     0.46973     0.00033     0.02000\u001b[0m\n",
      "iteration        target         SOL          SQ          CQ\n",
      "\u001b[30m3              -0.79654     0.47409     -0.02000     0.02000\u001b[0m\n",
      "iteration        target         SOL          SQ          CQ\n",
      "\u001b[95m4              -0.56327     0.47862     0.00444     -0.00119\u001b[0m\n",
      "iteration        target         SOL          SQ          CQ\n",
      "\u001b[30m5              -0.76622     0.47691     -0.01047     -0.00961\u001b[0m\n",
      "iteration        target         SOL          SQ          CQ\n",
      "\u001b[30m6              -0.96600     0.48518     -0.01060     0.01358\u001b[0m\n",
      "iteration        target         SOL          SQ          CQ\n",
      "\u001b[30m7              -0.67562     0.47787     0.02000     -0.01253\u001b[0m\n",
      "iteration        target         SOL          SQ          CQ\n",
      "\u001b[30m8              -0.62006     0.47622     0.00656     -0.01157\u001b[0m\n",
      "iteration        target         SOL          SQ          CQ\n",
      "\u001b[30m9              -0.79119     0.47115     0.02000     -0.02000\u001b[0m\n",
      "iteration        target         SOL          SQ          CQ\n",
      "\u001b[30m10              -0.70227     0.47493     0.01618     -0.00146\u001b[0m\n",
      "iteration        target         SOL          SQ          CQ\n",
      "\u001b[30m11              -0.58296     0.47492     -0.00091     -0.00125\u001b[0m\n",
      "iteration        target         SOL          SQ          CQ\n",
      "\u001b[30m12              -0.56827     0.47846     -0.00466     0.00122\u001b[0m\n",
      "iteration        target         SOL          SQ          CQ\n",
      "\u001b[30m13              -0.56506     0.47866     0.00209     -0.00407\u001b[0m\n",
      "iteration        target         SOL          SQ          CQ\n",
      "\u001b[95m14              -0.55944     0.47768     0.00023     0.00087\u001b[0m\n",
      "iteration        target         SOL          SQ          CQ\n",
      "\u001b[30m15              -0.56301     0.47718     0.00262     -0.00289\u001b[0m\n",
      "iteration        target         SOL          SQ          CQ\n",
      "\u001b[30m16              -0.55970     0.47773     -0.00045     -0.00075\u001b[0m\n",
      "iteration        target         SOL          SQ          CQ\n",
      "\u001b[95m17              -0.55932     0.47777     0.00003     -0.00078\u001b[0m\n",
      "iteration        target         SOL          SQ          CQ\n",
      "\u001b[30m18              -1.77807     0.44000     0.02000     -0.02000\u001b[0m\n",
      "iteration        target         SOL          SQ          CQ\n",
      "\u001b[30m19              -0.56675     0.47842     0.00572     -0.00418\u001b[0m\n",
      "iteration        target         SOL          SQ          CQ\n",
      "\u001b[95m20              -0.55921     0.47766     0.00035     0.00040\u001b[0m\n",
      "iteration        target         SOL          SQ          CQ\n",
      "\u001b[30m21              -0.56105     0.47757     0.00075     -0.00224\u001b[0m\n",
      "iteration        target         SOL          SQ          CQ\n",
      "\u001b[30m22              -0.56281     0.47711     0.00280     -0.00249\u001b[0m\n",
      "iteration        target         SOL          SQ          CQ\n",
      "\u001b[30m23              -0.55997     0.47843     -0.00001     -0.00128\u001b[0m\n",
      "iteration        target         SOL          SQ          CQ\n",
      "\u001b[30m24              -2.64772     0.44000     0.02000     0.02000\u001b[0m\n",
      "iteration        target         SOL          SQ          CQ\n",
      "\u001b[30m25              -0.55952     0.47772     0.00005     0.00104\u001b[0m\n",
      "iteration        target         SOL          SQ          CQ\n",
      "\u001b[30m26              -1.13941     0.48699     0.01416     -0.02000\u001b[0m\n",
      "iteration        target         SOL          SQ          CQ\n",
      "\u001b[30m27              -0.76744     0.47576     -0.02000     0.00504\u001b[0m\n",
      "iteration        target         SOL          SQ          CQ\n",
      "\u001b[30m28              -0.56076     0.47753     -0.00038     -0.00136\u001b[0m\n",
      "iteration        target         SOL          SQ          CQ\n",
      "\u001b[30m29              -0.55970     0.47779     -0.00030     0.00131\u001b[0m\n",
      "iteration        target         SOL          SQ          CQ\n",
      "\u001b[30m30              -1.63408     0.48665     0.02000     0.01358\u001b[0m\n"
     ]
    }
   ],
   "metadata": {}
  },
  {
   "cell_type": "code",
   "execution_count": null,
   "source": [],
   "outputs": [],
   "metadata": {}
  }
 ],
 "metadata": {
  "kernelspec": {
   "name": "python3",
   "display_name": "Python 3.8.13 64-bit ('baxenv': conda)"
  },
  "language_info": {
   "codemirror_mode": {
    "name": "ipython",
    "version": 3
   },
   "file_extension": ".py",
   "mimetype": "text/x-python",
   "name": "python",
   "nbconvert_exporter": "python",
   "pygments_lexer": "ipython3",
   "version": "3.8.13"
  },
  "interpreter": {
   "hash": "1b5f70a3ad72b4c9068574509e3a0dfc0f3358b3c11cb6bf99f482c84ce18336"
  }
 },
 "nbformat": 4,
 "nbformat_minor": 5
}