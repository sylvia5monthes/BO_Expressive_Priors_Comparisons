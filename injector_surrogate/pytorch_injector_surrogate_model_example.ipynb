{
 "cells": [
  {
   "cell_type": "code",
   "execution_count": 1,
   "source": [
    "from injector_surrogate_quads import Surrogate_NN\n",
    "from pytorch_injector_surrogate_model import *\n",
    "import numpy as np\n",
    "import torch\n",
    "import torch.nn as nn\n",
    "\n",
    "import sys,os\n",
    "sys.path.append('../configs')\n",
    "#Sim reference point to optimize around\n",
    "from ref_config import ref_point"
   ],
   "outputs": [
    {
     "output_type": "stream",
     "name": "stderr",
     "text": [
      "/Users/conniexu/opt/anaconda3/envs/baxenv/lib/python3.8/site-packages/tqdm/auto.py:22: TqdmWarning: IProgress not found. Please update jupyter and ipywidgets. See https://ipywidgets.readthedocs.io/en/stable/user_install.html\n",
      "  from .autonotebook import tqdm as notebook_tqdm\n"
     ]
    }
   ],
   "metadata": {}
  },
  {
   "cell_type": "markdown",
   "source": [
    "# Pytorch Injector Surrogate Model Example"
   ],
   "metadata": {}
  },
  {
   "cell_type": "markdown",
   "source": [
    "### This notebook shows how to create and use Pytorch versions of the original Keras/Tf injector surrogate model. "
   ],
   "metadata": {}
  },
  {
   "cell_type": "code",
   "execution_count": 2,
   "source": [
    "# load keras/tf injector model\n",
    "Model = Surrogate_NN()\n",
    "\n",
    "Model.load_saved_model(model_path = '../models/', \\\n",
    "                       model_name = 'model_OTR2_NA_rms_emit_elu_2021-07-27T19_54_57-07_00')\n",
    "Model.load_scaling()\n",
    "Model.take_log_out = False\n",
    "\n",
    "# print(Model.model_1.summary())\n",
    "\n",
    "### direct creation of pytorch model ###\n",
    "test_model = Injector_Surrogate_NN_PyTorch(Model)\n",
    "test_model.eval()\n",
    "\n",
    "model_name = 'Injector_Surrogate_NN_PyTorch'\n",
    "model_path = '../models/' + model_name + '.pth'\n",
    "if os.path.exists(model_path) == False or os.stat(model_path).st_size <= 0: \n",
    "    print(f\"saving {model_name}\")\n",
    "    torch.save(test_model, model_path)\n",
    "\n",
    "\n",
    "### direct creation of pytorch model transformers ###\n",
    "transformer_x_name = 'transformer_x_pytorch'\n",
    "transformer_y_name = 'transformer_y_pytorch'\n",
    "\n",
    "transformer_x_path = '../data/' + transformer_x_name + '.pth'\n",
    "transformer_y_path = '../data/' + transformer_y_name + '.pth'\n",
    "\n",
    "# save pytorch versions of injector surrogate model's transformers \n",
    "if os.path.exists(transformer_x_path) == False or os.stat(transformer_x_path).st_size <= 0: \n",
    "    print(f'saving {transformer_x_name} and {transformer_y_name} to data')\n",
    "    transformer_x = MinMaxScaler_PyTorch(Model.transformer_x)\n",
    "    transformer_y = MinMaxScaler_PyTorch(Model.transformer_y)\n",
    "\n",
    "    torch.save(transformer_x, transformer_x_path)\n",
    "    torch.save(transformer_y, transformer_y_path)\n"
   ],
   "outputs": [
    {
     "output_type": "stream",
     "name": "stderr",
     "text": [
      "2022-08-11 08:46:23.105846: I tensorflow/core/platform/cpu_feature_guard.cc:142] This TensorFlow binary is optimized with oneAPI Deep Neural Network Library (oneDNN) to use the following CPU instructions in performance-critical operations:  SSE4.1 SSE4.2\n",
      "To enable them in other operations, rebuild TensorFlow with the appropriate compiler flags.\n"
     ]
    }
   ],
   "metadata": {}
  },
  {
   "cell_type": "code",
   "execution_count": 3,
   "source": [
    "### load existing pytorch model with Surrogate_NN ### \n",
    "PyTorch_Model = Surrogate_NN(pytorch=True)\n",
    "\n",
    "PyTorch_Model.load_saved_model(model_path = '../models/', \n",
    "                       model_name = 'Injector_Surrogate_NN_PyTorch')\n",
    "\n",
    "PyTorch_Model.load_scaling(scalerfilex = '../data/transformer_x_pytorch.pth', \n",
    "                   scalerfiley = '../data/transformer_y_pytorch.pth')\n",
    "\n",
    "PyTorch_Model.take_log_out = False\n",
    "\n",
    "print(PyTorch_Model)"
   ],
   "outputs": [
    {
     "output_type": "stream",
     "name": "stdout",
     "text": [
      "<injector_surrogate_quads.Surrogate_NN object at 0x7fe1c090a850>\n"
     ]
    }
   ],
   "metadata": {}
  },
  {
   "cell_type": "code",
   "execution_count": 5,
   "source": [
    "# verify that original injector surrogate model and new pytorch model are the same\n",
    "keras_test_point = Model.sim_to_machine(np.asarray(ref_point))\n",
    "torch_test_point = torch.as_tensor(Model.sim_to_machine(ref_point))\n",
    "# print(keras_test_point)\n",
    "# print(torch_test_point)\n",
    "\n",
    "# original surrogate \n",
    "keras_out = Model.pred_machine_units(keras_test_point)\n",
    "print(f'orig: {keras_out}')\n",
    "\n",
    "# PyTorch surrogate\n",
    "torch_out = PyTorch_Model.pred_machine_units(torch_test_point)\n",
    "print(f'pytorch: {torch_out.detach()}')\n"
   ],
   "outputs": [
    {
     "output_type": "stream",
     "name": "stdout",
     "text": [
      "orig: [[1.2124054e-04 1.1827494e-04 4.6100092e-04 5.5473919e-07 5.6714555e-07]]\n",
      "pytorch: tensor([[1.2124e-04, 1.1827e-04, 4.6100e-04, 5.5474e-07, 5.6715e-07]],\n",
      "       dtype=torch.float64)\n"
     ]
    }
   ],
   "metadata": {}
  },
  {
   "cell_type": "code",
   "execution_count": null,
   "source": [],
   "outputs": [],
   "metadata": {}
  }
 ],
 "metadata": {
  "kernelspec": {
   "name": "python3",
   "display_name": "Python 3.8.13 64-bit ('baxenv': conda)"
  },
  "language_info": {
   "codemirror_mode": {
    "name": "ipython",
    "version": 3
   },
   "file_extension": ".py",
   "mimetype": "text/x-python",
   "name": "python",
   "nbconvert_exporter": "python",
   "pygments_lexer": "ipython3",
   "version": "3.8.13"
  },
  "interpreter": {
   "hash": "1b5f70a3ad72b4c9068574509e3a0dfc0f3358b3c11cb6bf99f482c84ce18336"
  }
 },
 "nbformat": 4,
 "nbformat_minor": 5
}