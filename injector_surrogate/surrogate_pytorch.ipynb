{
 "cells": [
  {
   "cell_type": "code",
   "execution_count": 1,
   "id": "a1c6a567-fd34-48db-bb93-57908b5fe099",
   "metadata": {},
   "outputs": [],
   "source": [
    "from injector_surrogate_quads import Surrogate_NN\n",
    "import torch\n",
    "import torch.nn as nn\n",
    "\n",
    "import sys,os\n",
    "sys.path.append('../configs')\n",
    "#Sim reference point to optimize around\n",
    "from ref_config import ref_point"
   ]
  },
  {
   "cell_type": "code",
   "execution_count": 2,
   "id": "9346e4ee-b885-4643-a7a8-d549d6d78c01",
   "metadata": {},
   "outputs": [
    {
     "name": "stderr",
     "output_type": "stream",
     "text": [
      "2022-07-09 23:47:13.085082: I tensorflow/core/platform/cpu_feature_guard.cc:142] This TensorFlow binary is optimized with oneAPI Deep Neural Network Library (oneDNN) to use the following CPU instructions in performance-critical operations:  SSE4.1 SSE4.2 AVX AVX2 FMA\n",
      "To enable them in other operations, rebuild TensorFlow with the appropriate compiler flags.\n"
     ]
    }
   ],
   "source": [
    "from tensorflow.keras.layers import InputLayer, Dense, Dropout\n",
    "\n",
    "Model = Surrogate_NN()\n",
    "\n",
    "Model.load_saved_model(model_path = '../models/', \\\n",
    "                       model_name = 'model_OTR2_NA_rms_emit_elu_2021-07-27T19_54_57-07_00')\n",
    "Model.load_scaling()\n",
    "Model.take_log_out = False\n",
    "\n",
    "# print(Model.model_1.summary())\n",
    "\n",
    "class Surrogate_NN_PyTorch(nn.Module):\n",
    "    def __init__(self, model=None):\n",
    "        super(Surrogate_NN_PyTorch, self).__init__()\n",
    "        \n",
    "        self.modules = []\n",
    "\n",
    "        if model != None: \n",
    "            for layer in model.model_1.layers:  \n",
    "                config = layer.get_config()\n",
    "                weights = layer.get_weights()\n",
    "\n",
    "                if (isinstance(layer,Dense)):\n",
    "                    w = torch.as_tensor(weights[0])\n",
    "                    b = torch.as_tensor(weights[1])\n",
    "\n",
    "                    linear = nn.Linear(w.shape[0], \n",
    "                                        w.shape[1], \n",
    "                                        bias=config[\"use_bias\"])\n",
    "\n",
    "                    with torch.no_grad():\n",
    "                        linear.weight = torch.nn.Parameter(w.transpose(0,1))\n",
    "                        linear.bias = torch.nn.Parameter(b)\n",
    "\n",
    "                    self.modules.append(linear) \n",
    "\n",
    "                    # activation function\n",
    "                    if (config[\"activation\"]=='elu'):\n",
    "                        self.modules.append(nn.ELU())\n",
    "\n",
    "                elif (isinstance(layer,Dropout)):\n",
    "                    self.modules.append(nn.Dropout(p=config[\"rate\"]))\n",
    "\n",
    "                elif (isinstance(layer,InputLayer) == False):\n",
    "                    print(\"error\")\n",
    "        \n",
    "        self.network = nn.Sequential(*self.modules)\n",
    "    \n",
    "    def forward(self, x):\n",
    "        y = self.network(x)\n",
    "        return y\n",
    "\n",
    "test_model = Surrogate_NN_PyTorch(Model)\n",
    "test_model.eval()\n",
    "torch.save(test_model, '../models/Surrogate_NN_PyTorch.pth')"
   ]
  },
  {
   "cell_type": "code",
   "execution_count": 3,
   "id": "752c7413-d9e8-4af9-9c74-6305ce72142a",
   "metadata": {},
   "outputs": [],
   "source": [
    "class MinMaxScaler_PyTorch(object):\n",
    "    def __init__(self, transformer):\n",
    "        super(MinMaxScaler_PyTorch, self).__init__()\n",
    "        self.scale = torch.as_tensor(transformer.scale_)\n",
    "        self.min = torch.as_tensor(transformer.min_)\n",
    "\n",
    "    def transform(self, x): \n",
    "        x *= self.scale\n",
    "        x += self.min\n",
    "        return x\n",
    "    \n",
    "    def inverse_transform(self, x):\n",
    "        x -= self.min\n",
    "        x /= self.scale\n",
    "        return x"
   ]
  },
  {
   "cell_type": "code",
   "execution_count": 4,
   "id": "2d3daeb0-8b6c-4752-a34c-021fe552fd16",
   "metadata": {},
   "outputs": [
    {
     "name": "stdout",
     "output_type": "stream",
     "text": [
      "[[1.2124054e-04 1.1827494e-04 4.6100092e-04 5.5473919e-07 5.6714555e-07]]\n",
      "tensor([[1.2124e-04, 1.1827e-04, 4.6100e-04, 5.5474e-07, 5.6715e-07]],\n",
      "       dtype=torch.float64)\n"
     ]
    },
    {
     "name": "stderr",
     "output_type": "stream",
     "text": [
      "2022-07-09 23:47:13.325126: I tensorflow/compiler/mlir/mlir_graph_optimization_pass.cc:116] None of the MLIR optimization passes are enabled (registered 2)\n",
      "2022-07-09 23:47:13.327434: I tensorflow/core/platform/profile_utils/cpu_utils.cc:112] CPU Frequency: 1996125000 Hz\n"
     ]
    }
   ],
   "source": [
    "import numpy as np\n",
    "n_samples = 3\n",
    "n_var = 9\n",
    "\n",
    "test_transformer_x = MinMaxScaler_PyTorch(Model.transformer_x)\n",
    "test_transformer_y = MinMaxScaler_PyTorch(Model.transformer_y)\n",
    "\n",
    "torch.save(test_transformer_x, '../data/transformer_x_pytorch.pth')\n",
    "torch.save(test_transformer_y, '../data/transformer_y_pytorch.pth')\n",
    "\n",
    "keras_test_point = Model.sim_to_machine(np.asarray(ref_point))\n",
    "torch_test_point = torch.as_tensor(Model.sim_to_machine(ref_point))\n",
    "# print(keras_test_point)\n",
    "# print(torch_test_point)\n",
    "\n",
    "# original surrogate \n",
    "keras = Model.pred_machine_units(keras_test_point)\n",
    "print(keras)\n",
    "\n",
    "# PyTorch surrogate\n",
    "# print(Model.transformer_x.transform(test_point))\n",
    "\n",
    "col = []\n",
    "scale = []\n",
    "for i in range(0,len(Model.model_in_list)):\n",
    "    col.append(Model.loc_in[Model.model_in_list[i]])\n",
    "    scale.append(Model.pv_to_sim_factor[Model.sim_name_to_pv_name[Model.model_in_list[i]]])\n",
    "\n",
    "torch_test_point[:,col] =  torch_test_point[:,col] * torch.tensor(scale)\n",
    "normed_x = test_transformer_x.transform(torch_test_point)\n",
    "\n",
    "test_model.double()\n",
    "pytorch = test_model(normed_x).detach()\n",
    "\n",
    "# print(ha)\n",
    "print(test_transformer_y.inverse_transform(pytorch.detach()))"
   ]
  },
  {
   "cell_type": "code",
   "execution_count": null,
   "id": "5d7d9b0c-9c5b-437a-a90d-4099306d79c9",
   "metadata": {},
   "outputs": [],
   "source": []
  },
  {
   "cell_type": "code",
   "execution_count": null,
   "id": "a4d31688-0f3f-43f4-9aa3-a7e2ec71cc0f",
   "metadata": {},
   "outputs": [],
   "source": []
  }
 ],
 "metadata": {
  "kernelspec": {
   "display_name": "Python 3 (ipykernel)",
   "language": "python",
   "name": "python3"
  },
  "language_info": {
   "codemirror_mode": {
    "name": "ipython",
    "version": 3
   },
   "file_extension": ".py",
   "mimetype": "text/x-python",
   "name": "python",
   "nbconvert_exporter": "python",
   "pygments_lexer": "ipython3",
   "version": "3.7.13"
  }
 },
 "nbformat": 4,
 "nbformat_minor": 5
}
